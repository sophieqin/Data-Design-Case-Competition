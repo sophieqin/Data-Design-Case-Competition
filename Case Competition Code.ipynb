{
 "cells": [
  {
   "cell_type": "code",
   "execution_count": 1,
   "metadata": {
    "ExecuteTime": {
     "end_time": "2018-05-04T03:16:35.217634Z",
     "start_time": "2018-05-04T03:16:34.285Z"
    },
    "scrolled": true
   },
   "outputs": [
    {
     "name": "stdout",
     "output_type": "stream",
     "text": [
      "[1] 52843     7\n"
     ]
    },
    {
     "data": {
      "text/html": [
       "<table>\n",
       "<thead><tr><th scope=col>product_id</th><th scope=col>price</th><th scope=col>brand_id</th><th scope=col>division</th><th scope=col>category</th><th scope=col>subcategory</th><th scope=col>fineline</th></tr></thead>\n",
       "<tbody>\n",
       "\t<tr><td>42879                           </td><td>10                              </td><td>359                             </td><td>15                              </td><td>11                              </td><td>46                              </td><td>6f1ba46da1abfd8fa10ad4055427ebe1</td></tr>\n",
       "\t<tr><td>24926                           </td><td> 9                              </td><td> 70                             </td><td>15                              </td><td>11                              </td><td>46                              </td><td>dcda54e29207294d8e7e1b537338b1c0</td></tr>\n",
       "\t<tr><td>34251                           </td><td>13                              </td><td>213                             </td><td>15                              </td><td>11                              </td><td>46                              </td><td>d799ddd9de9cc9964d5e0d936d6f284d</td></tr>\n",
       "\t<tr><td> 1410                           </td><td> 6                              </td><td> 80                             </td><td>15                              </td><td>11                              </td><td>46                              </td><td>943bbfd3b1b538841834b5fe8f3f18ff</td></tr>\n",
       "\t<tr><td>12491                           </td><td>28                              </td><td> 32                             </td><td>15                              </td><td>11                              </td><td>46                              </td><td>b4b5b5ca5d5fc4e8fe2f24c655cec987</td></tr>\n",
       "\t<tr><td>49548                           </td><td>19                              </td><td>349                             </td><td>15                              </td><td>11                              </td><td>46                              </td><td>f6a7bf0dd91a7349da4c2fb95cb61b1f</td></tr>\n",
       "</tbody>\n",
       "</table>\n"
      ],
      "text/latex": [
       "\\begin{tabular}{r|lllllll}\n",
       " product\\_id & price & brand\\_id & division & category & subcategory & fineline\\\\\n",
       "\\hline\n",
       "\t 42879                            & 10                               & 359                              & 15                               & 11                               & 46                               & 6f1ba46da1abfd8fa10ad4055427ebe1\\\\\n",
       "\t 24926                            &  9                               &  70                              & 15                               & 11                               & 46                               & dcda54e29207294d8e7e1b537338b1c0\\\\\n",
       "\t 34251                            & 13                               & 213                              & 15                               & 11                               & 46                               & d799ddd9de9cc9964d5e0d936d6f284d\\\\\n",
       "\t  1410                            &  6                               &  80                              & 15                               & 11                               & 46                               & 943bbfd3b1b538841834b5fe8f3f18ff\\\\\n",
       "\t 12491                            & 28                               &  32                              & 15                               & 11                               & 46                               & b4b5b5ca5d5fc4e8fe2f24c655cec987\\\\\n",
       "\t 49548                            & 19                               & 349                              & 15                               & 11                               & 46                               & f6a7bf0dd91a7349da4c2fb95cb61b1f\\\\\n",
       "\\end{tabular}\n"
      ],
      "text/markdown": [
       "\n",
       "product_id | price | brand_id | division | category | subcategory | fineline | \n",
       "|---|---|---|---|---|---|\n",
       "| 42879                            | 10                               | 359                              | 15                               | 11                               | 46                               | 6f1ba46da1abfd8fa10ad4055427ebe1 | \n",
       "| 24926                            |  9                               |  70                              | 15                               | 11                               | 46                               | dcda54e29207294d8e7e1b537338b1c0 | \n",
       "| 34251                            | 13                               | 213                              | 15                               | 11                               | 46                               | d799ddd9de9cc9964d5e0d936d6f284d | \n",
       "|  1410                            |  6                               |  80                              | 15                               | 11                               | 46                               | 943bbfd3b1b538841834b5fe8f3f18ff | \n",
       "| 12491                            | 28                               |  32                              | 15                               | 11                               | 46                               | b4b5b5ca5d5fc4e8fe2f24c655cec987 | \n",
       "| 49548                            | 19                               | 349                              | 15                               | 11                               | 46                               | f6a7bf0dd91a7349da4c2fb95cb61b1f | \n",
       "\n",
       "\n"
      ],
      "text/plain": [
       "  product_id price brand_id division category subcategory\n",
       "1 42879      10    359      15       11       46         \n",
       "2 24926       9     70      15       11       46         \n",
       "3 34251      13    213      15       11       46         \n",
       "4  1410       6     80      15       11       46         \n",
       "5 12491      28     32      15       11       46         \n",
       "6 49548      19    349      15       11       46         \n",
       "  fineline                        \n",
       "1 6f1ba46da1abfd8fa10ad4055427ebe1\n",
       "2 dcda54e29207294d8e7e1b537338b1c0\n",
       "3 d799ddd9de9cc9964d5e0d936d6f284d\n",
       "4 943bbfd3b1b538841834b5fe8f3f18ff\n",
       "5 b4b5b5ca5d5fc4e8fe2f24c655cec987\n",
       "6 f6a7bf0dd91a7349da4c2fb95cb61b1f"
      ]
     },
     "metadata": {},
     "output_type": "display_data"
    }
   ],
   "source": [
    "# load product data\n",
    "products <- read.csv('/home/rubione/work/public/data/products.csv')\n",
    "print(dim(products))\n",
    "head(products)"
   ]
  },
  {
   "cell_type": "code",
   "execution_count": 2,
   "metadata": {
    "ExecuteTime": {
     "end_time": "2018-05-04T03:16:42.648807Z",
     "start_time": "2018-05-04T03:16:34.287Z"
    }
   },
   "outputs": [
    {
     "name": "stdout",
     "output_type": "stream",
     "text": [
      "[1] 1000000       2\n"
     ]
    },
    {
     "data": {
      "text/html": [
       "<table>\n",
       "<thead><tr><th scope=col>customer_id</th><th scope=col>registration_date</th></tr></thead>\n",
       "<tbody>\n",
       "\t<tr><td>25540437           </td><td>2007-09-28 00:00:00</td></tr>\n",
       "\t<tr><td>13979277           </td><td>2007-10-07 00:00:00</td></tr>\n",
       "\t<tr><td>25381493           </td><td>2007-10-07 00:00:00</td></tr>\n",
       "\t<tr><td>41970813           </td><td>2007-10-07 00:00:00</td></tr>\n",
       "\t<tr><td>24930117           </td><td>2007-10-07 00:00:00</td></tr>\n",
       "\t<tr><td>39871125           </td><td>2007-10-07 00:00:00</td></tr>\n",
       "</tbody>\n",
       "</table>\n"
      ],
      "text/latex": [
       "\\begin{tabular}{r|ll}\n",
       " customer\\_id & registration\\_date\\\\\n",
       "\\hline\n",
       "\t 25540437            & 2007-09-28 00:00:00\\\\\n",
       "\t 13979277            & 2007-10-07 00:00:00\\\\\n",
       "\t 25381493            & 2007-10-07 00:00:00\\\\\n",
       "\t 41970813            & 2007-10-07 00:00:00\\\\\n",
       "\t 24930117            & 2007-10-07 00:00:00\\\\\n",
       "\t 39871125            & 2007-10-07 00:00:00\\\\\n",
       "\\end{tabular}\n"
      ],
      "text/markdown": [
       "\n",
       "customer_id | registration_date | \n",
       "|---|---|---|---|---|---|\n",
       "| 25540437            | 2007-09-28 00:00:00 | \n",
       "| 13979277            | 2007-10-07 00:00:00 | \n",
       "| 25381493            | 2007-10-07 00:00:00 | \n",
       "| 41970813            | 2007-10-07 00:00:00 | \n",
       "| 24930117            | 2007-10-07 00:00:00 | \n",
       "| 39871125            | 2007-10-07 00:00:00 | \n",
       "\n",
       "\n"
      ],
      "text/plain": [
       "  customer_id registration_date  \n",
       "1 25540437    2007-09-28 00:00:00\n",
       "2 13979277    2007-10-07 00:00:00\n",
       "3 25381493    2007-10-07 00:00:00\n",
       "4 41970813    2007-10-07 00:00:00\n",
       "5 24930117    2007-10-07 00:00:00\n",
       "6 39871125    2007-10-07 00:00:00"
      ]
     },
     "metadata": {},
     "output_type": "display_data"
    }
   ],
   "source": [
    "# load customer data\n",
    "customers <- read.csv('/home/rubione/work/public/data/customers.csv')\n",
    "print(dim(customers))\n",
    "head(customers)"
   ]
  },
  {
   "cell_type": "code",
   "execution_count": 3,
   "metadata": {
    "ExecuteTime": {
     "end_time": "2018-05-04T03:17:17.941053Z",
     "start_time": "2018-05-04T03:16:34.289Z"
    }
   },
   "outputs": [
    {
     "data": {
      "text/html": [
       "<table>\n",
       "<thead><tr><th></th><th scope=col>Package</th><th scope=col>LibPath</th><th scope=col>Version</th><th scope=col>Priority</th><th scope=col>Depends</th><th scope=col>Imports</th><th scope=col>LinkingTo</th><th scope=col>Suggests</th><th scope=col>Enhances</th><th scope=col>License</th><th scope=col>License_is_FOSS</th><th scope=col>License_restricts_use</th><th scope=col>OS_type</th><th scope=col>MD5sum</th><th scope=col>NeedsCompilation</th><th scope=col>Built</th></tr></thead>\n",
       "<tbody>\n",
       "\t<tr><th scope=row>zoo</th><td>zoo                                                                                                    </td><td>/home/rubione/work/private/UserLibrary                                                                 </td><td>1.8-1                                                                                                  </td><td>NA                                                                                                     </td><td>R (&gt;= 2.10.0), stats                                                                                </td><td>utils, graphics, grDevices, lattice (&gt;= 0.20-27)                                                    </td><td>NA                                                                                                     </td><td>coda, chron, DAAG, fts, ggplot2, mondate, scales,\n",
       "strucchange, timeDate, timeSeries, tis, tseries, xts</td><td>NA                                                                                                     </td><td>GPL-2 | GPL-3                                                                                          </td><td>NA                                                                                                     </td><td>NA                                                                                                     </td><td>NA                                                                                                     </td><td>NA                                                                                                     </td><td>yes                                                                                                    </td><td>3.3.3                                                                                                  </td></tr>\n",
       "</tbody>\n",
       "</table>\n"
      ],
      "text/latex": [
       "\\begin{tabular}{r|llllllllllllllll}\n",
       "  & Package & LibPath & Version & Priority & Depends & Imports & LinkingTo & Suggests & Enhances & License & License\\_is\\_FOSS & License\\_restricts\\_use & OS\\_type & MD5sum & NeedsCompilation & Built\\\\\n",
       "\\hline\n",
       "\tzoo & zoo                                                                                                     & /home/rubione/work/private/UserLibrary                                                                  & 1.8-1                                                                                                   & NA                                                                                                      & R (>= 2.10.0), stats                                                                                    & utils, graphics, grDevices, lattice (>= 0.20-27)                                                        & NA                                                                                                      & coda, chron, DAAG, fts, ggplot2, mondate, scales,\n",
       "strucchange, timeDate, timeSeries, tis, tseries, xts & NA                                                                                                      & GPL-2 \\textbar{} GPL-3                                                                                 & NA                                                                                                      & NA                                                                                                      & NA                                                                                                      & NA                                                                                                      & yes                                                                                                     & 3.3.3                                                                                                  \\\\\n",
       "\\end{tabular}\n"
      ],
      "text/markdown": [
       "\n",
       "| <!--/--> | Package | LibPath | Version | Priority | Depends | Imports | LinkingTo | Suggests | Enhances | License | License_is_FOSS | License_restricts_use | OS_type | MD5sum | NeedsCompilation | Built | \n",
       "|---|\n",
       "| zoo | zoo                                                                                                     | /home/rubione/work/private/UserLibrary                                                                  | 1.8-1                                                                                                   | NA                                                                                                      | R (>= 2.10.0), stats                                                                                    | utils, graphics, grDevices, lattice (>= 0.20-27)                                                        | NA                                                                                                      | coda, chron, DAAG, fts, ggplot2, mondate, scales,\n",
       "strucchange, timeDate, timeSeries, tis, tseries, xts | NA                                                                                                      | GPL-2 | GPL-3                                                                                           | NA                                                                                                      | NA                                                                                                      | NA                                                                                                      | NA                                                                                                      | yes                                                                                                     | 3.3.3                                                                                                   | \n",
       "\n",
       "\n"
      ],
      "text/plain": [
       "    Package LibPath                                Version Priority\n",
       "zoo zoo     /home/rubione/work/private/UserLibrary 1.8-1   NA      \n",
       "    Depends              Imports                                         \n",
       "zoo R (>= 2.10.0), stats utils, graphics, grDevices, lattice (>= 0.20-27)\n",
       "    LinkingTo\n",
       "zoo NA       \n",
       "    Suggests                                                                                               \n",
       "zoo coda, chron, DAAG, fts, ggplot2, mondate, scales,\\nstrucchange, timeDate, timeSeries, tis, tseries, xts\n",
       "    Enhances License       License_is_FOSS License_restricts_use OS_type MD5sum\n",
       "zoo NA       GPL-2 | GPL-3 NA              NA                    NA      NA    \n",
       "    NeedsCompilation Built\n",
       "zoo yes              3.3.3"
      ]
     },
     "metadata": {},
     "output_type": "display_data"
    },
    {
     "name": "stderr",
     "output_type": "stream",
     "text": [
      "\n",
      "Attaching package: ‘dplyr’\n",
      "\n",
      "The following objects are masked from ‘package:stats’:\n",
      "\n",
      "    filter, lag\n",
      "\n",
      "The following objects are masked from ‘package:base’:\n",
      "\n",
      "    intersect, setdiff, setequal, union\n",
      "\n",
      "\n",
      "Attaching package: ‘lubridate’\n",
      "\n",
      "The following object is masked from ‘package:base’:\n",
      "\n",
      "    date\n",
      "\n"
     ]
    }
   ],
   "source": [
    "# installed.packages()[, c(1, 3)]\n",
    "# dir.create('UserLibrary')\n",
    ".libPaths( c( .libPaths(), 'UserLibrary') )\n",
    "# install.packages('forcats', lib='UserLibrary')\n",
    "# install.packages('forecast', lib='UserLibrary')\n",
    "tail(installed.packages(), n=1)\n",
    "library(dplyr)\n",
    "library(lubridate)\n",
    "library(tidyr)\n",
    "library(forecast)\n",
    "library(forcats)"
   ]
  },
  {
   "cell_type": "code",
   "execution_count": 4,
   "metadata": {
    "ExecuteTime": {
     "end_time": "2018-05-04T03:21:51.353343Z",
     "start_time": "2018-05-04T03:16:34.290Z"
    }
   },
   "outputs": [
    {
     "name": "stdout",
     "output_type": "stream",
     "text": [
      "[1] 18242155        6\n"
     ]
    },
    {
     "data": {
      "text/html": [
       "<table>\n",
       "<thead><tr><th scope=col>customer_id</th><th scope=col>product_id</th><th scope=col>sale_id</th><th scope=col>transaction_date</th><th scope=col>product_quantity</th><th scope=col>product_price</th></tr></thead>\n",
       "<tbody>\n",
       "\t<tr><td>19598045                        </td><td>29894                           </td><td>b376bf141dbadfee5c9f53b33cbe39ac</td><td>2009-12-21                      </td><td>1                               </td><td> 4                              </td></tr>\n",
       "\t<tr><td>39801397                        </td><td>30483                           </td><td>d0a12cc99c7fec2380e8781416a1403c</td><td>2009-12-14                      </td><td>1                               </td><td> 7                              </td></tr>\n",
       "\t<tr><td>49744497                        </td><td>30678                           </td><td>bf6bc6d2d575a4f17c0e82efe29a7585</td><td>2009-10-12                      </td><td>1                               </td><td> 6                              </td></tr>\n",
       "\t<tr><td>24637068                        </td><td>23630                           </td><td>27aa9ff7c603fdd379dc41c33fd8af3c</td><td>2009-03-09                      </td><td>1                               </td><td> 5                              </td></tr>\n",
       "\t<tr><td>24911294                        </td><td>14004                           </td><td>867718a9254e735f6416975df4131462</td><td>2010-05-30                      </td><td>1                               </td><td>17                              </td></tr>\n",
       "\t<tr><td>42953928                        </td><td>23069                           </td><td>32df6aadce7ac5b2bb052a9bb5fe2c3f</td><td>2010-06-06                      </td><td>1                               </td><td> 9                              </td></tr>\n",
       "</tbody>\n",
       "</table>\n"
      ],
      "text/latex": [
       "\\begin{tabular}{r|llllll}\n",
       " customer\\_id & product\\_id & sale\\_id & transaction\\_date & product\\_quantity & product\\_price\\\\\n",
       "\\hline\n",
       "\t 19598045                         & 29894                            & b376bf141dbadfee5c9f53b33cbe39ac & 2009-12-21                       & 1                                &  4                              \\\\\n",
       "\t 39801397                         & 30483                            & d0a12cc99c7fec2380e8781416a1403c & 2009-12-14                       & 1                                &  7                              \\\\\n",
       "\t 49744497                         & 30678                            & bf6bc6d2d575a4f17c0e82efe29a7585 & 2009-10-12                       & 1                                &  6                              \\\\\n",
       "\t 24637068                         & 23630                            & 27aa9ff7c603fdd379dc41c33fd8af3c & 2009-03-09                       & 1                                &  5                              \\\\\n",
       "\t 24911294                         & 14004                            & 867718a9254e735f6416975df4131462 & 2010-05-30                       & 1                                & 17                              \\\\\n",
       "\t 42953928                         & 23069                            & 32df6aadce7ac5b2bb052a9bb5fe2c3f & 2010-06-06                       & 1                                &  9                              \\\\\n",
       "\\end{tabular}\n"
      ],
      "text/markdown": [
       "\n",
       "customer_id | product_id | sale_id | transaction_date | product_quantity | product_price | \n",
       "|---|---|---|---|---|---|\n",
       "| 19598045                         | 29894                            | b376bf141dbadfee5c9f53b33cbe39ac | 2009-12-21                       | 1                                |  4                               | \n",
       "| 39801397                         | 30483                            | d0a12cc99c7fec2380e8781416a1403c | 2009-12-14                       | 1                                |  7                               | \n",
       "| 49744497                         | 30678                            | bf6bc6d2d575a4f17c0e82efe29a7585 | 2009-10-12                       | 1                                |  6                               | \n",
       "| 24637068                         | 23630                            | 27aa9ff7c603fdd379dc41c33fd8af3c | 2009-03-09                       | 1                                |  5                               | \n",
       "| 24911294                         | 14004                            | 867718a9254e735f6416975df4131462 | 2010-05-30                       | 1                                | 17                               | \n",
       "| 42953928                         | 23069                            | 32df6aadce7ac5b2bb052a9bb5fe2c3f | 2010-06-06                       | 1                                |  9                               | \n",
       "\n",
       "\n"
      ],
      "text/plain": [
       "  customer_id product_id sale_id                          transaction_date\n",
       "1 19598045    29894      b376bf141dbadfee5c9f53b33cbe39ac 2009-12-21      \n",
       "2 39801397    30483      d0a12cc99c7fec2380e8781416a1403c 2009-12-14      \n",
       "3 49744497    30678      bf6bc6d2d575a4f17c0e82efe29a7585 2009-10-12      \n",
       "4 24637068    23630      27aa9ff7c603fdd379dc41c33fd8af3c 2009-03-09      \n",
       "5 24911294    14004      867718a9254e735f6416975df4131462 2010-05-30      \n",
       "6 42953928    23069      32df6aadce7ac5b2bb052a9bb5fe2c3f 2010-06-06      \n",
       "  product_quantity product_price\n",
       "1 1                 4           \n",
       "2 1                 7           \n",
       "3 1                 6           \n",
       "4 1                 5           \n",
       "5 1                17           \n",
       "6 1                 9           "
      ]
     },
     "metadata": {},
     "output_type": "display_data"
    }
   ],
   "source": [
    "# load transaction data\n",
    "transactions <- read.csv('/home/rubione/work/public/data/transactions.csv') %>% \n",
    "    mutate(transaction_date=parse_date_time(transaction_date, orders='ymd HMS'))\n",
    "print(dim(transactions))\n",
    "head(transactions)"
   ]
  },
  {
   "cell_type": "code",
   "execution_count": 5,
   "metadata": {
    "ExecuteTime": {
     "end_time": "2018-05-04T03:21:51.578059Z",
     "start_time": "2018-05-04T03:16:34.291Z"
    }
   },
   "outputs": [],
   "source": [
    "# develop a function to extract rfm\n",
    "extract_rfm <- function(transactions, customers){\n",
    "transactions %>% \n",
    "mutate(dtdiff=as.numeric(difftime(max(transaction_date), transaction_date, units='days'))) %>%\n",
    "group_by(customer_id) %>% \n",
    "summarise(\n",
    "    recency=360 - max(dtdiff),\n",
    "    frequency=n(),\n",
    "    monetary=sum(product_price),\n",
    ") %>%\n",
    "mutate(\n",
    "    recency=ntile(recency, 10), \n",
    "    frequency=ntile(frequency, 10),\n",
    "    monetary=ntile(monetary, 10)\n",
    ") %>%\n",
    "right_join(customers, by='customer_id') %>%\n",
    "select(customer_id, recency, frequency, monetary) %>%\n",
    "mutate_if(is.numeric , replace_na, replace = 0)}"
   ]
  },
  {
   "cell_type": "code",
   "execution_count": 6,
   "metadata": {
    "ExecuteTime": {
     "end_time": "2018-05-04T03:21:53.184760Z",
     "start_time": "2018-05-04T03:16:34.293Z"
    }
   },
   "outputs": [
    {
     "name": "stdout",
     "output_type": "stream",
     "text": [
      "[1] \"Start at 2009-01-05 until 2010-12-26\"\n"
     ]
    }
   ],
   "source": [
    "# seperate transaction data into training data and test data\n",
    "print(paste(\"Start at\", min(transactions$transaction_date), \"until\", max(transactions$transaction_date)))\n",
    "train_txns <- transactions %>% filter(transaction_date >= '2009-01-01' & transaction_date < '2010-01-01')\n",
    "test_txns <- transactions %>% filter(transaction_date >= '2010-01-01' & transaction_date < '2010-02-01')"
   ]
  },
  {
   "cell_type": "code",
   "execution_count": 7,
   "metadata": {
    "ExecuteTime": {
     "end_time": "2018-05-04T03:21:53.565060Z",
     "start_time": "2018-05-04T03:16:34.294Z"
    }
   },
   "outputs": [
    {
     "name": "stdout",
     "output_type": "stream",
     "text": [
      "[1] \"Train: \"\n",
      "[1] \" * rows: 6978669\"\n",
      "[1] \" * min date: 2009-01-05\"\n",
      "[1] \" * max date: 2009-12-28\"\n",
      "[1] \"Test: \"\n",
      "[1] \" * rows: 699979\"\n",
      "[1] \" * min date: 2010-01-04\"\n",
      "[1] \" * max date: 2010-01-25\"\n"
     ]
    }
   ],
   "source": [
    "print('Train: ')\n",
    "print(paste(' * rows:', dim(train_txns)[1]))\n",
    "print(paste(' * min date:', min(train_txns$transaction_date)))\n",
    "print(paste(' * max date:', max(train_txns$transaction_date)))\n",
    "\n",
    "print('Test: ')\n",
    "print(paste(' * rows:', dim(test_txns)[1]))\n",
    "print(paste(' * min date:', min(test_txns$transaction_date)))\n",
    "print(paste(' * max date:', max(test_txns$transaction_date)))"
   ]
  },
  {
   "cell_type": "code",
   "execution_count": 8,
   "metadata": {
    "ExecuteTime": {
     "end_time": "2018-05-04T03:22:20.876630Z",
     "start_time": "2018-05-04T03:16:34.295Z"
    }
   },
   "outputs": [
    {
     "data": {
      "text/html": [
       "<table>\n",
       "<thead><tr><th scope=col>customer_id</th><th scope=col>recency</th><th scope=col>frequency</th><th scope=col>monetary</th></tr></thead>\n",
       "<tbody>\n",
       "\t<tr><td>25540437</td><td>6       </td><td> 9      </td><td>10      </td></tr>\n",
       "\t<tr><td>13979277</td><td>6       </td><td> 8      </td><td> 7      </td></tr>\n",
       "\t<tr><td>25381493</td><td>1       </td><td>10      </td><td>10      </td></tr>\n",
       "\t<tr><td>41970813</td><td>3       </td><td> 8      </td><td>10      </td></tr>\n",
       "\t<tr><td>24930117</td><td>1       </td><td>10      </td><td>10      </td></tr>\n",
       "\t<tr><td>39871125</td><td>9       </td><td> 2      </td><td> 1      </td></tr>\n",
       "</tbody>\n",
       "</table>\n"
      ],
      "text/latex": [
       "\\begin{tabular}{r|llll}\n",
       " customer\\_id & recency & frequency & monetary\\\\\n",
       "\\hline\n",
       "\t 25540437 & 6        &  9       & 10      \\\\\n",
       "\t 13979277 & 6        &  8       &  7      \\\\\n",
       "\t 25381493 & 1        & 10       & 10      \\\\\n",
       "\t 41970813 & 3        &  8       & 10      \\\\\n",
       "\t 24930117 & 1        & 10       & 10      \\\\\n",
       "\t 39871125 & 9        &  2       &  1      \\\\\n",
       "\\end{tabular}\n"
      ],
      "text/markdown": [
       "\n",
       "customer_id | recency | frequency | monetary | \n",
       "|---|---|---|---|---|---|\n",
       "| 25540437 | 6        |  9       | 10       | \n",
       "| 13979277 | 6        |  8       |  7       | \n",
       "| 25381493 | 1        | 10       | 10       | \n",
       "| 41970813 | 3        |  8       | 10       | \n",
       "| 24930117 | 1        | 10       | 10       | \n",
       "| 39871125 | 9        |  2       |  1       | \n",
       "\n",
       "\n"
      ],
      "text/plain": [
       "  customer_id recency frequency monetary\n",
       "1 25540437    6        9        10      \n",
       "2 13979277    6        8         7      \n",
       "3 25381493    1       10        10      \n",
       "4 41970813    3        8        10      \n",
       "5 24930117    1       10        10      \n",
       "6 39871125    9        2         1      "
      ]
     },
     "metadata": {},
     "output_type": "display_data"
    }
   ],
   "source": [
    "# develop RFM model\n",
    "features = extract_rfm(train_txns, customers)\n",
    "head(features)"
   ]
  },
  {
   "cell_type": "code",
   "execution_count": 9,
   "metadata": {
    "ExecuteTime": {
     "end_time": "2018-05-04T03:22:21.105470Z",
     "start_time": "2018-05-04T03:16:34.296Z"
    }
   },
   "outputs": [],
   "source": [
    "avg.r = mean(features$recency)\n",
    "avg.f = mean(features$frequency)\n",
    "avg.m = mean(features$monetary)"
   ]
  },
  {
   "cell_type": "code",
   "execution_count": 10,
   "metadata": {
    "ExecuteTime": {
     "end_time": "2018-05-04T03:22:22.999160Z",
     "start_time": "2018-05-04T03:16:34.297Z"
    }
   },
   "outputs": [
    {
     "data": {
      "text/html": [
       "<table>\n",
       "<thead><tr><th scope=col>customer_id</th><th scope=col>recency</th><th scope=col>frequency</th><th scope=col>monetary</th><th scope=col>r</th><th scope=col>f</th><th scope=col>m</th><th scope=col>rfm</th><th scope=col>group</th></tr></thead>\n",
       "<tbody>\n",
       "\t<tr><td>25540437</td><td>6       </td><td> 9      </td><td>10      </td><td>1       </td><td>1       </td><td>1       </td><td>111     </td><td>1       </td></tr>\n",
       "\t<tr><td>13979277</td><td>6       </td><td> 8      </td><td> 7      </td><td>1       </td><td>1       </td><td>1       </td><td>111     </td><td>1       </td></tr>\n",
       "\t<tr><td>25381493</td><td>1       </td><td>10      </td><td>10      </td><td>0       </td><td>1       </td><td>1       </td><td> 11     </td><td>2       </td></tr>\n",
       "\t<tr><td>41970813</td><td>3       </td><td> 8      </td><td>10      </td><td>1       </td><td>1       </td><td>1       </td><td>111     </td><td>1       </td></tr>\n",
       "\t<tr><td>24930117</td><td>1       </td><td>10      </td><td>10      </td><td>0       </td><td>1       </td><td>1       </td><td> 11     </td><td>2       </td></tr>\n",
       "\t<tr><td>39871125</td><td>9       </td><td> 2      </td><td> 1      </td><td>1       </td><td>0       </td><td>0       </td><td>100     </td><td>6       </td></tr>\n",
       "</tbody>\n",
       "</table>\n"
      ],
      "text/latex": [
       "\\begin{tabular}{r|lllllllll}\n",
       " customer\\_id & recency & frequency & monetary & r & f & m & rfm & group\\\\\n",
       "\\hline\n",
       "\t 25540437 & 6        &  9       & 10       & 1        & 1        & 1        & 111      & 1       \\\\\n",
       "\t 13979277 & 6        &  8       &  7       & 1        & 1        & 1        & 111      & 1       \\\\\n",
       "\t 25381493 & 1        & 10       & 10       & 0        & 1        & 1        &  11      & 2       \\\\\n",
       "\t 41970813 & 3        &  8       & 10       & 1        & 1        & 1        & 111      & 1       \\\\\n",
       "\t 24930117 & 1        & 10       & 10       & 0        & 1        & 1        &  11      & 2       \\\\\n",
       "\t 39871125 & 9        &  2       &  1       & 1        & 0        & 0        & 100      & 6       \\\\\n",
       "\\end{tabular}\n"
      ],
      "text/markdown": [
       "\n",
       "customer_id | recency | frequency | monetary | r | f | m | rfm | group | \n",
       "|---|---|---|---|---|---|\n",
       "| 25540437 | 6        |  9       | 10       | 1        | 1        | 1        | 111      | 1        | \n",
       "| 13979277 | 6        |  8       |  7       | 1        | 1        | 1        | 111      | 1        | \n",
       "| 25381493 | 1        | 10       | 10       | 0        | 1        | 1        |  11      | 2        | \n",
       "| 41970813 | 3        |  8       | 10       | 1        | 1        | 1        | 111      | 1        | \n",
       "| 24930117 | 1        | 10       | 10       | 0        | 1        | 1        |  11      | 2        | \n",
       "| 39871125 | 9        |  2       |  1       | 1        | 0        | 0        | 100      | 6        | \n",
       "\n",
       "\n"
      ],
      "text/plain": [
       "  customer_id recency frequency monetary r f m rfm group\n",
       "1 25540437    6        9        10       1 1 1 111 1    \n",
       "2 13979277    6        8         7       1 1 1 111 1    \n",
       "3 25381493    1       10        10       0 1 1  11 2    \n",
       "4 41970813    3        8        10       1 1 1 111 1    \n",
       "5 24930117    1       10        10       0 1 1  11 2    \n",
       "6 39871125    9        2         1       1 0 0 100 6    "
      ]
     },
     "metadata": {},
     "output_type": "display_data"
    }
   ],
   "source": [
    "# divide customer segments according to RFM model\n",
    "features =\n",
    "features%>% \n",
    "mutate(r = ifelse(recency >= avg.r,1,0), f = ifelse(frequency >= avg.f,1,0), m = ifelse(monetary >= avg.m,1,0))\n",
    "features = \n",
    "features%>% \n",
    "mutate(rfm = r*100+f*10+m)\n",
    "features =\n",
    "features%>% \n",
    "mutate(group = ifelse(rfm==111,1,ifelse(rfm==11,2,ifelse(rfm==101,3,ifelse(rfm==1,4,ifelse(rfm==110,5,ifelse(rfm==100,6,ifelse(rfm==10,7,8))))))))\n",
    "head(features)"
   ]
  },
  {
   "cell_type": "code",
   "execution_count": 11,
   "metadata": {
    "ExecuteTime": {
     "end_time": "2018-05-04T03:22:24.321052Z",
     "start_time": "2018-05-04T03:16:34.299Z"
    }
   },
   "outputs": [
    {
     "data": {
      "text/html": [
       "<table>\n",
       "<thead><tr><th scope=col>group</th><th scope=col>customer_id</th></tr></thead>\n",
       "<tbody>\n",
       "\t<tr><td>1     </td><td>300467</td></tr>\n",
       "\t<tr><td>2     </td><td>100240</td></tr>\n",
       "\t<tr><td>3     </td><td> 32915</td></tr>\n",
       "\t<tr><td>4     </td><td>  2044</td></tr>\n",
       "\t<tr><td>5     </td><td> 32261</td></tr>\n",
       "\t<tr><td>6     </td><td> 70023</td></tr>\n",
       "\t<tr><td>7     </td><td>  2698</td></tr>\n",
       "\t<tr><td>8     </td><td>459352</td></tr>\n",
       "</tbody>\n",
       "</table>\n"
      ],
      "text/latex": [
       "\\begin{tabular}{r|ll}\n",
       " group & customer\\_id\\\\\n",
       "\\hline\n",
       "\t 1      & 300467\\\\\n",
       "\t 2      & 100240\\\\\n",
       "\t 3      &  32915\\\\\n",
       "\t 4      &   2044\\\\\n",
       "\t 5      &  32261\\\\\n",
       "\t 6      &  70023\\\\\n",
       "\t 7      &   2698\\\\\n",
       "\t 8      & 459352\\\\\n",
       "\\end{tabular}\n"
      ],
      "text/markdown": [
       "\n",
       "group | customer_id | \n",
       "|---|---|---|---|---|---|---|---|\n",
       "| 1      | 300467 | \n",
       "| 2      | 100240 | \n",
       "| 3      |  32915 | \n",
       "| 4      |   2044 | \n",
       "| 5      |  32261 | \n",
       "| 6      |  70023 | \n",
       "| 7      |   2698 | \n",
       "| 8      | 459352 | \n",
       "\n",
       "\n"
      ],
      "text/plain": [
       "  group customer_id\n",
       "1 1     300467     \n",
       "2 2     100240     \n",
       "3 3      32915     \n",
       "4 4       2044     \n",
       "5 5      32261     \n",
       "6 6      70023     \n",
       "7 7       2698     \n",
       "8 8     459352     "
      ]
     },
     "metadata": {},
     "output_type": "display_data"
    }
   ],
   "source": [
    "# see the composition of \"basket value\"\n",
    "aggregate(customer_id~group,features,FUN = function(x) length(unique(x)))"
   ]
  },
  {
   "cell_type": "code",
   "execution_count": 12,
   "metadata": {
    "ExecuteTime": {
     "end_time": "2018-05-04T03:24:49.877472Z",
     "start_time": "2018-05-04T03:16:34.300Z"
    }
   },
   "outputs": [
    {
     "data": {
      "text/html": [
       "<ol class=list-inline>\n",
       "\t<li>2665383</li>\n",
       "\t<li>4</li>\n",
       "</ol>\n"
      ],
      "text/latex": [
       "\\begin{enumerate*}\n",
       "\\item 2665383\n",
       "\\item 4\n",
       "\\end{enumerate*}\n"
      ],
      "text/markdown": [
       "1. 2665383\n",
       "2. 4\n",
       "\n",
       "\n"
      ],
      "text/plain": [
       "[1] 2665383       4"
      ]
     },
     "metadata": {},
     "output_type": "display_data"
    },
    {
     "data": {
      "text/html": [
       "<ol class=list-inline>\n",
       "\t<li>404</li>\n",
       "\t<li>3</li>\n",
       "</ol>\n"
      ],
      "text/latex": [
       "\\begin{enumerate*}\n",
       "\\item 404\n",
       "\\item 3\n",
       "\\end{enumerate*}\n"
      ],
      "text/markdown": [
       "1. 404\n",
       "2. 3\n",
       "\n",
       "\n"
      ],
      "text/plain": [
       "[1] 404   3"
      ]
     },
     "metadata": {},
     "output_type": "display_data"
    }
   ],
   "source": [
    "# use time series model to forecast the future trend for each group\n",
    "timeseries = aggregate(product_price ~ transaction_date + customer_id,train_txns,sum)\n",
    "timeseries = features[,c(1,9)] %>%  \n",
    "left_join(timeseries,by = 'customer_id')\n",
    "dim(timeseries)\n",
    "timeseries = aggregate(product_price ~ group + transaction_date,timeseries,mean) \n",
    "dim(timeseries)"
   ]
  },
  {
   "cell_type": "code",
   "execution_count": 13,
   "metadata": {
    "ExecuteTime": {
     "end_time": "2018-05-04T03:25:00.350918Z",
     "start_time": "2018-05-04T03:16:34.301Z"
    }
   },
   "outputs": [
    {
     "data": {
      "text/html": [
       "<ol class=list-inline>\n",
       "\t<li>1032082</li>\n",
       "\t<li>4</li>\n",
       "</ol>\n"
      ],
      "text/latex": [
       "\\begin{enumerate*}\n",
       "\\item 1032082\n",
       "\\item 4\n",
       "\\end{enumerate*}\n"
      ],
      "text/markdown": [
       "1. 1032082\n",
       "2. 4\n",
       "\n",
       "\n"
      ],
      "text/plain": [
       "[1] 1032082       4"
      ]
     },
     "metadata": {},
     "output_type": "display_data"
    },
    {
     "data": {
      "text/html": [
       "<ol class=list-inline>\n",
       "\t<li>32</li>\n",
       "\t<li>3</li>\n",
       "</ol>\n"
      ],
      "text/latex": [
       "\\begin{enumerate*}\n",
       "\\item 32\n",
       "\\item 3\n",
       "\\end{enumerate*}\n"
      ],
      "text/markdown": [
       "1. 32\n",
       "2. 3\n",
       "\n",
       "\n"
      ],
      "text/plain": [
       "[1] 32  3"
      ]
     },
     "metadata": {},
     "output_type": "display_data"
    }
   ],
   "source": [
    "# use test data time series to test those model\n",
    "timeseries.t = aggregate(product_price ~ transaction_date + customer_id,test_txns,sum)\n",
    "timeseries.t = features[,c(1,9)] %>%  \n",
    "left_join(timeseries.t,by = 'customer_id')\n",
    "dim(timeseries.t)\n",
    "timeseries.t = aggregate(product_price ~ group + transaction_date,timeseries.t,mean) \n",
    "dim(timeseries.t)"
   ]
  },
  {
   "cell_type": "code",
   "execution_count": 14,
   "metadata": {
    "ExecuteTime": {
     "end_time": "2018-05-04T03:25:00.645172Z",
     "start_time": "2018-05-04T03:16:34.302Z"
    }
   },
   "outputs": [
    {
     "data": {
      "text/html": [
       "<ol class=list-inline>\n",
       "\t<li>52</li>\n",
       "\t<li>3</li>\n",
       "</ol>\n"
      ],
      "text/latex": [
       "\\begin{enumerate*}\n",
       "\\item 52\n",
       "\\item 3\n",
       "\\end{enumerate*}\n"
      ],
      "text/markdown": [
       "1. 52\n",
       "2. 3\n",
       "\n",
       "\n"
      ],
      "text/plain": [
       "[1] 52  3"
      ]
     },
     "metadata": {},
     "output_type": "display_data"
    }
   ],
   "source": [
    "# take group 4 as an example\n",
    "timeseries4 = subset(timeseries,group == 4)\n",
    "dim(timeseries4)\n",
    "ts4 <- ts(timeseries4$product_price,frequency = 52)"
   ]
  },
  {
   "cell_type": "code",
   "execution_count": 15,
   "metadata": {
    "ExecuteTime": {
     "end_time": "2018-05-04T03:25:01.321389Z",
     "start_time": "2018-05-04T03:16:34.306Z"
    }
   },
   "outputs": [
    {
     "data": {
      "image/png": "[encoded data removed]",
      "text/plain": [
       "plot without title"
      ]
     },
     "metadata": {},
     "output_type": "display_data"
    },
    {
     "name": "stdout",
     "output_type": "stream",
     "text": [
      "Series: ts4 \n",
      "ARIMA(3,1,1) \n",
      "\n",
      "Coefficients:\n",
      "          ar1      ar2      ar3     ma1\n",
      "      -1.6615  -0.9508  -0.2882  0.9926\n",
      "s.e.   0.1412   0.2355   0.1383  0.0647\n",
      "\n",
      "sigma^2 estimated as 25.07:  log likelihood=-152.82\n",
      "AIC=315.64   AICc=316.97   BIC=325.3\n",
      "\n",
      "Training set error measures:\n",
      "                     ME     RMSE      MAE       MPE     MAPE MASE        ACF1\n",
      "Training set -0.4589151 4.759855 3.808879 -2.590482 11.63368  NaN -0.04817685\n"
     ]
    },
    {
     "data": {
      "image/png": "[encoded data removed]",
      "text/plain": [
       "Plot with title “Series  ts4”"
      ]
     },
     "metadata": {},
     "output_type": "display_data"
    }
   ],
   "source": [
    "plot(ts4)\n",
    "acf(ts4, lag = 52)\n",
    "ARMA4 = Arima(ts4,order=c(3,1,1))\n",
    "summary(ARMA4)"
   ]
  },
  {
   "cell_type": "code",
   "execution_count": 16,
   "metadata": {
    "ExecuteTime": {
     "end_time": "2018-05-04T03:25:01.784702Z",
     "start_time": "2018-05-04T03:16:34.307Z"
    }
   },
   "outputs": [
    {
     "data": {
      "image/png": "[encoded data removed]",
      "text/plain": [
       "Plot with title “Forecasts from ARIMA(3,1,1)”"
      ]
     },
     "metadata": {},
     "output_type": "display_data"
    }
   ],
   "source": [
    "plot(forecast(ARMA4,h=13))"
   ]
  },
  {
   "cell_type": "code",
   "execution_count": 17,
   "metadata": {
    "ExecuteTime": {
     "end_time": "2018-05-04T03:25:01.892601Z",
     "start_time": "2018-05-04T03:16:34.308Z"
    }
   },
   "outputs": [
    {
     "data": {
      "text/html": [
       "256.173113596888"
      ],
      "text/latex": [
       "256.173113596888"
      ],
      "text/markdown": [
       "256.173113596888"
      ],
      "text/plain": [
       "[1] 256.1731"
      ]
     },
     "metadata": {},
     "output_type": "display_data"
    }
   ],
   "source": [
    "# use test data to see how well the model does\n",
    "test4 = subset(timeseries.t,group == 4)\n",
    "mse4<-mean((forecast(ARMA4,h=52)$mean-test4$product_price)^2)\n",
    "mse4"
   ]
  },
  {
   "cell_type": "code",
   "execution_count": 18,
   "metadata": {
    "ExecuteTime": {
     "end_time": "2018-05-04T03:25:25.697246Z",
     "start_time": "2018-05-04T03:16:34.309Z"
    }
   },
   "outputs": [
    {
     "data": {
      "text/html": [
       "<table>\n",
       "<thead><tr><th scope=col>group</th><th scope=col>transaction_date</th><th scope=col>product_price</th></tr></thead>\n",
       "<tbody>\n",
       "\t<tr><td>1         </td><td>2010-01-04</td><td>52.40215  </td></tr>\n",
       "\t<tr><td>1         </td><td>2010-01-11</td><td>53.16069  </td></tr>\n",
       "\t<tr><td>1         </td><td>2010-01-18</td><td>52.28424  </td></tr>\n",
       "\t<tr><td>1         </td><td>2010-01-25</td><td>54.78399  </td></tr>\n",
       "\t<tr><td>1         </td><td>2010-02-01</td><td>55.59806  </td></tr>\n",
       "\t<tr><td>1         </td><td>2010-02-08</td><td>57.09950  </td></tr>\n",
       "</tbody>\n",
       "</table>\n"
      ],
      "text/latex": [
       "\\begin{tabular}{r|lll}\n",
       " group & transaction\\_date & product\\_price\\\\\n",
       "\\hline\n",
       "\t 1          & 2010-01-04 & 52.40215  \\\\\n",
       "\t 1          & 2010-01-11 & 53.16069  \\\\\n",
       "\t 1          & 2010-01-18 & 52.28424  \\\\\n",
       "\t 1          & 2010-01-25 & 54.78399  \\\\\n",
       "\t 1          & 2010-02-01 & 55.59806  \\\\\n",
       "\t 1          & 2010-02-08 & 57.09950  \\\\\n",
       "\\end{tabular}\n"
      ],
      "text/markdown": [
       "\n",
       "group | transaction_date | product_price | \n",
       "|---|---|---|---|---|---|\n",
       "| 1          | 2010-01-04 | 52.40215   | \n",
       "| 1          | 2010-01-11 | 53.16069   | \n",
       "| 1          | 2010-01-18 | 52.28424   | \n",
       "| 1          | 2010-01-25 | 54.78399   | \n",
       "| 1          | 2010-02-01 | 55.59806   | \n",
       "| 1          | 2010-02-08 | 57.09950   | \n",
       "\n",
       "\n"
      ],
      "text/plain": [
       "  group transaction_date product_price\n",
       "1 1     2010-01-04       52.40215     \n",
       "2 1     2010-01-11       53.16069     \n",
       "3 1     2010-01-18       52.28424     \n",
       "4 1     2010-01-25       54.78399     \n",
       "5 1     2010-02-01       55.59806     \n",
       "6 1     2010-02-08       57.09950     "
      ]
     },
     "metadata": {},
     "output_type": "display_data"
    }
   ],
   "source": [
    "# use the arima model and whole transaction data to forecast the future spending trend of each group\n",
    "final <- transactions %>% filter(transaction_date >= '2010-01-01' )\n",
    "t.n =\n",
    "final %>% \n",
    "group_by(transaction_date,customer_id) %>% \n",
    "summarise(\n",
    "    product_price = sum(product_price)\n",
    ")%>% \n",
    "right_join(features[,c(1,9)],by = 'customer_id')\n",
    "t.n = \n",
    "t.n %>% \n",
    "group_by(group, transaction_date) %>% \n",
    "summarise(\n",
    "    product_price = mean(product_price)\n",
    ")\n",
    "head(t.n)"
   ]
  },
  {
   "cell_type": "code",
   "execution_count": 19,
   "metadata": {
    "ExecuteTime": {
     "end_time": "2018-05-04T03:25:26.275261Z",
     "start_time": "2018-05-04T03:16:34.311Z"
    }
   },
   "outputs": [
    {
     "data": {
      "text/plain": [
       "Time Series:\n",
       "Start = c(5, 1) \n",
       "End = c(5, 13) \n",
       "Frequency = 13 \n",
       " [1] 50.25360 50.34748 50.28647 50.14277 49.98702 50.00367 49.87179 50.39514\n",
       " [9] 50.03434 50.38805 50.34689 50.01664 49.92181"
      ]
     },
     "metadata": {},
     "output_type": "display_data"
    },
    {
     "data": {
      "image/png": "[encoded data removed]",
      "text/plain": [
       "Plot with title “Forecasts from ARIMA(2,0,0)(1,0,0)[13] with drift”"
      ]
     },
     "metadata": {},
     "output_type": "display_data"
    }
   ],
   "source": [
    "# take group 4 as an example\n",
    "t.4 = subset(t.n,group == 4)\n",
    "ARIMA4 = Arima(ts(t.4$product_price,frequency = 13),order=c(2,0,0),seasonal=c(1,0,0),include.drift=TRUE)\n",
    "forecast(ARIMA4,h=13)$mean\n",
    "plot(forecast(ARIMA4,h=13))"
   ]
  },
  {
   "cell_type": "code",
   "execution_count": 20,
   "metadata": {
    "ExecuteTime": {
     "end_time": "2018-05-04T03:25:34.750400Z",
     "start_time": "2018-05-04T03:16:34.312Z"
    }
   },
   "outputs": [],
   "source": [
    "# calculate the churn rate of each group\n",
    "# find the endday of each customer\n",
    "endday = \n",
    "transactions %>%\n",
    "group_by(customer_id) %>% \n",
    "summarise(\n",
    "    endday = max(transaction_date)\n",
    ")"
   ]
  },
  {
   "cell_type": "code",
   "execution_count": 21,
   "metadata": {
    "ExecuteTime": {
     "end_time": "2018-05-04T03:26:05.660130Z",
     "start_time": "2018-05-04T03:16:34.313Z"
    }
   },
   "outputs": [
    {
     "data": {
      "text/html": [
       "<table>\n",
       "<thead><tr><th scope=col>transaction_date</th><th scope=col>customer_id</th><th scope=col>startday</th><th scope=col>group</th><th scope=col>endday</th></tr></thead>\n",
       "<tbody>\n",
       "\t<tr><td>2009-05-25</td><td>15855     </td><td>2009-05-25</td><td>1         </td><td>2010-06-13</td></tr>\n",
       "\t<tr><td>2010-06-13</td><td>15855     </td><td>2010-06-13</td><td>1         </td><td>2010-06-13</td></tr>\n",
       "\t<tr><td>2009-07-06</td><td>16148     </td><td>2009-07-06</td><td>1         </td><td>2010-09-05</td></tr>\n",
       "\t<tr><td>2010-03-21</td><td>16148     </td><td>2010-03-21</td><td>1         </td><td>2010-09-05</td></tr>\n",
       "\t<tr><td>2010-09-05</td><td>16148     </td><td>2010-09-05</td><td>1         </td><td>2010-09-05</td></tr>\n",
       "\t<tr><td>2009-07-06</td><td>16209     </td><td>2009-07-06</td><td>6         </td><td>2010-08-15</td></tr>\n",
       "</tbody>\n",
       "</table>\n"
      ],
      "text/latex": [
       "\\begin{tabular}{r|lllll}\n",
       " transaction\\_date & customer\\_id & startday & group & endday\\\\\n",
       "\\hline\n",
       "\t 2009-05-25 & 15855      & 2009-05-25 & 1          & 2010-06-13\\\\\n",
       "\t 2010-06-13 & 15855      & 2010-06-13 & 1          & 2010-06-13\\\\\n",
       "\t 2009-07-06 & 16148      & 2009-07-06 & 1          & 2010-09-05\\\\\n",
       "\t 2010-03-21 & 16148      & 2010-03-21 & 1          & 2010-09-05\\\\\n",
       "\t 2010-09-05 & 16148      & 2010-09-05 & 1          & 2010-09-05\\\\\n",
       "\t 2009-07-06 & 16209      & 2009-07-06 & 6          & 2010-08-15\\\\\n",
       "\\end{tabular}\n"
      ],
      "text/markdown": [
       "\n",
       "transaction_date | customer_id | startday | group | endday | \n",
       "|---|---|---|---|---|---|\n",
       "| 2009-05-25 | 15855      | 2009-05-25 | 1          | 2010-06-13 | \n",
       "| 2010-06-13 | 15855      | 2010-06-13 | 1          | 2010-06-13 | \n",
       "| 2009-07-06 | 16148      | 2009-07-06 | 1          | 2010-09-05 | \n",
       "| 2010-03-21 | 16148      | 2010-03-21 | 1          | 2010-09-05 | \n",
       "| 2010-09-05 | 16148      | 2010-09-05 | 1          | 2010-09-05 | \n",
       "| 2009-07-06 | 16209      | 2009-07-06 | 6          | 2010-08-15 | \n",
       "\n",
       "\n"
      ],
      "text/plain": [
       "  transaction_date customer_id startday   group endday    \n",
       "1 2009-05-25       15855       2009-05-25 1     2010-06-13\n",
       "2 2010-06-13       15855       2010-06-13 1     2010-06-13\n",
       "3 2009-07-06       16148       2009-07-06 1     2010-09-05\n",
       "4 2010-03-21       16148       2010-03-21 1     2010-09-05\n",
       "5 2010-09-05       16148       2010-09-05 1     2010-09-05\n",
       "6 2009-07-06       16209       2009-07-06 6     2010-08-15"
      ]
     },
     "metadata": {},
     "output_type": "display_data"
    }
   ],
   "source": [
    "# find the startday of each customer\n",
    "customerbehaviour =\n",
    "transactions %>% \n",
    "group_by(transaction_date,customer_id) %>% \n",
    "summarise(\n",
    "    startday = min(transaction_date)\n",
    ")%>% \n",
    "right_join(features[,c(1,9)],by = 'customer_id')\n",
    "customerbehaviour =\n",
    "customerbehaviour%>% \n",
    "right_join(endday,by = 'customer_id')\n",
    "head(customerbehaviour)"
   ]
  },
  {
   "cell_type": "code",
   "execution_count": 22,
   "metadata": {
    "ExecuteTime": {
     "end_time": "2018-05-04T03:26:06.374540Z",
     "start_time": "2018-05-04T03:16:34.314Z"
    }
   },
   "outputs": [
    {
     "data": {
      "text/html": [
       "<table>\n",
       "<thead><tr><th scope=col>transaction_date</th><th scope=col>customer_id</th><th scope=col>startday</th><th scope=col>group</th><th scope=col>endday</th><th scope=col>period</th><th scope=col>weeklychurn</th></tr></thead>\n",
       "<tbody>\n",
       "\t<tr><td>2009-05-25</td><td>15855     </td><td>2009-05-25</td><td>1         </td><td>2010-06-13</td><td>54.85714  </td><td>0.01822917</td></tr>\n",
       "\t<tr><td>2010-06-13</td><td>15855     </td><td>2010-06-13</td><td>1         </td><td>2010-06-13</td><td> 0.00000  </td><td>1.00000000</td></tr>\n",
       "\t<tr><td>2009-07-06</td><td>16148     </td><td>2009-07-06</td><td>1         </td><td>2010-09-05</td><td>60.85714  </td><td>0.01643192</td></tr>\n",
       "\t<tr><td>2010-03-21</td><td>16148     </td><td>2010-03-21</td><td>1         </td><td>2010-09-05</td><td>24.00000  </td><td>0.04166667</td></tr>\n",
       "\t<tr><td>2010-09-05</td><td>16148     </td><td>2010-09-05</td><td>1         </td><td>2010-09-05</td><td> 0.00000  </td><td>1.00000000</td></tr>\n",
       "\t<tr><td>2009-07-06</td><td>16209     </td><td>2009-07-06</td><td>6         </td><td>2010-08-15</td><td>57.85714  </td><td>0.01728395</td></tr>\n",
       "</tbody>\n",
       "</table>\n"
      ],
      "text/latex": [
       "\\begin{tabular}{r|lllllll}\n",
       " transaction\\_date & customer\\_id & startday & group & endday & period & weeklychurn\\\\\n",
       "\\hline\n",
       "\t 2009-05-25 & 15855      & 2009-05-25 & 1          & 2010-06-13 & 54.85714   & 0.01822917\\\\\n",
       "\t 2010-06-13 & 15855      & 2010-06-13 & 1          & 2010-06-13 &  0.00000   & 1.00000000\\\\\n",
       "\t 2009-07-06 & 16148      & 2009-07-06 & 1          & 2010-09-05 & 60.85714   & 0.01643192\\\\\n",
       "\t 2010-03-21 & 16148      & 2010-03-21 & 1          & 2010-09-05 & 24.00000   & 0.04166667\\\\\n",
       "\t 2010-09-05 & 16148      & 2010-09-05 & 1          & 2010-09-05 &  0.00000   & 1.00000000\\\\\n",
       "\t 2009-07-06 & 16209      & 2009-07-06 & 6          & 2010-08-15 & 57.85714   & 0.01728395\\\\\n",
       "\\end{tabular}\n"
      ],
      "text/markdown": [
       "\n",
       "transaction_date | customer_id | startday | group | endday | period | weeklychurn | \n",
       "|---|---|---|---|---|---|\n",
       "| 2009-05-25 | 15855      | 2009-05-25 | 1          | 2010-06-13 | 54.85714   | 0.01822917 | \n",
       "| 2010-06-13 | 15855      | 2010-06-13 | 1          | 2010-06-13 |  0.00000   | 1.00000000 | \n",
       "| 2009-07-06 | 16148      | 2009-07-06 | 1          | 2010-09-05 | 60.85714   | 0.01643192 | \n",
       "| 2010-03-21 | 16148      | 2010-03-21 | 1          | 2010-09-05 | 24.00000   | 0.04166667 | \n",
       "| 2010-09-05 | 16148      | 2010-09-05 | 1          | 2010-09-05 |  0.00000   | 1.00000000 | \n",
       "| 2009-07-06 | 16209      | 2009-07-06 | 6          | 2010-08-15 | 57.85714   | 0.01728395 | \n",
       "\n",
       "\n"
      ],
      "text/plain": [
       "  transaction_date customer_id startday   group endday     period   weeklychurn\n",
       "1 2009-05-25       15855       2009-05-25 1     2010-06-13 54.85714 0.01822917 \n",
       "2 2010-06-13       15855       2010-06-13 1     2010-06-13  0.00000 1.00000000 \n",
       "3 2009-07-06       16148       2009-07-06 1     2010-09-05 60.85714 0.01643192 \n",
       "4 2010-03-21       16148       2010-03-21 1     2010-09-05 24.00000 0.04166667 \n",
       "5 2010-09-05       16148       2010-09-05 1     2010-09-05  0.00000 1.00000000 \n",
       "6 2009-07-06       16209       2009-07-06 6     2010-08-15 57.85714 0.01728395 "
      ]
     },
     "metadata": {},
     "output_type": "display_data"
    }
   ],
   "source": [
    "# the interval between the startday and enday is the customer active period\n",
    "customerbehaviour$startday<-as.Date(customerbehaviour$startday)\n",
    "customerbehaviour$period<-difftime(customerbehaviour$endday,customerbehaviour$startday,units='week')\n",
    "customerbehaviour$period[customerbehaviour$endday>='2010-12-05']<-NA\n",
    "customerbehaviour$period<-as.numeric(customerbehaviour$period)\n",
    "customerbehaviour$weeklychurn<-1/customerbehaviour$period\n",
    "customerbehaviour$weeklychurn[is.infinite(customerbehaviour$weeklychurn)==T]<-1\n",
    "customerbehaviour$weeklychurn[is.na(customerbehaviour$weeklychurn)==T]<-0\n",
    "head(customerbehaviour)"
   ]
  },
  {
   "cell_type": "code",
   "execution_count": 23,
   "metadata": {
    "ExecuteTime": {
     "end_time": "2018-05-04T03:26:06.651706Z",
     "start_time": "2018-05-04T03:16:34.316Z"
    }
   },
   "outputs": [
    {
     "data": {
      "text/html": [
       "<table>\n",
       "<thead><tr><th scope=col>group</th><th scope=col>churn</th></tr></thead>\n",
       "<tbody>\n",
       "\t<tr><td>1         </td><td>0.09216434</td></tr>\n",
       "\t<tr><td>2         </td><td>0.05061376</td></tr>\n",
       "\t<tr><td>3         </td><td>0.23237120</td></tr>\n",
       "\t<tr><td>4         </td><td>0.22741852</td></tr>\n",
       "\t<tr><td>5         </td><td>0.18406735</td></tr>\n",
       "\t<tr><td>6         </td><td>0.24847166</td></tr>\n",
       "\t<tr><td>7         </td><td>0.18350955</td></tr>\n",
       "\t<tr><td>8         </td><td>0.40901138</td></tr>\n",
       "</tbody>\n",
       "</table>\n"
      ],
      "text/latex": [
       "\\begin{tabular}{r|ll}\n",
       " group & churn\\\\\n",
       "\\hline\n",
       "\t 1          & 0.09216434\\\\\n",
       "\t 2          & 0.05061376\\\\\n",
       "\t 3          & 0.23237120\\\\\n",
       "\t 4          & 0.22741852\\\\\n",
       "\t 5          & 0.18406735\\\\\n",
       "\t 6          & 0.24847166\\\\\n",
       "\t 7          & 0.18350955\\\\\n",
       "\t 8          & 0.40901138\\\\\n",
       "\\end{tabular}\n"
      ],
      "text/markdown": [
       "\n",
       "group | churn | \n",
       "|---|---|---|---|---|---|---|---|\n",
       "| 1          | 0.09216434 | \n",
       "| 2          | 0.05061376 | \n",
       "| 3          | 0.23237120 | \n",
       "| 4          | 0.22741852 | \n",
       "| 5          | 0.18406735 | \n",
       "| 6          | 0.24847166 | \n",
       "| 7          | 0.18350955 | \n",
       "| 8          | 0.40901138 | \n",
       "\n",
       "\n"
      ],
      "text/plain": [
       "  group churn     \n",
       "1 1     0.09216434\n",
       "2 2     0.05061376\n",
       "3 3     0.23237120\n",
       "4 4     0.22741852\n",
       "5 5     0.18406735\n",
       "6 6     0.24847166\n",
       "7 7     0.18350955\n",
       "8 8     0.40901138"
      ]
     },
     "metadata": {},
     "output_type": "display_data"
    }
   ],
   "source": [
    "# use the average churn rate of customers in each group as group churn rate\n",
    "groupchurn =\n",
    "customerbehaviour %>%\n",
    "group_by(group) %>% \n",
    "summarise(\n",
    "    churn = mean(weeklychurn)\n",
    ")\n",
    "groupchurn"
   ]
  },
  {
   "cell_type": "code",
   "execution_count": 24,
   "metadata": {
    "ExecuteTime": {
     "end_time": "2018-05-04T03:26:17.378122Z",
     "start_time": "2018-05-04T03:16:34.317Z"
    }
   },
   "outputs": [
    {
     "data": {
      "text/html": [
       "<table>\n",
       "<thead><tr><th scope=col>customer_id</th><th scope=col>product_id</th><th scope=col>sale_id</th><th scope=col>transaction_date</th><th scope=col>product_quantity</th><th scope=col>product_price</th><th scope=col>group</th></tr></thead>\n",
       "<tbody>\n",
       "\t<tr><td>25540437                        </td><td>26644                           </td><td>29dd474e9b72a3413a24a7465d1b4715</td><td>2009-06-22                      </td><td>1                               </td><td>12                              </td><td>1                               </td></tr>\n",
       "\t<tr><td>25540437                        </td><td>29158                           </td><td>29dd474e9b72a3413a24a7465d1b4715</td><td>2009-06-22                      </td><td>1                               </td><td> 8                              </td><td>1                               </td></tr>\n",
       "\t<tr><td>25540437                        </td><td> 4758                           </td><td>aa3ecd3d10d0d5084c30f96ac40df919</td><td>2010-06-27                      </td><td>1                               </td><td> 8                              </td><td>1                               </td></tr>\n",
       "\t<tr><td>25540437                        </td><td>28516                           </td><td>29dd474e9b72a3413a24a7465d1b4715</td><td>2009-06-22                      </td><td>1                               </td><td>13                              </td><td>1                               </td></tr>\n",
       "\t<tr><td>25540437                        </td><td> 5927                           </td><td>47750db10a7ffd8b81590af7037fa5f3</td><td>2009-11-16                      </td><td>1                               </td><td>31                              </td><td>1                               </td></tr>\n",
       "\t<tr><td>25540437                        </td><td>30673                           </td><td>aa3ecd3d10d0d5084c30f96ac40df919</td><td>2010-06-27                      </td><td>1                               </td><td>16                              </td><td>1                               </td></tr>\n",
       "</tbody>\n",
       "</table>\n"
      ],
      "text/latex": [
       "\\begin{tabular}{r|lllllll}\n",
       " customer\\_id & product\\_id & sale\\_id & transaction\\_date & product\\_quantity & product\\_price & group\\\\\n",
       "\\hline\n",
       "\t 25540437                         & 26644                            & 29dd474e9b72a3413a24a7465d1b4715 & 2009-06-22                       & 1                                & 12                               & 1                               \\\\\n",
       "\t 25540437                         & 29158                            & 29dd474e9b72a3413a24a7465d1b4715 & 2009-06-22                       & 1                                &  8                               & 1                               \\\\\n",
       "\t 25540437                         &  4758                            & aa3ecd3d10d0d5084c30f96ac40df919 & 2010-06-27                       & 1                                &  8                               & 1                               \\\\\n",
       "\t 25540437                         & 28516                            & 29dd474e9b72a3413a24a7465d1b4715 & 2009-06-22                       & 1                                & 13                               & 1                               \\\\\n",
       "\t 25540437                         &  5927                            & 47750db10a7ffd8b81590af7037fa5f3 & 2009-11-16                       & 1                                & 31                               & 1                               \\\\\n",
       "\t 25540437                         & 30673                            & aa3ecd3d10d0d5084c30f96ac40df919 & 2010-06-27                       & 1                                & 16                               & 1                               \\\\\n",
       "\\end{tabular}\n"
      ],
      "text/markdown": [
       "\n",
       "customer_id | product_id | sale_id | transaction_date | product_quantity | product_price | group | \n",
       "|---|---|---|---|---|---|\n",
       "| 25540437                         | 26644                            | 29dd474e9b72a3413a24a7465d1b4715 | 2009-06-22                       | 1                                | 12                               | 1                                | \n",
       "| 25540437                         | 29158                            | 29dd474e9b72a3413a24a7465d1b4715 | 2009-06-22                       | 1                                |  8                               | 1                                | \n",
       "| 25540437                         |  4758                            | aa3ecd3d10d0d5084c30f96ac40df919 | 2010-06-27                       | 1                                |  8                               | 1                                | \n",
       "| 25540437                         | 28516                            | 29dd474e9b72a3413a24a7465d1b4715 | 2009-06-22                       | 1                                | 13                               | 1                                | \n",
       "| 25540437                         |  5927                            | 47750db10a7ffd8b81590af7037fa5f3 | 2009-11-16                       | 1                                | 31                               | 1                                | \n",
       "| 25540437                         | 30673                            | aa3ecd3d10d0d5084c30f96ac40df919 | 2010-06-27                       | 1                                | 16                               | 1                                | \n",
       "\n",
       "\n"
      ],
      "text/plain": [
       "  customer_id product_id sale_id                          transaction_date\n",
       "1 25540437    26644      29dd474e9b72a3413a24a7465d1b4715 2009-06-22      \n",
       "2 25540437    29158      29dd474e9b72a3413a24a7465d1b4715 2009-06-22      \n",
       "3 25540437     4758      aa3ecd3d10d0d5084c30f96ac40df919 2010-06-27      \n",
       "4 25540437    28516      29dd474e9b72a3413a24a7465d1b4715 2009-06-22      \n",
       "5 25540437     5927      47750db10a7ffd8b81590af7037fa5f3 2009-11-16      \n",
       "6 25540437    30673      aa3ecd3d10d0d5084c30f96ac40df919 2010-06-27      \n",
       "  product_quantity product_price group\n",
       "1 1                12            1    \n",
       "2 1                 8            1    \n",
       "3 1                 8            1    \n",
       "4 1                13            1    \n",
       "5 1                31            1    \n",
       "6 1                16            1    "
      ]
     },
     "metadata": {},
     "output_type": "display_data"
    }
   ],
   "source": [
    "# forecast the purchase interval of each group\n",
    "df<-transactions%>%  \n",
    "    right_join(features[,c(1,9)], by = \"customer_id\")\n",
    "head(df)"
   ]
  },
  {
   "cell_type": "code",
   "execution_count": 25,
   "metadata": {
    "ExecuteTime": {
     "end_time": "2018-05-04T03:26:17.715491Z",
     "start_time": "2018-05-04T03:16:34.319Z"
    }
   },
   "outputs": [
    {
     "data": {
      "text/html": [
       "<table>\n",
       "<thead><tr><th scope=col>customer_id</th><th scope=col>transaction_date</th></tr></thead>\n",
       "<tbody>\n",
       "\t<tr><td>36770037  </td><td>2010-08-29</td></tr>\n",
       "\t<tr><td>36770037  </td><td>2010-10-31</td></tr>\n",
       "\t<tr><td>36770037  </td><td>2009-01-19</td></tr>\n",
       "\t<tr><td>36770037  </td><td>2010-07-04</td></tr>\n",
       "\t<tr><td>36770037  </td><td>2010-12-05</td></tr>\n",
       "\t<tr><td>36770037  </td><td>2010-04-11</td></tr>\n",
       "</tbody>\n",
       "</table>\n"
      ],
      "text/latex": [
       "\\begin{tabular}{r|ll}\n",
       " customer\\_id & transaction\\_date\\\\\n",
       "\\hline\n",
       "\t 36770037   & 2010-08-29\\\\\n",
       "\t 36770037   & 2010-10-31\\\\\n",
       "\t 36770037   & 2009-01-19\\\\\n",
       "\t 36770037   & 2010-07-04\\\\\n",
       "\t 36770037   & 2010-12-05\\\\\n",
       "\t 36770037   & 2010-04-11\\\\\n",
       "\\end{tabular}\n"
      ],
      "text/markdown": [
       "\n",
       "customer_id | transaction_date | \n",
       "|---|---|---|---|---|---|\n",
       "| 36770037   | 2010-08-29 | \n",
       "| 36770037   | 2010-10-31 | \n",
       "| 36770037   | 2009-01-19 | \n",
       "| 36770037   | 2010-07-04 | \n",
       "| 36770037   | 2010-12-05 | \n",
       "| 36770037   | 2010-04-11 | \n",
       "\n",
       "\n"
      ],
      "text/plain": [
       "  customer_id transaction_date\n",
       "1 36770037    2010-08-29      \n",
       "2 36770037    2010-10-31      \n",
       "3 36770037    2009-01-19      \n",
       "4 36770037    2010-07-04      \n",
       "5 36770037    2010-12-05      \n",
       "6 36770037    2010-04-11      "
      ]
     },
     "metadata": {},
     "output_type": "display_data"
    }
   ],
   "source": [
    "# take group 4 as an example\n",
    "group4<-df %>% filter(group == 4)\n",
    "group4<-group4[ ,c(1,4)]\n",
    "head(group4)"
   ]
  },
  {
   "cell_type": "code",
   "execution_count": 26,
   "metadata": {
    "ExecuteTime": {
     "end_time": "2018-05-04T03:26:18.642687Z",
     "start_time": "2018-05-04T03:16:34.320Z"
    }
   },
   "outputs": [],
   "source": [
    "group4<-group4 %>%\n",
    "  group_by(customer_id, transaction_date) %>%\n",
    "  filter(row_number() == 1) %>%\n",
    "  ungroup()\n",
    "group4<-group4 %>%\n",
    "  arrange(customer_id,transaction_date) %>%\n",
    "  select(customer_id,transaction_date)\n",
    "a<-c()\n",
    "for (i in 2:nrow(group4)){\n",
    "    a[i]<-difftime(group4$transaction_date[i],group4$transaction_date[i-1])\n",
    "}\n",
    "group4$diff<-a"
   ]
  },
  {
   "cell_type": "code",
   "execution_count": 27,
   "metadata": {
    "ExecuteTime": {
     "end_time": "2018-05-04T03:26:18.800014Z",
     "start_time": "2018-05-04T03:16:34.326Z"
    }
   },
   "outputs": [
    {
     "data": {
      "text/html": [
       "<table>\n",
       "<thead><tr><th scope=col>times</th><th scope=col>diff</th></tr></thead>\n",
       "<tbody>\n",
       "\t<tr><td> 1        </td><td>-578.96427</td></tr>\n",
       "\t<tr><td> 2        </td><td> 320.42412</td></tr>\n",
       "\t<tr><td> 3        </td><td> 213.29611</td></tr>\n",
       "\t<tr><td> 4        </td><td> 116.55040</td></tr>\n",
       "\t<tr><td> 5        </td><td>  74.44237</td></tr>\n",
       "\t<tr><td> 6        </td><td>  69.75232</td></tr>\n",
       "\t<tr><td> 7        </td><td>  49.79894</td></tr>\n",
       "\t<tr><td> 8        </td><td>  41.25962</td></tr>\n",
       "\t<tr><td> 9        </td><td>  36.35088</td></tr>\n",
       "\t<tr><td>10        </td><td>  37.60000</td></tr>\n",
       "\t<tr><td>11        </td><td>  24.50000</td></tr>\n",
       "\t<tr><td>12        </td><td>  21.87500</td></tr>\n",
       "\t<tr><td>13        </td><td>  21.00000</td></tr>\n",
       "\t<tr><td>14        </td><td>  30.00000</td></tr>\n",
       "\t<tr><td>15        </td><td>  28.00000</td></tr>\n",
       "\t<tr><td>16        </td><td>  21.00000</td></tr>\n",
       "\t<tr><td>17        </td><td>  24.50000</td></tr>\n",
       "\t<tr><td>18        </td><td>  49.00000</td></tr>\n",
       "</tbody>\n",
       "</table>\n"
      ],
      "text/latex": [
       "\\begin{tabular}{r|ll}\n",
       " times & diff\\\\\n",
       "\\hline\n",
       "\t  1         & -578.96427\\\\\n",
       "\t  2         &  320.42412\\\\\n",
       "\t  3         &  213.29611\\\\\n",
       "\t  4         &  116.55040\\\\\n",
       "\t  5         &   74.44237\\\\\n",
       "\t  6         &   69.75232\\\\\n",
       "\t  7         &   49.79894\\\\\n",
       "\t  8         &   41.25962\\\\\n",
       "\t  9         &   36.35088\\\\\n",
       "\t 10         &   37.60000\\\\\n",
       "\t 11         &   24.50000\\\\\n",
       "\t 12         &   21.87500\\\\\n",
       "\t 13         &   21.00000\\\\\n",
       "\t 14         &   30.00000\\\\\n",
       "\t 15         &   28.00000\\\\\n",
       "\t 16         &   21.00000\\\\\n",
       "\t 17         &   24.50000\\\\\n",
       "\t 18         &   49.00000\\\\\n",
       "\\end{tabular}\n"
      ],
      "text/markdown": [
       "\n",
       "times | diff | \n",
       "|---|---|---|---|---|---|---|---|---|---|---|---|---|---|---|---|---|---|\n",
       "|  1         | -578.96427 | \n",
       "|  2         |  320.42412 | \n",
       "|  3         |  213.29611 | \n",
       "|  4         |  116.55040 | \n",
       "|  5         |   74.44237 | \n",
       "|  6         |   69.75232 | \n",
       "|  7         |   49.79894 | \n",
       "|  8         |   41.25962 | \n",
       "|  9         |   36.35088 | \n",
       "| 10         |   37.60000 | \n",
       "| 11         |   24.50000 | \n",
       "| 12         |   21.87500 | \n",
       "| 13         |   21.00000 | \n",
       "| 14         |   30.00000 | \n",
       "| 15         |   28.00000 | \n",
       "| 16         |   21.00000 | \n",
       "| 17         |   24.50000 | \n",
       "| 18         |   49.00000 | \n",
       "\n",
       "\n"
      ],
      "text/plain": [
       "   times diff      \n",
       "1   1    -578.96427\n",
       "2   2     320.42412\n",
       "3   3     213.29611\n",
       "4   4     116.55040\n",
       "5   5      74.44237\n",
       "6   6      69.75232\n",
       "7   7      49.79894\n",
       "8   8      41.25962\n",
       "9   9      36.35088\n",
       "10 10      37.60000\n",
       "11 11      24.50000\n",
       "12 12      21.87500\n",
       "13 13      21.00000\n",
       "14 14      30.00000\n",
       "15 15      28.00000\n",
       "16 16      21.00000\n",
       "17 17      24.50000\n",
       "18 18      49.00000"
      ]
     },
     "metadata": {},
     "output_type": "display_data"
    }
   ],
   "source": [
    "index<-function(x){return(c(1:length(x)))}\n",
    "group4<-transform(group4,times=unlist(tapply(diff,customer_id,index)))\n",
    "average_daygroup4 = aggregate(diff~times,data=group4,mean,na.rm=T)\n",
    "average_daygroup4"
   ]
  },
  {
   "cell_type": "code",
   "execution_count": 28,
   "metadata": {
    "ExecuteTime": {
     "end_time": "2018-05-04T03:26:18.948759Z",
     "start_time": "2018-05-04T03:16:34.327Z"
    }
   },
   "outputs": [],
   "source": [
    "model4<-auto.arima(average_daygroup4$diff[2:30],D=0,seasonal = FALSE,approximation=FALSE)"
   ]
  },
  {
   "cell_type": "code",
   "execution_count": 29,
   "metadata": {
    "ExecuteTime": {
     "end_time": "2018-05-04T03:26:19.325982Z",
     "start_time": "2018-05-04T03:16:34.328Z"
    }
   },
   "outputs": [
    {
     "data": {
      "text/plain": [
       "Time Series:\n",
       "Start = 18 \n",
       "End = 19 \n",
       "Frequency = 1 \n",
       "[1] 367.5 392.0"
      ]
     },
     "metadata": {},
     "output_type": "display_data"
    },
    {
     "data": {
      "text/html": [
       "&lt;NA&gt;"
      ],
      "text/latex": [
       "<NA>"
      ],
      "text/markdown": [
       "&lt;NA&gt;"
      ],
      "text/plain": [
       "[1] NA"
      ]
     },
     "metadata": {},
     "output_type": "display_data"
    },
    {
     "data": {
      "image/png": "[encoded data removed]",
      "text/plain": [
       "Plot with title “Forecasts from ARIMA(0,2,0)”"
      ]
     },
     "metadata": {},
     "output_type": "display_data"
    }
   ],
   "source": [
    "predictedValues4 =forecast(model4,h=2)$mean\n",
    "predictedValues4\n",
    "mean(((predictedValues4-average_daygroup4$diff[31:32])^2))\n",
    "plot(forecast(model4,h=2))"
   ]
  },
  {
   "cell_type": "code",
   "execution_count": 30,
   "metadata": {
    "ExecuteTime": {
     "end_time": "2018-05-04T03:26:27.697667Z",
     "start_time": "2018-05-04T03:16:34.330Z"
    }
   },
   "outputs": [
    {
     "data": {
      "text/html": [
       "<table>\n",
       "<thead><tr><th scope=col>customer_id</th><th scope=col>product_id</th><th scope=col>sale_id</th><th scope=col>transaction_date</th><th scope=col>product_quantity</th><th scope=col>product_price</th><th scope=col>group</th><th scope=col>price</th><th scope=col>brand_id</th><th scope=col>division</th><th scope=col>category</th><th scope=col>subcategory</th><th scope=col>fineline</th></tr></thead>\n",
       "<tbody>\n",
       "\t<tr><td>25540437                        </td><td>26644                           </td><td>29dd474e9b72a3413a24a7465d1b4715</td><td>2009-06-22                      </td><td>1                               </td><td>12                              </td><td>1                               </td><td>19                              </td><td> 51                             </td><td>16                              </td><td> 6                              </td><td>29                              </td><td>8d8f94d011cbf171554301e02175b07f</td></tr>\n",
       "\t<tr><td>25540437                        </td><td>29158                           </td><td>29dd474e9b72a3413a24a7465d1b4715</td><td>2009-06-22                      </td><td>1                               </td><td> 8                              </td><td>1                               </td><td>10                              </td><td>266                             </td><td> 6                              </td><td> 7                              </td><td>34                              </td><td>4c8ff3e9973038be427075323dd98ac2</td></tr>\n",
       "\t<tr><td>25540437                        </td><td> 4758                           </td><td>aa3ecd3d10d0d5084c30f96ac40df919</td><td>2010-06-27                      </td><td>1                               </td><td> 8                              </td><td>1                               </td><td> 8                              </td><td>217                             </td><td>16                              </td><td>19                              </td><td>11                              </td><td>0d4fa663fa7c7d42030b83ffa7bc2de3</td></tr>\n",
       "\t<tr><td>25540437                        </td><td>28516                           </td><td>29dd474e9b72a3413a24a7465d1b4715</td><td>2009-06-22                      </td><td>1                               </td><td>13                              </td><td>1                               </td><td>13                              </td><td> 25                             </td><td>16                              </td><td>16                              </td><td>37                              </td><td>7386508a5babe85132d1008d6f74d7c8</td></tr>\n",
       "\t<tr><td>25540437                        </td><td> 5927                           </td><td>47750db10a7ffd8b81590af7037fa5f3</td><td>2009-11-16                      </td><td>1                               </td><td>31                              </td><td>1                               </td><td>31                              </td><td>370                             </td><td>16                              </td><td>17                              </td><td>38                              </td><td>372d5b376539a64a8351f49e4d70950e</td></tr>\n",
       "\t<tr><td>25540437                        </td><td>30673                           </td><td>aa3ecd3d10d0d5084c30f96ac40df919</td><td>2010-06-27                      </td><td>1                               </td><td>16                              </td><td>1                               </td><td>16                              </td><td>446                             </td><td> 7                              </td><td>13                              </td><td>32                              </td><td>9a7e3dcfd77a3cecfc6476f5b7862986</td></tr>\n",
       "</tbody>\n",
       "</table>\n"
      ],
      "text/latex": [
       "\\begin{tabular}{r|lllllllllllll}\n",
       " customer\\_id & product\\_id & sale\\_id & transaction\\_date & product\\_quantity & product\\_price & group & price & brand\\_id & division & category & subcategory & fineline\\\\\n",
       "\\hline\n",
       "\t 25540437                         & 26644                            & 29dd474e9b72a3413a24a7465d1b4715 & 2009-06-22                       & 1                                & 12                               & 1                                & 19                               &  51                              & 16                               &  6                               & 29                               & 8d8f94d011cbf171554301e02175b07f\\\\\n",
       "\t 25540437                         & 29158                            & 29dd474e9b72a3413a24a7465d1b4715 & 2009-06-22                       & 1                                &  8                               & 1                                & 10                               & 266                              &  6                               &  7                               & 34                               & 4c8ff3e9973038be427075323dd98ac2\\\\\n",
       "\t 25540437                         &  4758                            & aa3ecd3d10d0d5084c30f96ac40df919 & 2010-06-27                       & 1                                &  8                               & 1                                &  8                               & 217                              & 16                               & 19                               & 11                               & 0d4fa663fa7c7d42030b83ffa7bc2de3\\\\\n",
       "\t 25540437                         & 28516                            & 29dd474e9b72a3413a24a7465d1b4715 & 2009-06-22                       & 1                                & 13                               & 1                                & 13                               &  25                              & 16                               & 16                               & 37                               & 7386508a5babe85132d1008d6f74d7c8\\\\\n",
       "\t 25540437                         &  5927                            & 47750db10a7ffd8b81590af7037fa5f3 & 2009-11-16                       & 1                                & 31                               & 1                                & 31                               & 370                              & 16                               & 17                               & 38                               & 372d5b376539a64a8351f49e4d70950e\\\\\n",
       "\t 25540437                         & 30673                            & aa3ecd3d10d0d5084c30f96ac40df919 & 2010-06-27                       & 1                                & 16                               & 1                                & 16                               & 446                              &  7                               & 13                               & 32                               & 9a7e3dcfd77a3cecfc6476f5b7862986\\\\\n",
       "\\end{tabular}\n"
      ],
      "text/markdown": [
       "\n",
       "customer_id | product_id | sale_id | transaction_date | product_quantity | product_price | group | price | brand_id | division | category | subcategory | fineline | \n",
       "|---|---|---|---|---|---|\n",
       "| 25540437                         | 26644                            | 29dd474e9b72a3413a24a7465d1b4715 | 2009-06-22                       | 1                                | 12                               | 1                                | 19                               |  51                              | 16                               |  6                               | 29                               | 8d8f94d011cbf171554301e02175b07f | \n",
       "| 25540437                         | 29158                            | 29dd474e9b72a3413a24a7465d1b4715 | 2009-06-22                       | 1                                |  8                               | 1                                | 10                               | 266                              |  6                               |  7                               | 34                               | 4c8ff3e9973038be427075323dd98ac2 | \n",
       "| 25540437                         |  4758                            | aa3ecd3d10d0d5084c30f96ac40df919 | 2010-06-27                       | 1                                |  8                               | 1                                |  8                               | 217                              | 16                               | 19                               | 11                               | 0d4fa663fa7c7d42030b83ffa7bc2de3 | \n",
       "| 25540437                         | 28516                            | 29dd474e9b72a3413a24a7465d1b4715 | 2009-06-22                       | 1                                | 13                               | 1                                | 13                               |  25                              | 16                               | 16                               | 37                               | 7386508a5babe85132d1008d6f74d7c8 | \n",
       "| 25540437                         |  5927                            | 47750db10a7ffd8b81590af7037fa5f3 | 2009-11-16                       | 1                                | 31                               | 1                                | 31                               | 370                              | 16                               | 17                               | 38                               | 372d5b376539a64a8351f49e4d70950e | \n",
       "| 25540437                         | 30673                            | aa3ecd3d10d0d5084c30f96ac40df919 | 2010-06-27                       | 1                                | 16                               | 1                                | 16                               | 446                              |  7                               | 13                               | 32                               | 9a7e3dcfd77a3cecfc6476f5b7862986 | \n",
       "\n",
       "\n"
      ],
      "text/plain": [
       "  customer_id product_id sale_id                          transaction_date\n",
       "1 25540437    26644      29dd474e9b72a3413a24a7465d1b4715 2009-06-22      \n",
       "2 25540437    29158      29dd474e9b72a3413a24a7465d1b4715 2009-06-22      \n",
       "3 25540437     4758      aa3ecd3d10d0d5084c30f96ac40df919 2010-06-27      \n",
       "4 25540437    28516      29dd474e9b72a3413a24a7465d1b4715 2009-06-22      \n",
       "5 25540437     5927      47750db10a7ffd8b81590af7037fa5f3 2009-11-16      \n",
       "6 25540437    30673      aa3ecd3d10d0d5084c30f96ac40df919 2010-06-27      \n",
       "  product_quantity product_price group price brand_id division category\n",
       "1 1                12            1     19     51      16        6      \n",
       "2 1                 8            1     10    266       6        7      \n",
       "3 1                 8            1      8    217      16       19      \n",
       "4 1                13            1     13     25      16       16      \n",
       "5 1                31            1     31    370      16       17      \n",
       "6 1                16            1     16    446       7       13      \n",
       "  subcategory fineline                        \n",
       "1 29          8d8f94d011cbf171554301e02175b07f\n",
       "2 34          4c8ff3e9973038be427075323dd98ac2\n",
       "3 11          0d4fa663fa7c7d42030b83ffa7bc2de3\n",
       "4 37          7386508a5babe85132d1008d6f74d7c8\n",
       "5 38          372d5b376539a64a8351f49e4d70950e\n",
       "6 32          9a7e3dcfd77a3cecfc6476f5b7862986"
      ]
     },
     "metadata": {},
     "output_type": "display_data"
    }
   ],
   "source": [
    "## Join df table with products table\n",
    "df1<-df %>%  \n",
    "    left_join(products, by = \"product_id\")\n",
    "head(df1)"
   ]
  },
  {
   "cell_type": "code",
   "execution_count": 31,
   "metadata": {
    "ExecuteTime": {
     "end_time": "2018-05-04T03:26:28.854649Z",
     "start_time": "2018-05-04T03:16:34.331Z"
    }
   },
   "outputs": [],
   "source": [
    "## Build a table to show total sales of each brand in each group\n",
    "bgroup<-df1 %>% \n",
    "group_by(group,brand_id)%>%\n",
    "summarise(n=sum(product_price)) %>% \n",
    "select(group,brand_id,n)"
   ]
  },
  {
   "cell_type": "code",
   "execution_count": 32,
   "metadata": {
    "ExecuteTime": {
     "end_time": "2018-05-04T03:26:29.307985Z",
     "start_time": "2018-05-04T03:16:34.332Z"
    }
   },
   "outputs": [
    {
     "name": "stdout",
     "output_type": "stream",
     "text": [
      "# A tibble: 8 x 2\n",
      "  group     d\n",
      "  <dbl> <int>\n",
      "1    1.    26\n",
      "2    2.    26\n",
      "3    3.    26\n",
      "4    4.   124\n",
      "5    5.   254\n",
      "6    6.    26\n",
      "7    7.   254\n",
      "8    8.    26\n"
     ]
    }
   ],
   "source": [
    "## Find each group's favorite brand\n",
    "brand1<-bgroup %>% \n",
    "group_by(group)%>%\n",
    "summarise(brand=brand_id[which.max(n)]) %>% \n",
    "select(group,d=brand) \n",
    "print(brand1)"
   ]
  },
  {
   "cell_type": "code",
   "execution_count": 33,
   "metadata": {
    "ExecuteTime": {
     "end_time": "2018-05-04T03:26:30.278144Z",
     "start_time": "2018-05-04T03:16:34.334Z"
    }
   },
   "outputs": [],
   "source": [
    "## join products and transactions table\n",
    "df2<-left_join(train_txns,products,by=\"product_id\")"
   ]
  },
  {
   "cell_type": "code",
   "execution_count": 34,
   "metadata": {
    "ExecuteTime": {
     "end_time": "2018-05-04T03:26:30.493890Z",
     "start_time": "2018-05-04T03:16:34.335Z"
    }
   },
   "outputs": [],
   "source": [
    "## join products and transactions table to find whether customers will buy a certain brand in the next month\n",
    "after<-left_join(test_txns,products,by=\"product_id\") "
   ]
  },
  {
   "cell_type": "code",
   "execution_count": 35,
   "metadata": {
    "ExecuteTime": {
     "end_time": "2018-05-04T03:26:41.659895Z",
     "start_time": "2018-05-04T03:16:34.336Z"
    }
   },
   "outputs": [],
   "source": [
    "## Build a new table contains sales of brand26 for each customer\n",
    "brand26<-after %>% \n",
    "group_by(customer_id)%>%\n",
    "summarise(brandn=sum(product_price[brand_id==26])) %>% \n",
    "select(customer_id,brandn)"
   ]
  },
  {
   "cell_type": "code",
   "execution_count": 36,
   "metadata": {
    "ExecuteTime": {
     "end_time": "2018-05-04T03:26:42.043853Z",
     "start_time": "2018-05-04T03:16:34.337Z"
    }
   },
   "outputs": [],
   "source": [
    "## Add a new column that represents whether an individual buys brand26\n",
    "brand26<-brand26 %>% \n",
    "mutate(buy=ifelse(brandn>0&!is.na(brandn),1,0))  "
   ]
  },
  {
   "cell_type": "code",
   "execution_count": 37,
   "metadata": {
    "ExecuteTime": {
     "end_time": "2018-05-04T03:26:52.450402Z",
     "start_time": "2018-05-04T03:16:34.338Z"
    }
   },
   "outputs": [
    {
     "data": {
      "text/html": [
       "<table>\n",
       "<thead><tr><th scope=col>customer_id</th><th scope=col>category</th><th scope=col>n</th></tr></thead>\n",
       "<tbody>\n",
       "\t<tr><td>15855</td><td> 6   </td><td>29   </td></tr>\n",
       "\t<tr><td>15855</td><td>11   </td><td>17   </td></tr>\n",
       "\t<tr><td>15855</td><td>17   </td><td>25   </td></tr>\n",
       "\t<tr><td>15855</td><td>20   </td><td>65   </td></tr>\n",
       "\t<tr><td>15855</td><td>24   </td><td>35   </td></tr>\n",
       "\t<tr><td>16148</td><td> 6   </td><td>26   </td></tr>\n",
       "</tbody>\n",
       "</table>\n"
      ],
      "text/latex": [
       "\\begin{tabular}{r|lll}\n",
       " customer\\_id & category & n\\\\\n",
       "\\hline\n",
       "\t 15855 &  6    & 29   \\\\\n",
       "\t 15855 & 11    & 17   \\\\\n",
       "\t 15855 & 17    & 25   \\\\\n",
       "\t 15855 & 20    & 65   \\\\\n",
       "\t 15855 & 24    & 35   \\\\\n",
       "\t 16148 &  6    & 26   \\\\\n",
       "\\end{tabular}\n"
      ],
      "text/markdown": [
       "\n",
       "customer_id | category | n | \n",
       "|---|---|---|---|---|---|\n",
       "| 15855 |  6    | 29    | \n",
       "| 15855 | 11    | 17    | \n",
       "| 15855 | 17    | 25    | \n",
       "| 15855 | 20    | 65    | \n",
       "| 15855 | 24    | 35    | \n",
       "| 16148 |  6    | 26    | \n",
       "\n",
       "\n"
      ],
      "text/plain": [
       "  customer_id category n \n",
       "1 15855        6       29\n",
       "2 15855       11       17\n",
       "3 15855       17       25\n",
       "4 15855       20       65\n",
       "5 15855       24       35\n",
       "6 16148        6       26"
      ]
     },
     "metadata": {},
     "output_type": "display_data"
    }
   ],
   "source": [
    "## Build a new table that contains sales of each category for each customer\n",
    "cper<-df2 %>% \n",
    "group_by(customer_id,category)%>%\n",
    "summarise(n=sum(product_price)) %>% \n",
    "select(customer_id,category,n) \n",
    "head(cper) "
   ]
  },
  {
   "cell_type": "code",
   "execution_count": 38,
   "metadata": {
    "ExecuteTime": {
     "end_time": "2018-05-04T03:26:59.007112Z",
     "start_time": "2018-05-04T03:16:34.339Z"
    }
   },
   "outputs": [
    {
     "data": {
      "text/html": [
       "<table>\n",
       "<thead><tr><th scope=col>customer_id</th><th scope=col>1</th><th scope=col>2</th><th scope=col>3</th><th scope=col>4</th><th scope=col>5</th><th scope=col>6</th><th scope=col>7</th><th scope=col>8</th><th scope=col>9</th><th scope=col>⋯</th><th scope=col>16</th><th scope=col>17</th><th scope=col>18</th><th scope=col>19</th><th scope=col>20</th><th scope=col>21</th><th scope=col>22</th><th scope=col>23</th><th scope=col>24</th><th scope=col>25</th></tr></thead>\n",
       "<tbody>\n",
       "\t<tr><td>15855</td><td>0    </td><td>0    </td><td>0    </td><td>0    </td><td>0    </td><td>1    </td><td>0    </td><td>0    </td><td>0    </td><td>⋯    </td><td>0    </td><td>1    </td><td>0    </td><td>0    </td><td>1    </td><td>0    </td><td>0    </td><td>0    </td><td>1    </td><td>0    </td></tr>\n",
       "\t<tr><td>16148</td><td>0    </td><td>0    </td><td>0    </td><td>0    </td><td>0    </td><td>1    </td><td>0    </td><td>0    </td><td>0    </td><td>⋯    </td><td>0    </td><td>0    </td><td>0    </td><td>0    </td><td>1    </td><td>0    </td><td>0    </td><td>0    </td><td>1    </td><td>0    </td></tr>\n",
       "\t<tr><td>16209</td><td>0    </td><td>0    </td><td>0    </td><td>0    </td><td>0    </td><td>1    </td><td>0    </td><td>0    </td><td>0    </td><td>⋯    </td><td>0    </td><td>0    </td><td>0    </td><td>0    </td><td>0    </td><td>0    </td><td>0    </td><td>0    </td><td>0    </td><td>0    </td></tr>\n",
       "\t<tr><td>16240</td><td>0    </td><td>0    </td><td>0    </td><td>0    </td><td>0    </td><td>0    </td><td>0    </td><td>0    </td><td>0    </td><td>⋯    </td><td>0    </td><td>0    </td><td>0    </td><td>0    </td><td>0    </td><td>0    </td><td>0    </td><td>0    </td><td>0    </td><td>0    </td></tr>\n",
       "\t<tr><td>16255</td><td>0    </td><td>0    </td><td>0    </td><td>0    </td><td>0    </td><td>0    </td><td>0    </td><td>0    </td><td>0    </td><td>⋯    </td><td>0    </td><td>0    </td><td>0    </td><td>1    </td><td>0    </td><td>0    </td><td>0    </td><td>0    </td><td>0    </td><td>0    </td></tr>\n",
       "\t<tr><td>16295</td><td>0    </td><td>0    </td><td>0    </td><td>0    </td><td>0    </td><td>1    </td><td>0    </td><td>0    </td><td>0    </td><td>⋯    </td><td>0    </td><td>0    </td><td>0    </td><td>1    </td><td>1    </td><td>0    </td><td>0    </td><td>0    </td><td>0    </td><td>0    </td></tr>\n",
       "</tbody>\n",
       "</table>\n"
      ],
      "text/latex": [
       "\\begin{tabular}{r|llllllllllllllllllllllllll}\n",
       " customer\\_id & 1 & 2 & 3 & 4 & 5 & 6 & 7 & 8 & 9 & ⋯ & 16 & 17 & 18 & 19 & 20 & 21 & 22 & 23 & 24 & 25\\\\\n",
       "\\hline\n",
       "\t 15855 & 0     & 0     & 0     & 0     & 0     & 1     & 0     & 0     & 0     & ⋯     & 0     & 1     & 0     & 0     & 1     & 0     & 0     & 0     & 1     & 0    \\\\\n",
       "\t 16148 & 0     & 0     & 0     & 0     & 0     & 1     & 0     & 0     & 0     & ⋯     & 0     & 0     & 0     & 0     & 1     & 0     & 0     & 0     & 1     & 0    \\\\\n",
       "\t 16209 & 0     & 0     & 0     & 0     & 0     & 1     & 0     & 0     & 0     & ⋯     & 0     & 0     & 0     & 0     & 0     & 0     & 0     & 0     & 0     & 0    \\\\\n",
       "\t 16240 & 0     & 0     & 0     & 0     & 0     & 0     & 0     & 0     & 0     & ⋯     & 0     & 0     & 0     & 0     & 0     & 0     & 0     & 0     & 0     & 0    \\\\\n",
       "\t 16255 & 0     & 0     & 0     & 0     & 0     & 0     & 0     & 0     & 0     & ⋯     & 0     & 0     & 0     & 1     & 0     & 0     & 0     & 0     & 0     & 0    \\\\\n",
       "\t 16295 & 0     & 0     & 0     & 0     & 0     & 1     & 0     & 0     & 0     & ⋯     & 0     & 0     & 0     & 1     & 1     & 0     & 0     & 0     & 0     & 0    \\\\\n",
       "\\end{tabular}\n"
      ],
      "text/markdown": [
       "\n",
       "customer_id | 1 | 2 | 3 | 4 | 5 | 6 | 7 | 8 | 9 | ⋯ | 16 | 17 | 18 | 19 | 20 | 21 | 22 | 23 | 24 | 25 | \n",
       "|---|---|---|---|---|---|\n",
       "| 15855 | 0     | 0     | 0     | 0     | 0     | 1     | 0     | 0     | 0     | ⋯     | 0     | 1     | 0     | 0     | 1     | 0     | 0     | 0     | 1     | 0     | \n",
       "| 16148 | 0     | 0     | 0     | 0     | 0     | 1     | 0     | 0     | 0     | ⋯     | 0     | 0     | 0     | 0     | 1     | 0     | 0     | 0     | 1     | 0     | \n",
       "| 16209 | 0     | 0     | 0     | 0     | 0     | 1     | 0     | 0     | 0     | ⋯     | 0     | 0     | 0     | 0     | 0     | 0     | 0     | 0     | 0     | 0     | \n",
       "| 16240 | 0     | 0     | 0     | 0     | 0     | 0     | 0     | 0     | 0     | ⋯     | 0     | 0     | 0     | 0     | 0     | 0     | 0     | 0     | 0     | 0     | \n",
       "| 16255 | 0     | 0     | 0     | 0     | 0     | 0     | 0     | 0     | 0     | ⋯     | 0     | 0     | 0     | 1     | 0     | 0     | 0     | 0     | 0     | 0     | \n",
       "| 16295 | 0     | 0     | 0     | 0     | 0     | 1     | 0     | 0     | 0     | ⋯     | 0     | 0     | 0     | 1     | 1     | 0     | 0     | 0     | 0     | 0     | \n",
       "\n",
       "\n"
      ],
      "text/plain": [
       "  customer_id 1 2 3 4 5 6 7 8 9 ⋯ 16 17 18 19 20 21 22 23 24 25\n",
       "1 15855       0 0 0 0 0 1 0 0 0 ⋯ 0  1  0  0  1  0  0  0  1  0 \n",
       "2 16148       0 0 0 0 0 1 0 0 0 ⋯ 0  0  0  0  1  0  0  0  1  0 \n",
       "3 16209       0 0 0 0 0 1 0 0 0 ⋯ 0  0  0  0  0  0  0  0  0  0 \n",
       "4 16240       0 0 0 0 0 0 0 0 0 ⋯ 0  0  0  0  0  0  0  0  0  0 \n",
       "5 16255       0 0 0 0 0 0 0 0 0 ⋯ 0  0  0  1  0  0  0  0  0  0 \n",
       "6 16295       0 0 0 0 0 1 0 0 0 ⋯ 0  0  0  1  1  0  0  0  0  0 "
      ]
     },
     "metadata": {},
     "output_type": "display_data"
    }
   ],
   "source": [
    "## Reshape the table to spread values in the category to columns and represent the number using binary value\n",
    "cper1<-cper %>% \n",
    "spread(category,n)   \n",
    "cper1[is.na(cper1)]<-0 \n",
    "for(i in 2:26){ \n",
    "cper1[i]=ifelse(cper1[i]>0,1,0) \n",
    "}\n",
    "head(cper1)"
   ]
  },
  {
   "cell_type": "code",
   "execution_count": 39,
   "metadata": {
    "ExecuteTime": {
     "end_time": "2018-05-04T03:26:59.819241Z",
     "start_time": "2018-05-04T03:16:34.342Z"
    }
   },
   "outputs": [
    {
     "data": {
      "text/html": [
       "<table>\n",
       "<thead><tr><th scope=col>customer_id</th><th scope=col>brandn</th><th scope=col>buy</th><th scope=col>category1</th><th scope=col>category2</th><th scope=col>category3</th><th scope=col>category4</th><th scope=col>category5</th><th scope=col>category6</th><th scope=col>category7</th><th scope=col>⋯</th><th scope=col>category16</th><th scope=col>category17</th><th scope=col>category18</th><th scope=col>category19</th><th scope=col>category20</th><th scope=col>category21</th><th scope=col>category22</th><th scope=col>category23</th><th scope=col>category24</th><th scope=col>category25</th></tr></thead>\n",
       "<tbody>\n",
       "\t<tr><td>16526</td><td>0    </td><td>0    </td><td>0    </td><td>0    </td><td>1    </td><td>0    </td><td>0    </td><td>1    </td><td>0    </td><td>⋯    </td><td>0    </td><td>1    </td><td>0    </td><td>0    </td><td>1    </td><td>0    </td><td>0    </td><td>0    </td><td>0    </td><td>0    </td></tr>\n",
       "\t<tr><td>16601</td><td>0    </td><td>0    </td><td>0    </td><td>0    </td><td>0    </td><td>0    </td><td>0    </td><td>1    </td><td>0    </td><td>⋯    </td><td>0    </td><td>0    </td><td>0    </td><td>0    </td><td>1    </td><td>0    </td><td>0    </td><td>0    </td><td>1    </td><td>0    </td></tr>\n",
       "\t<tr><td>17194</td><td>0    </td><td>0    </td><td>0    </td><td>0    </td><td>0    </td><td>1    </td><td>0    </td><td>0    </td><td>0    </td><td>⋯    </td><td>0    </td><td>0    </td><td>0    </td><td>0    </td><td>1    </td><td>0    </td><td>0    </td><td>0    </td><td>1    </td><td>1    </td></tr>\n",
       "\t<tr><td>17683</td><td>0    </td><td>0    </td><td>1    </td><td>0    </td><td>0    </td><td>0    </td><td>0    </td><td>1    </td><td>0    </td><td>⋯    </td><td>0    </td><td>0    </td><td>0    </td><td>0    </td><td>0    </td><td>0    </td><td>0    </td><td>0    </td><td>1    </td><td>0    </td></tr>\n",
       "\t<tr><td>19085</td><td>0    </td><td>0    </td><td>0    </td><td>0    </td><td>1    </td><td>0    </td><td>0    </td><td>0    </td><td>0    </td><td>⋯    </td><td>0    </td><td>0    </td><td>0    </td><td>0    </td><td>1    </td><td>0    </td><td>0    </td><td>0    </td><td>0    </td><td>0    </td></tr>\n",
       "\t<tr><td>19500</td><td>0    </td><td>0    </td><td>1    </td><td>0    </td><td>1    </td><td>0    </td><td>1    </td><td>0    </td><td>1    </td><td>⋯    </td><td>1    </td><td>1    </td><td>0    </td><td>1    </td><td>1    </td><td>0    </td><td>1    </td><td>0    </td><td>1    </td><td>0    </td></tr>\n",
       "</tbody>\n",
       "</table>\n"
      ],
      "text/latex": [
       "\\begin{tabular}{r|llllllllllllllllllllllllllll}\n",
       " customer\\_id & brandn & buy & category1 & category2 & category3 & category4 & category5 & category6 & category7 & ⋯ & category16 & category17 & category18 & category19 & category20 & category21 & category22 & category23 & category24 & category25\\\\\n",
       "\\hline\n",
       "\t 16526 & 0     & 0     & 0     & 0     & 1     & 0     & 0     & 1     & 0     & ⋯     & 0     & 1     & 0     & 0     & 1     & 0     & 0     & 0     & 0     & 0    \\\\\n",
       "\t 16601 & 0     & 0     & 0     & 0     & 0     & 0     & 0     & 1     & 0     & ⋯     & 0     & 0     & 0     & 0     & 1     & 0     & 0     & 0     & 1     & 0    \\\\\n",
       "\t 17194 & 0     & 0     & 0     & 0     & 0     & 1     & 0     & 0     & 0     & ⋯     & 0     & 0     & 0     & 0     & 1     & 0     & 0     & 0     & 1     & 1    \\\\\n",
       "\t 17683 & 0     & 0     & 1     & 0     & 0     & 0     & 0     & 1     & 0     & ⋯     & 0     & 0     & 0     & 0     & 0     & 0     & 0     & 0     & 1     & 0    \\\\\n",
       "\t 19085 & 0     & 0     & 0     & 0     & 1     & 0     & 0     & 0     & 0     & ⋯     & 0     & 0     & 0     & 0     & 1     & 0     & 0     & 0     & 0     & 0    \\\\\n",
       "\t 19500 & 0     & 0     & 1     & 0     & 1     & 0     & 1     & 0     & 1     & ⋯     & 1     & 1     & 0     & 1     & 1     & 0     & 1     & 0     & 1     & 0    \\\\\n",
       "\\end{tabular}\n"
      ],
      "text/markdown": [
       "\n",
       "customer_id | brandn | buy | category1 | category2 | category3 | category4 | category5 | category6 | category7 | ⋯ | category16 | category17 | category18 | category19 | category20 | category21 | category22 | category23 | category24 | category25 | \n",
       "|---|---|---|---|---|---|\n",
       "| 16526 | 0     | 0     | 0     | 0     | 1     | 0     | 0     | 1     | 0     | ⋯     | 0     | 1     | 0     | 0     | 1     | 0     | 0     | 0     | 0     | 0     | \n",
       "| 16601 | 0     | 0     | 0     | 0     | 0     | 0     | 0     | 1     | 0     | ⋯     | 0     | 0     | 0     | 0     | 1     | 0     | 0     | 0     | 1     | 0     | \n",
       "| 17194 | 0     | 0     | 0     | 0     | 0     | 1     | 0     | 0     | 0     | ⋯     | 0     | 0     | 0     | 0     | 1     | 0     | 0     | 0     | 1     | 1     | \n",
       "| 17683 | 0     | 0     | 1     | 0     | 0     | 0     | 0     | 1     | 0     | ⋯     | 0     | 0     | 0     | 0     | 0     | 0     | 0     | 0     | 1     | 0     | \n",
       "| 19085 | 0     | 0     | 0     | 0     | 1     | 0     | 0     | 0     | 0     | ⋯     | 0     | 0     | 0     | 0     | 1     | 0     | 0     | 0     | 0     | 0     | \n",
       "| 19500 | 0     | 0     | 1     | 0     | 1     | 0     | 1     | 0     | 1     | ⋯     | 1     | 1     | 0     | 1     | 1     | 0     | 1     | 0     | 1     | 0     | \n",
       "\n",
       "\n"
      ],
      "text/plain": [
       "  customer_id brandn buy category1 category2 category3 category4 category5\n",
       "1 16526       0      0   0         0         1         0         0        \n",
       "2 16601       0      0   0         0         0         0         0        \n",
       "3 17194       0      0   0         0         0         1         0        \n",
       "4 17683       0      0   1         0         0         0         0        \n",
       "5 19085       0      0   0         0         1         0         0        \n",
       "6 19500       0      0   1         0         1         0         1        \n",
       "  category6 category7 ⋯ category16 category17 category18 category19 category20\n",
       "1 1         0         ⋯ 0          1          0          0          1         \n",
       "2 1         0         ⋯ 0          0          0          0          1         \n",
       "3 0         0         ⋯ 0          0          0          0          1         \n",
       "4 1         0         ⋯ 0          0          0          0          0         \n",
       "5 0         0         ⋯ 0          0          0          0          1         \n",
       "6 0         1         ⋯ 1          1          0          1          1         \n",
       "  category21 category22 category23 category24 category25\n",
       "1 0          0          0          0          0         \n",
       "2 0          0          0          1          0         \n",
       "3 0          0          0          1          1         \n",
       "4 0          0          0          1          0         \n",
       "5 0          0          0          0          0         \n",
       "6 0          1          0          1          0         "
      ]
     },
     "metadata": {},
     "output_type": "display_data"
    }
   ],
   "source": [
    "## Join category and brand tables\n",
    "df_brand<-left_join(brand26,cper1,by=\"customer_id\") \n",
    "for (i in 4:28){ \n",
    "names(df_brand)[i]<-paste0(\"category\",i-3) \n",
    "}  \n",
    "head(df_brand)"
   ]
  },
  {
   "cell_type": "code",
   "execution_count": 40,
   "metadata": {
    "ExecuteTime": {
     "end_time": "2018-05-04T03:27:02.061301Z",
     "start_time": "2018-05-04T03:16:34.343Z"
    }
   },
   "outputs": [],
   "source": [
    "## Build logistic model\n",
    "model<-glm(as.formula(paste0(\"buy~\",paste0(names(df_brand)[4:28],collapse = \"+\"))),data=df_brand,family=binomial) "
   ]
  },
  {
   "cell_type": "code",
   "execution_count": 41,
   "metadata": {
    "ExecuteTime": {
     "end_time": "2018-05-04T03:27:02.205439Z",
     "start_time": "2018-05-04T03:16:34.345Z"
    }
   },
   "outputs": [
    {
     "data": {
      "text/plain": [
       "\n",
       "Call:\n",
       "glm(formula = as.formula(paste0(\"buy~\", paste0(names(df_brand)[4:28], \n",
       "    collapse = \"+\"))), family = binomial, data = df_brand)\n",
       "\n",
       "Deviance Residuals: \n",
       "    Min       1Q   Median       3Q      Max  \n",
       "-0.8933  -0.4697  -0.4045  -0.3405   2.6732  \n",
       "\n",
       "Coefficients:\n",
       "            Estimate Std. Error  z value Pr(>|z|)    \n",
       "(Intercept) -2.96595    0.02541 -116.737  < 2e-16 ***\n",
       "category1    0.18615    0.02014    9.243  < 2e-16 ***\n",
       "category2    0.23444    0.02055   11.409  < 2e-16 ***\n",
       "category3   -0.07791    0.02269   -3.434 0.000594 ***\n",
       "category4    0.25365    0.02152   11.788  < 2e-16 ***\n",
       "category5   -0.06010    0.02274   -2.643 0.008228 ** \n",
       "category6   -0.13260    0.01999   -6.635 3.24e-11 ***\n",
       "category7   -0.09118    0.02387   -3.819 0.000134 ***\n",
       "category8   -0.05644    0.02772   -2.036 0.041712 *  \n",
       "category9    0.07016    0.02822    2.486 0.012902 *  \n",
       "category10  -0.05067    0.02166   -2.339 0.019325 *  \n",
       "category11   0.09784    0.02004    4.882 1.05e-06 ***\n",
       "category12  -0.02266    0.02454   -0.923 0.355858    \n",
       "category13  -0.07433    0.02632   -2.824 0.004739 ** \n",
       "category14   0.06425    0.02218    2.897 0.003769 ** \n",
       "category15  -0.14700    0.02106   -6.979 2.97e-12 ***\n",
       "category16   0.05347    0.02324    2.301 0.021402 *  \n",
       "category17   0.17603    0.02060    8.545  < 2e-16 ***\n",
       "category18  -0.17658    0.03118   -5.664 1.48e-08 ***\n",
       "category19  -0.11682    0.02213   -5.279 1.30e-07 ***\n",
       "category20   0.38419    0.02611   14.717  < 2e-16 ***\n",
       "category21   0.27100    0.10780    2.514 0.011937 *  \n",
       "category22   0.07223    0.02922    2.472 0.013425 *  \n",
       "category23   0.04871    0.07251    0.672 0.501696    \n",
       "category24   0.24913    0.02292   10.871  < 2e-16 ***\n",
       "category25   0.52123    0.02496   20.879  < 2e-16 ***\n",
       "---\n",
       "Signif. codes:  0 ‘***’ 0.001 ‘**’ 0.01 ‘*’ 0.05 ‘.’ 0.1 ‘ ’ 1\n",
       "\n",
       "(Dispersion parameter for binomial family taken to be 1)\n",
       "\n",
       "    Null deviance: 90693  on 147826  degrees of freedom\n",
       "Residual deviance: 88145  on 147801  degrees of freedom\n",
       "  (34529 observations deleted due to missingness)\n",
       "AIC: 88197\n",
       "\n",
       "Number of Fisher Scoring iterations: 5\n"
      ]
     },
     "metadata": {},
     "output_type": "display_data"
    }
   ],
   "source": [
    "## model summary\n",
    "summary(model)"
   ]
  },
  {
   "cell_type": "code",
   "execution_count": 42,
   "metadata": {
    "ExecuteTime": {
     "end_time": "2018-05-04T03:27:10.221489Z",
     "start_time": "2018-05-04T03:16:34.346Z"
    }
   },
   "outputs": [],
   "source": [
    "## Build a new table contains sales of brand124 for each customer\n",
    "brand124<-after %>% \n",
    "group_by(customer_id)%>%\n",
    "summarise(brandn=sum(product_price[brand_id==124])) %>% \n",
    "select(customer_id,brandn)"
   ]
  },
  {
   "cell_type": "code",
   "execution_count": 43,
   "metadata": {
    "ExecuteTime": {
     "end_time": "2018-05-04T03:27:10.440466Z",
     "start_time": "2018-05-04T03:16:34.347Z"
    }
   },
   "outputs": [],
   "source": [
    "## Add a new column that represents whether an individual buys brand124\n",
    "brand124<-brand124 %>% \n",
    "mutate(buy=ifelse(brandn>0&!is.na(brandn),1,0)) "
   ]
  },
  {
   "cell_type": "code",
   "execution_count": 44,
   "metadata": {
    "ExecuteTime": {
     "end_time": "2018-05-04T03:27:10.908195Z",
     "start_time": "2018-05-04T03:16:34.349Z"
    }
   },
   "outputs": [
    {
     "data": {
      "text/html": [
       "<table>\n",
       "<thead><tr><th scope=col>customer_id</th><th scope=col>brandn</th><th scope=col>buy</th><th scope=col>category1</th><th scope=col>category2</th><th scope=col>category3</th><th scope=col>category4</th><th scope=col>category5</th><th scope=col>category6</th><th scope=col>category7</th><th scope=col>⋯</th><th scope=col>category16</th><th scope=col>category17</th><th scope=col>category18</th><th scope=col>category19</th><th scope=col>category20</th><th scope=col>category21</th><th scope=col>category22</th><th scope=col>category23</th><th scope=col>category24</th><th scope=col>category25</th></tr></thead>\n",
       "<tbody>\n",
       "\t<tr><td>16526</td><td>0    </td><td>0    </td><td>0    </td><td>0    </td><td>1    </td><td>0    </td><td>0    </td><td>1    </td><td>0    </td><td>⋯    </td><td>0    </td><td>1    </td><td>0    </td><td>0    </td><td>1    </td><td>0    </td><td>0    </td><td>0    </td><td>0    </td><td>0    </td></tr>\n",
       "\t<tr><td>16601</td><td>0    </td><td>0    </td><td>0    </td><td>0    </td><td>0    </td><td>0    </td><td>0    </td><td>1    </td><td>0    </td><td>⋯    </td><td>0    </td><td>0    </td><td>0    </td><td>0    </td><td>1    </td><td>0    </td><td>0    </td><td>0    </td><td>1    </td><td>0    </td></tr>\n",
       "\t<tr><td>17194</td><td>0    </td><td>0    </td><td>0    </td><td>0    </td><td>0    </td><td>1    </td><td>0    </td><td>0    </td><td>0    </td><td>⋯    </td><td>0    </td><td>0    </td><td>0    </td><td>0    </td><td>1    </td><td>0    </td><td>0    </td><td>0    </td><td>1    </td><td>1    </td></tr>\n",
       "\t<tr><td>17683</td><td>0    </td><td>0    </td><td>1    </td><td>0    </td><td>0    </td><td>0    </td><td>0    </td><td>1    </td><td>0    </td><td>⋯    </td><td>0    </td><td>0    </td><td>0    </td><td>0    </td><td>0    </td><td>0    </td><td>0    </td><td>0    </td><td>1    </td><td>0    </td></tr>\n",
       "\t<tr><td>19085</td><td>0    </td><td>0    </td><td>0    </td><td>0    </td><td>1    </td><td>0    </td><td>0    </td><td>0    </td><td>0    </td><td>⋯    </td><td>0    </td><td>0    </td><td>0    </td><td>0    </td><td>1    </td><td>0    </td><td>0    </td><td>0    </td><td>0    </td><td>0    </td></tr>\n",
       "\t<tr><td>19500</td><td>0    </td><td>0    </td><td>1    </td><td>0    </td><td>1    </td><td>0    </td><td>1    </td><td>0    </td><td>1    </td><td>⋯    </td><td>1    </td><td>1    </td><td>0    </td><td>1    </td><td>1    </td><td>0    </td><td>1    </td><td>0    </td><td>1    </td><td>0    </td></tr>\n",
       "</tbody>\n",
       "</table>\n"
      ],
      "text/latex": [
       "\\begin{tabular}{r|llllllllllllllllllllllllllll}\n",
       " customer\\_id & brandn & buy & category1 & category2 & category3 & category4 & category5 & category6 & category7 & ⋯ & category16 & category17 & category18 & category19 & category20 & category21 & category22 & category23 & category24 & category25\\\\\n",
       "\\hline\n",
       "\t 16526 & 0     & 0     & 0     & 0     & 1     & 0     & 0     & 1     & 0     & ⋯     & 0     & 1     & 0     & 0     & 1     & 0     & 0     & 0     & 0     & 0    \\\\\n",
       "\t 16601 & 0     & 0     & 0     & 0     & 0     & 0     & 0     & 1     & 0     & ⋯     & 0     & 0     & 0     & 0     & 1     & 0     & 0     & 0     & 1     & 0    \\\\\n",
       "\t 17194 & 0     & 0     & 0     & 0     & 0     & 1     & 0     & 0     & 0     & ⋯     & 0     & 0     & 0     & 0     & 1     & 0     & 0     & 0     & 1     & 1    \\\\\n",
       "\t 17683 & 0     & 0     & 1     & 0     & 0     & 0     & 0     & 1     & 0     & ⋯     & 0     & 0     & 0     & 0     & 0     & 0     & 0     & 0     & 1     & 0    \\\\\n",
       "\t 19085 & 0     & 0     & 0     & 0     & 1     & 0     & 0     & 0     & 0     & ⋯     & 0     & 0     & 0     & 0     & 1     & 0     & 0     & 0     & 0     & 0    \\\\\n",
       "\t 19500 & 0     & 0     & 1     & 0     & 1     & 0     & 1     & 0     & 1     & ⋯     & 1     & 1     & 0     & 1     & 1     & 0     & 1     & 0     & 1     & 0    \\\\\n",
       "\\end{tabular}\n"
      ],
      "text/markdown": [
       "\n",
       "customer_id | brandn | buy | category1 | category2 | category3 | category4 | category5 | category6 | category7 | ⋯ | category16 | category17 | category18 | category19 | category20 | category21 | category22 | category23 | category24 | category25 | \n",
       "|---|---|---|---|---|---|\n",
       "| 16526 | 0     | 0     | 0     | 0     | 1     | 0     | 0     | 1     | 0     | ⋯     | 0     | 1     | 0     | 0     | 1     | 0     | 0     | 0     | 0     | 0     | \n",
       "| 16601 | 0     | 0     | 0     | 0     | 0     | 0     | 0     | 1     | 0     | ⋯     | 0     | 0     | 0     | 0     | 1     | 0     | 0     | 0     | 1     | 0     | \n",
       "| 17194 | 0     | 0     | 0     | 0     | 0     | 1     | 0     | 0     | 0     | ⋯     | 0     | 0     | 0     | 0     | 1     | 0     | 0     | 0     | 1     | 1     | \n",
       "| 17683 | 0     | 0     | 1     | 0     | 0     | 0     | 0     | 1     | 0     | ⋯     | 0     | 0     | 0     | 0     | 0     | 0     | 0     | 0     | 1     | 0     | \n",
       "| 19085 | 0     | 0     | 0     | 0     | 1     | 0     | 0     | 0     | 0     | ⋯     | 0     | 0     | 0     | 0     | 1     | 0     | 0     | 0     | 0     | 0     | \n",
       "| 19500 | 0     | 0     | 1     | 0     | 1     | 0     | 1     | 0     | 1     | ⋯     | 1     | 1     | 0     | 1     | 1     | 0     | 1     | 0     | 1     | 0     | \n",
       "\n",
       "\n"
      ],
      "text/plain": [
       "  customer_id brandn buy category1 category2 category3 category4 category5\n",
       "1 16526       0      0   0         0         1         0         0        \n",
       "2 16601       0      0   0         0         0         0         0        \n",
       "3 17194       0      0   0         0         0         1         0        \n",
       "4 17683       0      0   1         0         0         0         0        \n",
       "5 19085       0      0   0         0         1         0         0        \n",
       "6 19500       0      0   1         0         1         0         1        \n",
       "  category6 category7 ⋯ category16 category17 category18 category19 category20\n",
       "1 1         0         ⋯ 0          1          0          0          1         \n",
       "2 1         0         ⋯ 0          0          0          0          1         \n",
       "3 0         0         ⋯ 0          0          0          0          1         \n",
       "4 1         0         ⋯ 0          0          0          0          0         \n",
       "5 0         0         ⋯ 0          0          0          0          1         \n",
       "6 0         1         ⋯ 1          1          0          1          1         \n",
       "  category21 category22 category23 category24 category25\n",
       "1 0          0          0          0          0         \n",
       "2 0          0          0          1          0         \n",
       "3 0          0          0          1          1         \n",
       "4 0          0          0          1          0         \n",
       "5 0          0          0          0          0         \n",
       "6 0          1          0          1          0         "
      ]
     },
     "metadata": {},
     "output_type": "display_data"
    }
   ],
   "source": [
    "## Join category and brand tables\n",
    "df_brand1<-left_join(brand124,cper1,by=\"customer_id\") \n",
    "for (i in 4:28){ \n",
    "names(df_brand1)[i]<-paste0(\"category\",i-3) \n",
    "}  \n",
    "head(df_brand1)"
   ]
  },
  {
   "cell_type": "code",
   "execution_count": 45,
   "metadata": {
    "ExecuteTime": {
     "end_time": "2018-05-04T03:27:12.552406Z",
     "start_time": "2018-05-04T03:16:34.350Z"
    }
   },
   "outputs": [
    {
     "data": {
      "text/plain": [
       "\n",
       "Call:\n",
       "glm(formula = as.formula(paste0(\"buy~\", paste0(names(df_brand1)[4:28], \n",
       "    collapse = \"+\"))), family = binomial, data = df_brand1)\n",
       "\n",
       "Deviance Residuals: \n",
       "    Min       1Q   Median       3Q      Max  \n",
       "-0.7029  -0.4794  -0.4020  -0.2964   2.8182  \n",
       "\n",
       "Coefficients:\n",
       "             Estimate Std. Error  z value Pr(>|z|)    \n",
       "(Intercept) -2.906321   0.025979 -111.873  < 2e-16 ***\n",
       "category1    0.227780   0.020981   10.856  < 2e-16 ***\n",
       "category2   -0.042531   0.022328   -1.905  0.05680 .  \n",
       "category3   -0.048302   0.024049   -2.009  0.04459 *  \n",
       "category4   -0.014108   0.023980   -0.588  0.55630    \n",
       "category5   -0.242955   0.024750   -9.817  < 2e-16 ***\n",
       "category6   -0.063660   0.020551   -3.098  0.00195 ** \n",
       "category7   -0.003051   0.025051   -0.122  0.90306    \n",
       "category8    0.005854   0.029164    0.201  0.84091    \n",
       "category9    0.119622   0.030105    3.973 7.08e-05 ***\n",
       "category10  -0.031076   0.022887   -1.358  0.17452    \n",
       "category11  -0.283341   0.020588  -13.763  < 2e-16 ***\n",
       "category12  -0.030571   0.026299   -1.162  0.24506    \n",
       "category13   0.000893   0.027785    0.032  0.97436    \n",
       "category14   0.075491   0.023404    3.226  0.00126 ** \n",
       "category15  -0.157353   0.021978   -7.159 8.10e-13 ***\n",
       "category16  -0.019648   0.025246   -0.778  0.43641    \n",
       "category17  -0.004356   0.020921   -0.208  0.83506    \n",
       "category18   0.216118   0.029753    7.264 3.76e-13 ***\n",
       "category19  -0.028026   0.023121   -1.212  0.22545    \n",
       "category20  -0.138964   0.023963   -5.799 6.66e-09 ***\n",
       "category21  -0.147269   0.146839   -1.003  0.31590    \n",
       "category22  -0.189800   0.034645   -5.478 4.29e-08 ***\n",
       "category23   0.073361   0.077220    0.950  0.34210    \n",
       "category24   1.165478   0.025972   44.874  < 2e-16 ***\n",
       "category25  -0.060390   0.031318   -1.928  0.05382 .  \n",
       "---\n",
       "Signif. codes:  0 ‘***’ 0.001 ‘**’ 0.01 ‘*’ 0.05 ‘.’ 0.1 ‘ ’ 1\n",
       "\n",
       "(Dispersion parameter for binomial family taken to be 1)\n",
       "\n",
       "    Null deviance: 85917  on 147826  degrees of freedom\n",
       "Residual deviance: 83093  on 147801  degrees of freedom\n",
       "  (34529 observations deleted due to missingness)\n",
       "AIC: 83145\n",
       "\n",
       "Number of Fisher Scoring iterations: 5\n"
      ]
     },
     "metadata": {},
     "output_type": "display_data"
    }
   ],
   "source": [
    "## Build logistic model\n",
    "model1<-glm(as.formula(paste0(\"buy~\",paste0(names(df_brand1)[4:28],collapse = \"+\"))),data=df_brand1,family=binomial) \n",
    "summary(model1)"
   ]
  },
  {
   "cell_type": "code",
   "execution_count": 46,
   "metadata": {
    "ExecuteTime": {
     "end_time": "2018-05-04T03:27:12.715634Z",
     "start_time": "2018-05-04T03:16:34.353Z"
    }
   },
   "outputs": [
    {
     "data": {
      "text/html": [
       "<table>\n",
       "<thead><tr><th scope=col>customer_id</th><th scope=col>product_id</th><th scope=col>transaction_date</th><th scope=col>product_quantity</th><th scope=col>product_price</th></tr></thead>\n",
       "<tbody>\n",
       "\t<tr><td>19598045  </td><td>29894     </td><td>2009-12-21</td><td>1         </td><td>4         </td></tr>\n",
       "</tbody>\n",
       "</table>\n"
      ],
      "text/latex": [
       "\\begin{tabular}{r|lllll}\n",
       " customer\\_id & product\\_id & transaction\\_date & product\\_quantity & product\\_price\\\\\n",
       "\\hline\n",
       "\t 19598045   & 29894      & 2009-12-21 & 1          & 4         \\\\\n",
       "\\end{tabular}\n"
      ],
      "text/markdown": [
       "\n",
       "customer_id | product_id | transaction_date | product_quantity | product_price | \n",
       "|---|\n",
       "| 19598045   | 29894      | 2009-12-21 | 1          | 4          | \n",
       "\n",
       "\n"
      ],
      "text/plain": [
       "  customer_id product_id transaction_date product_quantity product_price\n",
       "1 19598045    29894      2009-12-21       1                4            "
      ]
     },
     "metadata": {},
     "output_type": "display_data"
    },
    {
     "data": {
      "text/html": [
       "<table>\n",
       "<thead><tr><th scope=col>product_id</th><th scope=col>price</th><th scope=col>brand_id</th><th scope=col>category</th></tr></thead>\n",
       "<tbody>\n",
       "\t<tr><td>42879</td><td>10   </td><td>359  </td><td>11   </td></tr>\n",
       "\t<tr><td>24926</td><td> 9   </td><td> 70  </td><td>11   </td></tr>\n",
       "\t<tr><td>34251</td><td>13   </td><td>213  </td><td>11   </td></tr>\n",
       "\t<tr><td> 1410</td><td> 6   </td><td> 80  </td><td>11   </td></tr>\n",
       "\t<tr><td>12491</td><td>28   </td><td> 32  </td><td>11   </td></tr>\n",
       "\t<tr><td>49548</td><td>19   </td><td>349  </td><td>11   </td></tr>\n",
       "</tbody>\n",
       "</table>\n"
      ],
      "text/latex": [
       "\\begin{tabular}{r|llll}\n",
       " product\\_id & price & brand\\_id & category\\\\\n",
       "\\hline\n",
       "\t 42879 & 10    & 359   & 11   \\\\\n",
       "\t 24926 &  9    &  70   & 11   \\\\\n",
       "\t 34251 & 13    & 213   & 11   \\\\\n",
       "\t  1410 &  6    &  80   & 11   \\\\\n",
       "\t 12491 & 28    &  32   & 11   \\\\\n",
       "\t 49548 & 19    & 349   & 11   \\\\\n",
       "\\end{tabular}\n"
      ],
      "text/markdown": [
       "\n",
       "product_id | price | brand_id | category | \n",
       "|---|---|---|---|---|---|\n",
       "| 42879 | 10    | 359   | 11    | \n",
       "| 24926 |  9    |  70   | 11    | \n",
       "| 34251 | 13    | 213   | 11    | \n",
       "|  1410 |  6    |  80   | 11    | \n",
       "| 12491 | 28    |  32   | 11    | \n",
       "| 49548 | 19    | 349   | 11    | \n",
       "\n",
       "\n"
      ],
      "text/plain": [
       "  product_id price brand_id category\n",
       "1 42879      10    359      11      \n",
       "2 24926       9     70      11      \n",
       "3 34251      13    213      11      \n",
       "4  1410       6     80      11      \n",
       "5 12491      28     32      11      \n",
       "6 49548      19    349      11      "
      ]
     },
     "metadata": {},
     "output_type": "display_data"
    },
    {
     "data": {
      "text/html": [
       "<table>\n",
       "<thead><tr><th scope=col>customer_id</th><th scope=col>group</th></tr></thead>\n",
       "<tbody>\n",
       "\t<tr><td>25540437</td><td>1       </td></tr>\n",
       "\t<tr><td>13979277</td><td>1       </td></tr>\n",
       "\t<tr><td>25381493</td><td>2       </td></tr>\n",
       "\t<tr><td>41970813</td><td>1       </td></tr>\n",
       "\t<tr><td>24930117</td><td>2       </td></tr>\n",
       "\t<tr><td>39871125</td><td>6       </td></tr>\n",
       "</tbody>\n",
       "</table>\n"
      ],
      "text/latex": [
       "\\begin{tabular}{r|ll}\n",
       " customer\\_id & group\\\\\n",
       "\\hline\n",
       "\t 25540437 & 1       \\\\\n",
       "\t 13979277 & 1       \\\\\n",
       "\t 25381493 & 2       \\\\\n",
       "\t 41970813 & 1       \\\\\n",
       "\t 24930117 & 2       \\\\\n",
       "\t 39871125 & 6       \\\\\n",
       "\\end{tabular}\n"
      ],
      "text/markdown": [
       "\n",
       "customer_id | group | \n",
       "|---|---|---|---|---|---|\n",
       "| 25540437 | 1        | \n",
       "| 13979277 | 1        | \n",
       "| 25381493 | 2        | \n",
       "| 41970813 | 1        | \n",
       "| 24930117 | 2        | \n",
       "| 39871125 | 6        | \n",
       "\n",
       "\n"
      ],
      "text/plain": [
       "  customer_id group\n",
       "1 25540437    1    \n",
       "2 13979277    1    \n",
       "3 25381493    2    \n",
       "4 41970813    1    \n",
       "5 24930117    2    \n",
       "6 39871125    6    "
      ]
     },
     "metadata": {},
     "output_type": "display_data"
    }
   ],
   "source": [
    "# Delete columes not contorlled in prediction. # Build complete dataframe\n",
    "transaction <- transactions[,-3] \n",
    "transaction[1,]\n",
    "product <- products[,-c(4,6,7)]  \n",
    "head(product)\n",
    "group <- features[,c(1,9)] \n",
    "head(group)"
   ]
  },
  {
   "cell_type": "code",
   "execution_count": 47,
   "metadata": {
    "ExecuteTime": {
     "end_time": "2018-05-04T03:27:16.298419Z",
     "start_time": "2018-05-04T03:16:34.354Z"
    }
   },
   "outputs": [
    {
     "data": {
      "text/html": [
       "<table>\n",
       "<thead><tr><th scope=col>customer_id</th><th scope=col>product_id</th><th scope=col>transaction_date</th><th scope=col>product_quantity</th><th scope=col>product_price</th><th scope=col>price</th><th scope=col>brand_id</th><th scope=col>category</th></tr></thead>\n",
       "<tbody>\n",
       "\t<tr><td>19598045  </td><td>29894     </td><td>2009-12-21</td><td>1         </td><td> 4        </td><td> 4        </td><td>148       </td><td>10        </td></tr>\n",
       "\t<tr><td>39801397  </td><td>30483     </td><td>2009-12-14</td><td>1         </td><td> 7        </td><td> 7        </td><td>254       </td><td>11        </td></tr>\n",
       "\t<tr><td>49744497  </td><td>30678     </td><td>2009-10-12</td><td>1         </td><td> 6        </td><td>16        </td><td>213       </td><td>12        </td></tr>\n",
       "\t<tr><td>24637068  </td><td>23630     </td><td>2009-03-09</td><td>1         </td><td> 5        </td><td> 8        </td><td>301       </td><td>18        </td></tr>\n",
       "\t<tr><td>24911294  </td><td>14004     </td><td>2010-05-30</td><td>1         </td><td>17        </td><td>18        </td><td>  1       </td><td>11        </td></tr>\n",
       "\t<tr><td>42953928  </td><td>23069     </td><td>2010-06-06</td><td>1         </td><td> 9        </td><td> 9        </td><td> 70       </td><td>20        </td></tr>\n",
       "</tbody>\n",
       "</table>\n"
      ],
      "text/latex": [
       "\\begin{tabular}{r|llllllll}\n",
       " customer\\_id & product\\_id & transaction\\_date & product\\_quantity & product\\_price & price & brand\\_id & category\\\\\n",
       "\\hline\n",
       "\t 19598045   & 29894      & 2009-12-21 & 1          &  4         &  4         & 148        & 10        \\\\\n",
       "\t 39801397   & 30483      & 2009-12-14 & 1          &  7         &  7         & 254        & 11        \\\\\n",
       "\t 49744497   & 30678      & 2009-10-12 & 1          &  6         & 16         & 213        & 12        \\\\\n",
       "\t 24637068   & 23630      & 2009-03-09 & 1          &  5         &  8         & 301        & 18        \\\\\n",
       "\t 24911294   & 14004      & 2010-05-30 & 1          & 17         & 18         &   1        & 11        \\\\\n",
       "\t 42953928   & 23069      & 2010-06-06 & 1          &  9         &  9         &  70        & 20        \\\\\n",
       "\\end{tabular}\n"
      ],
      "text/markdown": [
       "\n",
       "customer_id | product_id | transaction_date | product_quantity | product_price | price | brand_id | category | \n",
       "|---|---|---|---|---|---|\n",
       "| 19598045   | 29894      | 2009-12-21 | 1          |  4         |  4         | 148        | 10         | \n",
       "| 39801397   | 30483      | 2009-12-14 | 1          |  7         |  7         | 254        | 11         | \n",
       "| 49744497   | 30678      | 2009-10-12 | 1          |  6         | 16         | 213        | 12         | \n",
       "| 24637068   | 23630      | 2009-03-09 | 1          |  5         |  8         | 301        | 18         | \n",
       "| 24911294   | 14004      | 2010-05-30 | 1          | 17         | 18         |   1        | 11         | \n",
       "| 42953928   | 23069      | 2010-06-06 | 1          |  9         |  9         |  70        | 20         | \n",
       "\n",
       "\n"
      ],
      "text/plain": [
       "  customer_id product_id transaction_date product_quantity product_price price\n",
       "1 19598045    29894      2009-12-21       1                 4             4   \n",
       "2 39801397    30483      2009-12-14       1                 7             7   \n",
       "3 49744497    30678      2009-10-12       1                 6            16   \n",
       "4 24637068    23630      2009-03-09       1                 5             8   \n",
       "5 24911294    14004      2010-05-30       1                17            18   \n",
       "6 42953928    23069      2010-06-06       1                 9             9   \n",
       "  brand_id category\n",
       "1 148      10      \n",
       "2 254      11      \n",
       "3 213      12      \n",
       "4 301      18      \n",
       "5   1      11      \n",
       "6  70      20      "
      ]
     },
     "metadata": {},
     "output_type": "display_data"
    }
   ],
   "source": [
    "df <- left_join(transaction, product, by = \"product_id\")  \n",
    "head(df)"
   ]
  },
  {
   "cell_type": "code",
   "execution_count": 48,
   "metadata": {
    "ExecuteTime": {
     "end_time": "2018-05-04T03:27:28.608688Z",
     "start_time": "2018-05-04T03:16:34.356Z"
    }
   },
   "outputs": [
    {
     "data": {
      "text/html": [
       "<table>\n",
       "<thead><tr><th scope=col>customer_id</th><th scope=col>product_id</th><th scope=col>transaction_date</th><th scope=col>product_quantity</th><th scope=col>product_price</th><th scope=col>brand_id</th><th scope=col>category</th><th scope=col>group</th></tr></thead>\n",
       "<tbody>\n",
       "\t<tr><td>19598045  </td><td>29894     </td><td>2009-12-21</td><td>1         </td><td> 4        </td><td>148       </td><td>10        </td><td>2         </td></tr>\n",
       "\t<tr><td>39801397  </td><td>30483     </td><td>2009-12-14</td><td>1         </td><td> 7        </td><td>254       </td><td>11        </td><td>1         </td></tr>\n",
       "\t<tr><td>49744497  </td><td>30678     </td><td>2009-10-12</td><td>1         </td><td> 6        </td><td>213       </td><td>12        </td><td>2         </td></tr>\n",
       "\t<tr><td>24637068  </td><td>23630     </td><td>2009-03-09</td><td>1         </td><td> 5        </td><td>301       </td><td>18        </td><td>5         </td></tr>\n",
       "\t<tr><td>24911294  </td><td>14004     </td><td>2010-05-30</td><td>1         </td><td>17        </td><td>  1       </td><td>11        </td><td>8         </td></tr>\n",
       "\t<tr><td>42953928  </td><td>23069     </td><td>2010-06-06</td><td>1         </td><td> 9        </td><td> 70       </td><td>20        </td><td>1         </td></tr>\n",
       "</tbody>\n",
       "</table>\n"
      ],
      "text/latex": [
       "\\begin{tabular}{r|llllllll}\n",
       " customer\\_id & product\\_id & transaction\\_date & product\\_quantity & product\\_price & brand\\_id & category & group\\\\\n",
       "\\hline\n",
       "\t 19598045   & 29894      & 2009-12-21 & 1          &  4         & 148        & 10         & 2         \\\\\n",
       "\t 39801397   & 30483      & 2009-12-14 & 1          &  7         & 254        & 11         & 1         \\\\\n",
       "\t 49744497   & 30678      & 2009-10-12 & 1          &  6         & 213        & 12         & 2         \\\\\n",
       "\t 24637068   & 23630      & 2009-03-09 & 1          &  5         & 301        & 18         & 5         \\\\\n",
       "\t 24911294   & 14004      & 2010-05-30 & 1          & 17         &   1        & 11         & 8         \\\\\n",
       "\t 42953928   & 23069      & 2010-06-06 & 1          &  9         &  70        & 20         & 1         \\\\\n",
       "\\end{tabular}\n"
      ],
      "text/markdown": [
       "\n",
       "customer_id | product_id | transaction_date | product_quantity | product_price | brand_id | category | group | \n",
       "|---|---|---|---|---|---|\n",
       "| 19598045   | 29894      | 2009-12-21 | 1          |  4         | 148        | 10         | 2          | \n",
       "| 39801397   | 30483      | 2009-12-14 | 1          |  7         | 254        | 11         | 1          | \n",
       "| 49744497   | 30678      | 2009-10-12 | 1          |  6         | 213        | 12         | 2          | \n",
       "| 24637068   | 23630      | 2009-03-09 | 1          |  5         | 301        | 18         | 5          | \n",
       "| 24911294   | 14004      | 2010-05-30 | 1          | 17         |   1        | 11         | 8          | \n",
       "| 42953928   | 23069      | 2010-06-06 | 1          |  9         |  70        | 20         | 1          | \n",
       "\n",
       "\n"
      ],
      "text/plain": [
       "  customer_id product_id transaction_date product_quantity product_price\n",
       "1 19598045    29894      2009-12-21       1                 4           \n",
       "2 39801397    30483      2009-12-14       1                 7           \n",
       "3 49744497    30678      2009-10-12       1                 6           \n",
       "4 24637068    23630      2009-03-09       1                 5           \n",
       "5 24911294    14004      2010-05-30       1                17           \n",
       "6 42953928    23069      2010-06-06       1                 9           \n",
       "  brand_id category group\n",
       "1 148      10       2    \n",
       "2 254      11       1    \n",
       "3 213      12       2    \n",
       "4 301      18       5    \n",
       "5   1      11       8    \n",
       "6  70      20       1    "
      ]
     },
     "metadata": {},
     "output_type": "display_data"
    }
   ],
   "source": [
    "df <- left_join(df, group, by = \"customer_id\")  \n",
    "df <- df[,-c(6,10)]\n",
    "head(df)"
   ]
  },
  {
   "cell_type": "code",
   "execution_count": 49,
   "metadata": {
    "ExecuteTime": {
     "end_time": "2018-05-04T03:27:30.694031Z",
     "start_time": "2018-05-04T03:16:34.356Z"
    }
   },
   "outputs": [],
   "source": [
    "# Because of the size of the dataset is too huge to compute, we decided to\n",
    "set.seed(123)\n",
    "df_customer <- unique(df$customer_id)\n",
    "df_customer <- df_customer[sample(1:length(df_customer), length(df_customer)*0.3)]"
   ]
  },
  {
   "cell_type": "code",
   "execution_count": 50,
   "metadata": {
    "ExecuteTime": {
     "end_time": "2018-05-04T03:27:33.615185Z",
     "start_time": "2018-05-04T03:16:34.358Z"
    }
   },
   "outputs": [
    {
     "data": {
      "text/html": [
       "<table>\n",
       "<thead><tr><th></th><th scope=col>customer_id</th><th scope=col>product_id</th><th scope=col>transaction_date</th><th scope=col>product_quantity</th><th scope=col>product_price</th><th scope=col>brand_id</th><th scope=col>category</th><th scope=col>group</th></tr></thead>\n",
       "<tbody>\n",
       "\t<tr><th scope=row>3</th><td>49744497  </td><td>30678     </td><td>2009-10-12</td><td>1         </td><td> 6        </td><td>213       </td><td>12        </td><td>2         </td></tr>\n",
       "\t<tr><th scope=row>5</th><td>24911294  </td><td>14004     </td><td>2010-05-30</td><td>1         </td><td>17        </td><td>  1       </td><td>11        </td><td>8         </td></tr>\n",
       "\t<tr><th scope=row>7</th><td>48731623  </td><td>31769     </td><td>2010-07-04</td><td>1         </td><td>22        </td><td>133       </td><td> 5        </td><td>1         </td></tr>\n",
       "\t<tr><th scope=row>11</th><td>45246564  </td><td>50763     </td><td>2009-05-25</td><td>1         </td><td> 5        </td><td>158       </td><td> 3        </td><td>2         </td></tr>\n",
       "\t<tr><th scope=row>14</th><td>25459625  </td><td>31827     </td><td>2010-11-07</td><td>1         </td><td>24        </td><td>123       </td><td>20        </td><td>1         </td></tr>\n",
       "\t<tr><th scope=row>15</th><td>25167301  </td><td> 3570     </td><td>2009-08-31</td><td>1         </td><td>19        </td><td> 86       </td><td> 6        </td><td>1         </td></tr>\n",
       "</tbody>\n",
       "</table>\n"
      ],
      "text/latex": [
       "\\begin{tabular}{r|llllllll}\n",
       "  & customer\\_id & product\\_id & transaction\\_date & product\\_quantity & product\\_price & brand\\_id & category & group\\\\\n",
       "\\hline\n",
       "\t3 & 49744497   & 30678      & 2009-10-12 & 1          &  6         & 213        & 12         & 2         \\\\\n",
       "\t5 & 24911294   & 14004      & 2010-05-30 & 1          & 17         &   1        & 11         & 8         \\\\\n",
       "\t7 & 48731623   & 31769      & 2010-07-04 & 1          & 22         & 133        &  5         & 1         \\\\\n",
       "\t11 & 45246564   & 50763      & 2009-05-25 & 1          &  5         & 158        &  3         & 2         \\\\\n",
       "\t14 & 25459625   & 31827      & 2010-11-07 & 1          & 24         & 123        & 20         & 1         \\\\\n",
       "\t15 & 25167301   &  3570      & 2009-08-31 & 1          & 19         &  86        &  6         & 1         \\\\\n",
       "\\end{tabular}\n"
      ],
      "text/markdown": [
       "\n",
       "| <!--/--> | customer_id | product_id | transaction_date | product_quantity | product_price | brand_id | category | group | \n",
       "|---|---|---|---|---|---|\n",
       "| 3 | 49744497   | 30678      | 2009-10-12 | 1          |  6         | 213        | 12         | 2          | \n",
       "| 5 | 24911294   | 14004      | 2010-05-30 | 1          | 17         |   1        | 11         | 8          | \n",
       "| 7 | 48731623   | 31769      | 2010-07-04 | 1          | 22         | 133        |  5         | 1          | \n",
       "| 11 | 45246564   | 50763      | 2009-05-25 | 1          |  5         | 158        |  3         | 2          | \n",
       "| 14 | 25459625   | 31827      | 2010-11-07 | 1          | 24         | 123        | 20         | 1          | \n",
       "| 15 | 25167301   |  3570      | 2009-08-31 | 1          | 19         |  86        |  6         | 1          | \n",
       "\n",
       "\n"
      ],
      "text/plain": [
       "   customer_id product_id transaction_date product_quantity product_price\n",
       "3  49744497    30678      2009-10-12       1                 6           \n",
       "5  24911294    14004      2010-05-30       1                17           \n",
       "7  48731623    31769      2010-07-04       1                22           \n",
       "11 45246564    50763      2009-05-25       1                 5           \n",
       "14 25459625    31827      2010-11-07       1                24           \n",
       "15 25167301     3570      2009-08-31       1                19           \n",
       "   brand_id category group\n",
       "3  213      12       2    \n",
       "5    1      11       8    \n",
       "7  133       5       1    \n",
       "11 158       3       2    \n",
       "14 123      20       1    \n",
       "15  86       6       1    "
      ]
     },
     "metadata": {},
     "output_type": "display_data"
    }
   ],
   "source": [
    "df_sample <- df[df$customer_id %in% df_customer,] \n",
    "head(df_sample)"
   ]
  },
  {
   "cell_type": "code",
   "execution_count": 51,
   "metadata": {
    "ExecuteTime": {
     "end_time": "2018-05-04T03:28:32.151676Z",
     "start_time": "2018-05-04T03:16:34.359Z"
    }
   },
   "outputs": [
    {
     "data": {
      "text/html": [
       "<table>\n",
       "<thead><tr><th scope=col>customer_id</th><th scope=col>category</th><th scope=col>product_price</th></tr></thead>\n",
       "<tbody>\n",
       "\t<tr><td>16518</td><td>1    </td><td>41.0 </td></tr>\n",
       "\t<tr><td>17111</td><td>1    </td><td>30.0 </td></tr>\n",
       "\t<tr><td>17388</td><td>1    </td><td>11.0 </td></tr>\n",
       "\t<tr><td>17683</td><td>1    </td><td>17.0 </td></tr>\n",
       "\t<tr><td>18853</td><td>1    </td><td>75.5 </td></tr>\n",
       "\t<tr><td>19500</td><td>1    </td><td>22.0 </td></tr>\n",
       "</tbody>\n",
       "</table>\n"
      ],
      "text/latex": [
       "\\begin{tabular}{r|lll}\n",
       " customer\\_id & category & product\\_price\\\\\n",
       "\\hline\n",
       "\t 16518 & 1     & 41.0 \\\\\n",
       "\t 17111 & 1     & 30.0 \\\\\n",
       "\t 17388 & 1     & 11.0 \\\\\n",
       "\t 17683 & 1     & 17.0 \\\\\n",
       "\t 18853 & 1     & 75.5 \\\\\n",
       "\t 19500 & 1     & 22.0 \\\\\n",
       "\\end{tabular}\n"
      ],
      "text/markdown": [
       "\n",
       "customer_id | category | product_price | \n",
       "|---|---|---|---|---|---|\n",
       "| 16518 | 1     | 41.0  | \n",
       "| 17111 | 1     | 30.0  | \n",
       "| 17388 | 1     | 11.0  | \n",
       "| 17683 | 1     | 17.0  | \n",
       "| 18853 | 1     | 75.5  | \n",
       "| 19500 | 1     | 22.0  | \n",
       "\n",
       "\n"
      ],
      "text/plain": [
       "  customer_id category product_price\n",
       "1 16518       1        41.0         \n",
       "2 17111       1        30.0         \n",
       "3 17388       1        11.0         \n",
       "4 17683       1        17.0         \n",
       "5 18853       1        75.5         \n",
       "6 19500       1        22.0         "
      ]
     },
     "metadata": {},
     "output_type": "display_data"
    }
   ],
   "source": [
    "# Calculate the average amount each customer spent on each category.\n",
    "df_sample.1 <- df_sample %>% filter(transaction_date >= '2009-01-01' & transaction_date < '2010-07-11')\n",
    "df.2 <- aggregate(product_price~ customer_id + category, df_sample.1, mean)\n",
    "head(df.2)"
   ]
  },
  {
   "cell_type": "code",
   "execution_count": 52,
   "metadata": {
    "ExecuteTime": {
     "end_time": "2018-05-04T03:28:32.738561Z",
     "start_time": "2018-05-04T03:16:34.360Z"
    }
   },
   "outputs": [
    {
     "data": {
      "text/plain": [
       "\n",
       "          1           2           3           4           5           6 \n",
       " 5.02234791  4.09246588  4.33288314  3.26563048  4.07545311  7.53978973 \n",
       "          7           8           9          10          11          12 \n",
       " 3.11221711  2.55669057  1.65352157  3.76452241  7.28825448  2.93410537 \n",
       "         13          14          15          16          17          18 \n",
       " 2.30702075  3.20526500  5.02980965  3.04558377  7.11387361  1.42078990 \n",
       "         19          20          21          22          23          24 \n",
       " 3.79593634 11.10075587  0.06782722  1.40109091  0.17676862  9.87971675 \n",
       "         25 \n",
       " 1.81767985 "
      ]
     },
     "metadata": {},
     "output_type": "display_data"
    }
   ],
   "source": [
    "table(df.2$category)/nrow(df.2)*100\n",
    "# category 20 has the highest purchase rate : 192381"
   ]
  },
  {
   "cell_type": "code",
   "execution_count": 53,
   "metadata": {
    "ExecuteTime": {
     "end_time": "2018-05-04T03:28:35.742572Z",
     "start_time": "2018-05-04T03:16:34.361Z"
    }
   },
   "outputs": [
    {
     "name": "stderr",
     "output_type": "stream",
     "text": [
      "\n",
      "Attaching package: ‘reshape’\n",
      "\n",
      "The following objects are masked from ‘package:tidyr’:\n",
      "\n",
      "    expand, smiths\n",
      "\n",
      "The following object is masked from ‘package:lubridate’:\n",
      "\n",
      "    stamp\n",
      "\n",
      "The following object is masked from ‘package:dplyr’:\n",
      "\n",
      "    rename\n",
      "\n"
     ]
    }
   ],
   "source": [
    "library(reshape)"
   ]
  },
  {
   "cell_type": "code",
   "execution_count": 54,
   "metadata": {
    "ExecuteTime": {
     "end_time": "2018-05-04T03:28:37.390482Z",
     "start_time": "2018-05-04T03:16:34.362Z"
    }
   },
   "outputs": [
    {
     "data": {
      "text/html": [
       "<table>\n",
       "<thead><tr><th scope=col>customer_id</th><th scope=col>1</th><th scope=col>2</th><th scope=col>3</th><th scope=col>4</th><th scope=col>5</th><th scope=col>6</th><th scope=col>7</th><th scope=col>8</th><th scope=col>9</th><th scope=col>⋯</th><th scope=col>17</th><th scope=col>18</th><th scope=col>19</th><th scope=col>20</th><th scope=col>21</th><th scope=col>22</th><th scope=col>23</th><th scope=col>24</th><th scope=col>25</th><th scope=col>group</th></tr></thead>\n",
       "<tbody>\n",
       "\t<tr><td>16240   </td><td> 0      </td><td>0       </td><td>0.0     </td><td>0       </td><td>0       </td><td> 0      </td><td> 0      </td><td>0       </td><td>0       </td><td>⋯       </td><td> 0      </td><td> 0      </td><td> 0.0    </td><td> 0.00000</td><td>0       </td><td>0       </td><td>0       </td><td> 0.0    </td><td>0       </td><td>6       </td></tr>\n",
       "\t<tr><td>16295   </td><td> 0      </td><td>0       </td><td>0.0     </td><td>0       </td><td>0       </td><td> 6      </td><td> 0      </td><td>0       </td><td>0       </td><td>⋯       </td><td> 0      </td><td> 0      </td><td>10.0    </td><td> 9.00000</td><td>0       </td><td>0       </td><td>0       </td><td> 0.0    </td><td>0       </td><td>1       </td></tr>\n",
       "\t<tr><td>16315   </td><td> 0      </td><td>0       </td><td>9.4     </td><td>0       </td><td>9       </td><td> 0      </td><td>17      </td><td>0       </td><td>8       </td><td>⋯       </td><td> 0      </td><td>21      </td><td> 4.5    </td><td>93.00000</td><td>0       </td><td>0       </td><td>0       </td><td> 5.0    </td><td>0       </td><td>2       </td></tr>\n",
       "\t<tr><td>16518   </td><td>41      </td><td>0       </td><td>0.0     </td><td>0       </td><td>0       </td><td> 0      </td><td> 0      </td><td>0       </td><td>0       </td><td>⋯       </td><td>49      </td><td> 0      </td><td> 7.0    </td><td>18.33333</td><td>0       </td><td>0       </td><td>0       </td><td>32.4    </td><td>0       </td><td>1       </td></tr>\n",
       "\t<tr><td>16526   </td><td> 0      </td><td>3       </td><td>4.0     </td><td>0       </td><td>0       </td><td>21      </td><td> 0      </td><td>0       </td><td>0       </td><td>⋯       </td><td> 5      </td><td>13      </td><td> 4.0    </td><td>19.00000</td><td>0       </td><td>0       </td><td>0       </td><td>11.5    </td><td>0       </td><td>1       </td></tr>\n",
       "\t<tr><td>17111   </td><td>30      </td><td>0       </td><td>6.0     </td><td>0       </td><td>6       </td><td> 0      </td><td> 0      </td><td>0       </td><td>0       </td><td>⋯       </td><td>13      </td><td> 0      </td><td> 0.0    </td><td>25.00000</td><td>0       </td><td>0       </td><td>0       </td><td> 0.0    </td><td>0       </td><td>1       </td></tr>\n",
       "</tbody>\n",
       "</table>\n"
      ],
      "text/latex": [
       "\\begin{tabular}{r|lllllllllllllllllllllllllll}\n",
       " customer\\_id & 1 & 2 & 3 & 4 & 5 & 6 & 7 & 8 & 9 & ⋯ & 17 & 18 & 19 & 20 & 21 & 22 & 23 & 24 & 25 & group\\\\\n",
       "\\hline\n",
       "\t 16240    &  0       & 0        & 0.0      & 0        & 0        &  0       &  0       & 0        & 0        & ⋯        &  0       &  0       &  0.0     &  0.00000 & 0        & 0        & 0        &  0.0     & 0        & 6       \\\\\n",
       "\t 16295    &  0       & 0        & 0.0      & 0        & 0        &  6       &  0       & 0        & 0        & ⋯        &  0       &  0       & 10.0     &  9.00000 & 0        & 0        & 0        &  0.0     & 0        & 1       \\\\\n",
       "\t 16315    &  0       & 0        & 9.4      & 0        & 9        &  0       & 17       & 0        & 8        & ⋯        &  0       & 21       &  4.5     & 93.00000 & 0        & 0        & 0        &  5.0     & 0        & 2       \\\\\n",
       "\t 16518    & 41       & 0        & 0.0      & 0        & 0        &  0       &  0       & 0        & 0        & ⋯        & 49       &  0       &  7.0     & 18.33333 & 0        & 0        & 0        & 32.4     & 0        & 1       \\\\\n",
       "\t 16526    &  0       & 3        & 4.0      & 0        & 0        & 21       &  0       & 0        & 0        & ⋯        &  5       & 13       &  4.0     & 19.00000 & 0        & 0        & 0        & 11.5     & 0        & 1       \\\\\n",
       "\t 17111    & 30       & 0        & 6.0      & 0        & 6        &  0       &  0       & 0        & 0        & ⋯        & 13       &  0       &  0.0     & 25.00000 & 0        & 0        & 0        &  0.0     & 0        & 1       \\\\\n",
       "\\end{tabular}\n"
      ],
      "text/markdown": [
       "\n",
       "customer_id | 1 | 2 | 3 | 4 | 5 | 6 | 7 | 8 | 9 | ⋯ | 17 | 18 | 19 | 20 | 21 | 22 | 23 | 24 | 25 | group | \n",
       "|---|---|---|---|---|---|\n",
       "| 16240    |  0       | 0        | 0.0      | 0        | 0        |  0       |  0       | 0        | 0        | ⋯        |  0       |  0       |  0.0     |  0.00000 | 0        | 0        | 0        |  0.0     | 0        | 6        | \n",
       "| 16295    |  0       | 0        | 0.0      | 0        | 0        |  6       |  0       | 0        | 0        | ⋯        |  0       |  0       | 10.0     |  9.00000 | 0        | 0        | 0        |  0.0     | 0        | 1        | \n",
       "| 16315    |  0       | 0        | 9.4      | 0        | 9        |  0       | 17       | 0        | 8        | ⋯        |  0       | 21       |  4.5     | 93.00000 | 0        | 0        | 0        |  5.0     | 0        | 2        | \n",
       "| 16518    | 41       | 0        | 0.0      | 0        | 0        |  0       |  0       | 0        | 0        | ⋯        | 49       |  0       |  7.0     | 18.33333 | 0        | 0        | 0        | 32.4     | 0        | 1        | \n",
       "| 16526    |  0       | 3        | 4.0      | 0        | 0        | 21       |  0       | 0        | 0        | ⋯        |  5       | 13       |  4.0     | 19.00000 | 0        | 0        | 0        | 11.5     | 0        | 1        | \n",
       "| 17111    | 30       | 0        | 6.0      | 0        | 6        |  0       |  0       | 0        | 0        | ⋯        | 13       |  0       |  0.0     | 25.00000 | 0        | 0        | 0        |  0.0     | 0        | 1        | \n",
       "\n",
       "\n"
      ],
      "text/plain": [
       "  customer_id 1  2 3   4 5 6  7  8 9 ⋯ 17 18 19   20       21 22 23 24   25\n",
       "1 16240        0 0 0.0 0 0  0  0 0 0 ⋯  0  0  0.0  0.00000 0  0  0   0.0 0 \n",
       "2 16295        0 0 0.0 0 0  6  0 0 0 ⋯  0  0 10.0  9.00000 0  0  0   0.0 0 \n",
       "3 16315        0 0 9.4 0 9  0 17 0 8 ⋯  0 21  4.5 93.00000 0  0  0   5.0 0 \n",
       "4 16518       41 0 0.0 0 0  0  0 0 0 ⋯ 49  0  7.0 18.33333 0  0  0  32.4 0 \n",
       "5 16526        0 3 4.0 0 0 21  0 0 0 ⋯  5 13  4.0 19.00000 0  0  0  11.5 0 \n",
       "6 17111       30 0 6.0 0 6  0  0 0 0 ⋯ 13  0  0.0 25.00000 0  0  0   0.0 0 \n",
       "  group\n",
       "1 6    \n",
       "2 1    \n",
       "3 2    \n",
       "4 1    \n",
       "5 1    \n",
       "6 1    "
      ]
     },
     "metadata": {},
     "output_type": "display_data"
    }
   ],
   "source": [
    "# reshape the data fram, turn categories into individual columes\n",
    "df.3<-df.2 %>% \n",
    "spread(category,product_price) \n",
    "df.3[is.na(df.3)] <- 0\n",
    "df.3 <- left_join(df.3, group, by = \"customer_id\")\n",
    "head(df.3)"
   ]
  },
  {
   "cell_type": "code",
   "execution_count": 55,
   "metadata": {
    "ExecuteTime": {
     "end_time": "2018-05-04T03:28:37.669143Z",
     "start_time": "2018-05-04T03:16:34.363Z"
    }
   },
   "outputs": [],
   "source": [
    "# turn group into discrete variable\n",
    "df.3$group <- as.factor(df.3$group)"
   ]
  },
  {
   "cell_type": "code",
   "execution_count": 58,
   "metadata": {
    "ExecuteTime": {
     "end_time": "2018-05-04T03:29:48.058991Z",
     "start_time": "2018-05-04T03:29:48.155Z"
    }
   },
   "outputs": [
    {
     "data": {
      "text/html": [
       "<table>\n",
       "<thead><tr><th scope=col>customer_id</th><th scope=col>product_id</th><th scope=col>transaction_date</th><th scope=col>product_quantity</th><th scope=col>product_price</th><th scope=col>brand_id</th><th scope=col>category</th><th scope=col>group</th></tr></thead>\n",
       "<tbody>\n",
       "\t<tr><td>25459625  </td><td>31827     </td><td>2010-11-07</td><td>1         </td><td>24        </td><td>123       </td><td>20        </td><td>1         </td></tr>\n",
       "\t<tr><td>41367818  </td><td>26232     </td><td>2010-10-03</td><td>1         </td><td> 9        </td><td>104       </td><td> 1        </td><td>1         </td></tr>\n",
       "\t<tr><td>53475961  </td><td>33882     </td><td>2010-07-25</td><td>1         </td><td>12        </td><td>124       </td><td>11        </td><td>7         </td></tr>\n",
       "\t<tr><td>49233199  </td><td>10395     </td><td>2010-07-18</td><td>1         </td><td>15        </td><td> 26       </td><td> 2        </td><td>6         </td></tr>\n",
       "\t<tr><td>25191235  </td><td>50655     </td><td>2010-11-28</td><td>1         </td><td>26        </td><td> 66       </td><td> 6        </td><td>8         </td></tr>\n",
       "\t<tr><td>34972761  </td><td>26028     </td><td>2010-08-15</td><td>1         </td><td>55        </td><td> 26       </td><td> 4        </td><td>8         </td></tr>\n",
       "</tbody>\n",
       "</table>\n"
      ],
      "text/latex": [
       "\\begin{tabular}{r|llllllll}\n",
       " customer\\_id & product\\_id & transaction\\_date & product\\_quantity & product\\_price & brand\\_id & category & group\\\\\n",
       "\\hline\n",
       "\t 25459625   & 31827      & 2010-11-07 & 1          & 24         & 123        & 20         & 1         \\\\\n",
       "\t 41367818   & 26232      & 2010-10-03 & 1          &  9         & 104        &  1         & 1         \\\\\n",
       "\t 53475961   & 33882      & 2010-07-25 & 1          & 12         & 124        & 11         & 7         \\\\\n",
       "\t 49233199   & 10395      & 2010-07-18 & 1          & 15         &  26        &  2         & 6         \\\\\n",
       "\t 25191235   & 50655      & 2010-11-28 & 1          & 26         &  66        &  6         & 8         \\\\\n",
       "\t 34972761   & 26028      & 2010-08-15 & 1          & 55         &  26        &  4         & 8         \\\\\n",
       "\\end{tabular}\n"
      ],
      "text/markdown": [
       "\n",
       "customer_id | product_id | transaction_date | product_quantity | product_price | brand_id | category | group | \n",
       "|---|---|---|---|---|---|\n",
       "| 25459625   | 31827      | 2010-11-07 | 1          | 24         | 123        | 20         | 1          | \n",
       "| 41367818   | 26232      | 2010-10-03 | 1          |  9         | 104        |  1         | 1          | \n",
       "| 53475961   | 33882      | 2010-07-25 | 1          | 12         | 124        | 11         | 7          | \n",
       "| 49233199   | 10395      | 2010-07-18 | 1          | 15         |  26        |  2         | 6          | \n",
       "| 25191235   | 50655      | 2010-11-28 | 1          | 26         |  66        |  6         | 8          | \n",
       "| 34972761   | 26028      | 2010-08-15 | 1          | 55         |  26        |  4         | 8          | \n",
       "\n",
       "\n"
      ],
      "text/plain": [
       "  customer_id product_id transaction_date product_quantity product_price\n",
       "1 25459625    31827      2010-11-07       1                24           \n",
       "2 41367818    26232      2010-10-03       1                 9           \n",
       "3 53475961    33882      2010-07-25       1                12           \n",
       "4 49233199    10395      2010-07-18       1                15           \n",
       "5 25191235    50655      2010-11-28       1                26           \n",
       "6 34972761    26028      2010-08-15       1                55           \n",
       "  brand_id category group\n",
       "1 123      20       1    \n",
       "2 104       1       1    \n",
       "3 124      11       7    \n",
       "4  26       2       6    \n",
       "5  66       6       8    \n",
       "6  26       4       8    "
      ]
     },
     "metadata": {},
     "output_type": "display_data"
    }
   ],
   "source": [
    "df.7 <- df_sample %>% filter(transaction_date >= '2010-07-11' & transaction_date < '2010-12-12')  \n",
    "head(df.7)"
   ]
  },
  {
   "cell_type": "code",
   "execution_count": 59,
   "metadata": {
    "ExecuteTime": {
     "end_time": "2018-05-04T03:34:28.593905Z",
     "start_time": "2018-05-04T03:32:48.613Z"
    }
   },
   "outputs": [
    {
     "name": "stderr",
     "output_type": "stream",
     "text": [
      "Aggregation requires fun.aggregate: length used as default\n"
     ]
    },
    {
     "data": {
      "text/html": [
       "<table>\n",
       "<thead><tr><th scope=col>customer_id</th><th scope=col>1</th><th scope=col>2</th><th scope=col>3</th><th scope=col>4</th><th scope=col>5</th><th scope=col>6</th><th scope=col>7</th><th scope=col>8</th><th scope=col>9</th><th scope=col>⋯</th><th scope=col>17</th><th scope=col>18</th><th scope=col>19</th><th scope=col>20</th><th scope=col>21</th><th scope=col>22</th><th scope=col>23</th><th scope=col>24</th><th scope=col>25</th><th scope=col>26</th></tr></thead>\n",
       "<tbody>\n",
       "\t<tr><td>16240</td><td>1    </td><td>0    </td><td>0    </td><td>0    </td><td>0    </td><td>0    </td><td>1    </td><td>0    </td><td>0    </td><td>⋯    </td><td>0    </td><td>0    </td><td>0    </td><td>0    </td><td>0    </td><td>0    </td><td>0    </td><td>0    </td><td>0    </td><td>0    </td></tr>\n",
       "\t<tr><td>16295</td><td>0    </td><td>0    </td><td>0    </td><td>0    </td><td>0    </td><td>1    </td><td>0    </td><td>0    </td><td>0    </td><td>⋯    </td><td>0    </td><td>0    </td><td>1    </td><td>2    </td><td>0    </td><td>0    </td><td>0    </td><td>0    </td><td>0    </td><td>0    </td></tr>\n",
       "\t<tr><td>16526</td><td>0    </td><td>0    </td><td>0    </td><td>0    </td><td>0    </td><td>0    </td><td>0    </td><td>0    </td><td>1    </td><td>⋯    </td><td>0    </td><td>0    </td><td>0    </td><td>3    </td><td>0    </td><td>0    </td><td>0    </td><td>0    </td><td>0    </td><td>0    </td></tr>\n",
       "\t<tr><td>17282</td><td>0    </td><td>0    </td><td>0    </td><td>0    </td><td>0    </td><td>0    </td><td>0    </td><td>0    </td><td>0    </td><td>⋯    </td><td>0    </td><td>0    </td><td>0    </td><td>1    </td><td>0    </td><td>0    </td><td>0    </td><td>0    </td><td>0    </td><td>0    </td></tr>\n",
       "\t<tr><td>17388</td><td>0    </td><td>0    </td><td>1    </td><td>1    </td><td>0    </td><td>0    </td><td>0    </td><td>0    </td><td>1    </td><td>⋯    </td><td>0    </td><td>1    </td><td>0    </td><td>0    </td><td>0    </td><td>0    </td><td>0    </td><td>1    </td><td>0    </td><td>0    </td></tr>\n",
       "\t<tr><td>17683</td><td>1    </td><td>0    </td><td>0    </td><td>0    </td><td>0    </td><td>0    </td><td>0    </td><td>0    </td><td>0    </td><td>⋯    </td><td>0    </td><td>0    </td><td>0    </td><td>2    </td><td>0    </td><td>0    </td><td>0    </td><td>0    </td><td>0    </td><td>0    </td></tr>\n",
       "</tbody>\n",
       "</table>\n"
      ],
      "text/latex": [
       "\\begin{tabular}{r|lllllllllllllllllllllllllll}\n",
       " customer\\_id & 1 & 2 & 3 & 4 & 5 & 6 & 7 & 8 & 9 & ⋯ & 17 & 18 & 19 & 20 & 21 & 22 & 23 & 24 & 25 & 26\\\\\n",
       "\\hline\n",
       "\t 16240 & 1     & 0     & 0     & 0     & 0     & 0     & 1     & 0     & 0     & ⋯     & 0     & 0     & 0     & 0     & 0     & 0     & 0     & 0     & 0     & 0    \\\\\n",
       "\t 16295 & 0     & 0     & 0     & 0     & 0     & 1     & 0     & 0     & 0     & ⋯     & 0     & 0     & 1     & 2     & 0     & 0     & 0     & 0     & 0     & 0    \\\\\n",
       "\t 16526 & 0     & 0     & 0     & 0     & 0     & 0     & 0     & 0     & 1     & ⋯     & 0     & 0     & 0     & 3     & 0     & 0     & 0     & 0     & 0     & 0    \\\\\n",
       "\t 17282 & 0     & 0     & 0     & 0     & 0     & 0     & 0     & 0     & 0     & ⋯     & 0     & 0     & 0     & 1     & 0     & 0     & 0     & 0     & 0     & 0    \\\\\n",
       "\t 17388 & 0     & 0     & 1     & 1     & 0     & 0     & 0     & 0     & 1     & ⋯     & 0     & 1     & 0     & 0     & 0     & 0     & 0     & 1     & 0     & 0    \\\\\n",
       "\t 17683 & 1     & 0     & 0     & 0     & 0     & 0     & 0     & 0     & 0     & ⋯     & 0     & 0     & 0     & 2     & 0     & 0     & 0     & 0     & 0     & 0    \\\\\n",
       "\\end{tabular}\n"
      ],
      "text/markdown": [
       "\n",
       "customer_id | 1 | 2 | 3 | 4 | 5 | 6 | 7 | 8 | 9 | ⋯ | 17 | 18 | 19 | 20 | 21 | 22 | 23 | 24 | 25 | 26 | \n",
       "|---|---|---|---|---|---|\n",
       "| 16240 | 1     | 0     | 0     | 0     | 0     | 0     | 1     | 0     | 0     | ⋯     | 0     | 0     | 0     | 0     | 0     | 0     | 0     | 0     | 0     | 0     | \n",
       "| 16295 | 0     | 0     | 0     | 0     | 0     | 1     | 0     | 0     | 0     | ⋯     | 0     | 0     | 1     | 2     | 0     | 0     | 0     | 0     | 0     | 0     | \n",
       "| 16526 | 0     | 0     | 0     | 0     | 0     | 0     | 0     | 0     | 1     | ⋯     | 0     | 0     | 0     | 3     | 0     | 0     | 0     | 0     | 0     | 0     | \n",
       "| 17282 | 0     | 0     | 0     | 0     | 0     | 0     | 0     | 0     | 0     | ⋯     | 0     | 0     | 0     | 1     | 0     | 0     | 0     | 0     | 0     | 0     | \n",
       "| 17388 | 0     | 0     | 1     | 1     | 0     | 0     | 0     | 0     | 1     | ⋯     | 0     | 1     | 0     | 0     | 0     | 0     | 0     | 1     | 0     | 0     | \n",
       "| 17683 | 1     | 0     | 0     | 0     | 0     | 0     | 0     | 0     | 0     | ⋯     | 0     | 0     | 0     | 2     | 0     | 0     | 0     | 0     | 0     | 0     | \n",
       "\n",
       "\n"
      ],
      "text/plain": [
       "  customer_id 1 2 3 4 5 6 7 8 9 ⋯ 17 18 19 20 21 22 23 24 25 26\n",
       "1 16240       1 0 0 0 0 0 1 0 0 ⋯ 0  0  0  0  0  0  0  0  0  0 \n",
       "2 16295       0 0 0 0 0 1 0 0 0 ⋯ 0  0  1  2  0  0  0  0  0  0 \n",
       "3 16526       0 0 0 0 0 0 0 0 1 ⋯ 0  0  0  3  0  0  0  0  0  0 \n",
       "4 17282       0 0 0 0 0 0 0 0 0 ⋯ 0  0  0  1  0  0  0  0  0  0 \n",
       "5 17388       0 0 1 1 0 0 0 0 1 ⋯ 0  1  0  0  0  0  0  1  0  0 \n",
       "6 17683       1 0 0 0 0 0 0 0 0 ⋯ 0  0  0  2  0  0  0  0  0  0 "
      ]
     },
     "metadata": {},
     "output_type": "display_data"
    }
   ],
   "source": [
    "df.7<-cast(df.7,customer_id~category,value=\"product_price\") \n",
    "head(df.7)"
   ]
  },
  {
   "cell_type": "code",
   "execution_count": 61,
   "metadata": {
    "ExecuteTime": {
     "end_time": "2018-05-04T03:34:46.590614Z",
     "start_time": "2018-05-04T03:34:46.792Z"
    }
   },
   "outputs": [],
   "source": [
    "df.3$purchase20 <- 0\n",
    "df.3$purchase20[df.3$customer_id %in% unique(df.7$customer_id[df.7[,21] > 0])] <-1"
   ]
  },
  {
   "cell_type": "code",
   "execution_count": 62,
   "metadata": {
    "ExecuteTime": {
     "end_time": "2018-05-04T03:34:48.815832Z",
     "start_time": "2018-05-04T03:34:49.162Z"
    }
   },
   "outputs": [
    {
     "data": {
      "text/html": [
       "<table>\n",
       "<thead><tr><th scope=col>customer_id</th><th scope=col>1</th><th scope=col>2</th><th scope=col>3</th><th scope=col>4</th><th scope=col>5</th><th scope=col>6</th><th scope=col>7</th><th scope=col>8</th><th scope=col>9</th><th scope=col>⋯</th><th scope=col>18</th><th scope=col>19</th><th scope=col>20</th><th scope=col>21</th><th scope=col>22</th><th scope=col>23</th><th scope=col>24</th><th scope=col>25</th><th scope=col>group</th><th scope=col>purchase20</th></tr></thead>\n",
       "<tbody>\n",
       "\t<tr><td>16240   </td><td> 0      </td><td>0       </td><td>0.0     </td><td>0       </td><td>0       </td><td> 0      </td><td> 0      </td><td>0       </td><td>0       </td><td>⋯       </td><td> 0      </td><td> 0.0    </td><td> 0.00000</td><td>0       </td><td>0       </td><td>0       </td><td> 0.0    </td><td>0       </td><td>6       </td><td>0       </td></tr>\n",
       "\t<tr><td>16295   </td><td> 0      </td><td>0       </td><td>0.0     </td><td>0       </td><td>0       </td><td> 6      </td><td> 0      </td><td>0       </td><td>0       </td><td>⋯       </td><td> 0      </td><td>10.0    </td><td> 9.00000</td><td>0       </td><td>0       </td><td>0       </td><td> 0.0    </td><td>0       </td><td>1       </td><td>1       </td></tr>\n",
       "\t<tr><td>16315   </td><td> 0      </td><td>0       </td><td>9.4     </td><td>0       </td><td>9       </td><td> 0      </td><td>17      </td><td>0       </td><td>8       </td><td>⋯       </td><td>21      </td><td> 4.5    </td><td>93.00000</td><td>0       </td><td>0       </td><td>0       </td><td> 5.0    </td><td>0       </td><td>2       </td><td>0       </td></tr>\n",
       "\t<tr><td>16518   </td><td>41      </td><td>0       </td><td>0.0     </td><td>0       </td><td>0       </td><td> 0      </td><td> 0      </td><td>0       </td><td>0       </td><td>⋯       </td><td> 0      </td><td> 7.0    </td><td>18.33333</td><td>0       </td><td>0       </td><td>0       </td><td>32.4    </td><td>0       </td><td>1       </td><td>0       </td></tr>\n",
       "\t<tr><td>16526   </td><td> 0      </td><td>3       </td><td>4.0     </td><td>0       </td><td>0       </td><td>21      </td><td> 0      </td><td>0       </td><td>0       </td><td>⋯       </td><td>13      </td><td> 4.0    </td><td>19.00000</td><td>0       </td><td>0       </td><td>0       </td><td>11.5    </td><td>0       </td><td>1       </td><td>1       </td></tr>\n",
       "\t<tr><td>17111   </td><td>30      </td><td>0       </td><td>6.0     </td><td>0       </td><td>6       </td><td> 0      </td><td> 0      </td><td>0       </td><td>0       </td><td>⋯       </td><td> 0      </td><td> 0.0    </td><td>25.00000</td><td>0       </td><td>0       </td><td>0       </td><td> 0.0    </td><td>0       </td><td>1       </td><td>0       </td></tr>\n",
       "</tbody>\n",
       "</table>\n"
      ],
      "text/latex": [
       "\\begin{tabular}{r|llllllllllllllllllllllllllll}\n",
       " customer\\_id & 1 & 2 & 3 & 4 & 5 & 6 & 7 & 8 & 9 & ⋯ & 18 & 19 & 20 & 21 & 22 & 23 & 24 & 25 & group & purchase20\\\\\n",
       "\\hline\n",
       "\t 16240    &  0       & 0        & 0.0      & 0        & 0        &  0       &  0       & 0        & 0        & ⋯        &  0       &  0.0     &  0.00000 & 0        & 0        & 0        &  0.0     & 0        & 6        & 0       \\\\\n",
       "\t 16295    &  0       & 0        & 0.0      & 0        & 0        &  6       &  0       & 0        & 0        & ⋯        &  0       & 10.0     &  9.00000 & 0        & 0        & 0        &  0.0     & 0        & 1        & 1       \\\\\n",
       "\t 16315    &  0       & 0        & 9.4      & 0        & 9        &  0       & 17       & 0        & 8        & ⋯        & 21       &  4.5     & 93.00000 & 0        & 0        & 0        &  5.0     & 0        & 2        & 0       \\\\\n",
       "\t 16518    & 41       & 0        & 0.0      & 0        & 0        &  0       &  0       & 0        & 0        & ⋯        &  0       &  7.0     & 18.33333 & 0        & 0        & 0        & 32.4     & 0        & 1        & 0       \\\\\n",
       "\t 16526    &  0       & 3        & 4.0      & 0        & 0        & 21       &  0       & 0        & 0        & ⋯        & 13       &  4.0     & 19.00000 & 0        & 0        & 0        & 11.5     & 0        & 1        & 1       \\\\\n",
       "\t 17111    & 30       & 0        & 6.0      & 0        & 6        &  0       &  0       & 0        & 0        & ⋯        &  0       &  0.0     & 25.00000 & 0        & 0        & 0        &  0.0     & 0        & 1        & 0       \\\\\n",
       "\\end{tabular}\n"
      ],
      "text/markdown": [
       "\n",
       "customer_id | 1 | 2 | 3 | 4 | 5 | 6 | 7 | 8 | 9 | ⋯ | 18 | 19 | 20 | 21 | 22 | 23 | 24 | 25 | group | purchase20 | \n",
       "|---|---|---|---|---|---|\n",
       "| 16240    |  0       | 0        | 0.0      | 0        | 0        |  0       |  0       | 0        | 0        | ⋯        |  0       |  0.0     |  0.00000 | 0        | 0        | 0        |  0.0     | 0        | 6        | 0        | \n",
       "| 16295    |  0       | 0        | 0.0      | 0        | 0        |  6       |  0       | 0        | 0        | ⋯        |  0       | 10.0     |  9.00000 | 0        | 0        | 0        |  0.0     | 0        | 1        | 1        | \n",
       "| 16315    |  0       | 0        | 9.4      | 0        | 9        |  0       | 17       | 0        | 8        | ⋯        | 21       |  4.5     | 93.00000 | 0        | 0        | 0        |  5.0     | 0        | 2        | 0        | \n",
       "| 16518    | 41       | 0        | 0.0      | 0        | 0        |  0       |  0       | 0        | 0        | ⋯        |  0       |  7.0     | 18.33333 | 0        | 0        | 0        | 32.4     | 0        | 1        | 0        | \n",
       "| 16526    |  0       | 3        | 4.0      | 0        | 0        | 21       |  0       | 0        | 0        | ⋯        | 13       |  4.0     | 19.00000 | 0        | 0        | 0        | 11.5     | 0        | 1        | 1        | \n",
       "| 17111    | 30       | 0        | 6.0      | 0        | 6        |  0       |  0       | 0        | 0        | ⋯        |  0       |  0.0     | 25.00000 | 0        | 0        | 0        |  0.0     | 0        | 1        | 0        | \n",
       "\n",
       "\n"
      ],
      "text/plain": [
       "  customer_id 1  2 3   4 5 6  7  8 9 ⋯ 18 19   20       21 22 23 24   25 group\n",
       "1 16240        0 0 0.0 0 0  0  0 0 0 ⋯  0  0.0  0.00000 0  0  0   0.0 0  6    \n",
       "2 16295        0 0 0.0 0 0  6  0 0 0 ⋯  0 10.0  9.00000 0  0  0   0.0 0  1    \n",
       "3 16315        0 0 9.4 0 9  0 17 0 8 ⋯ 21  4.5 93.00000 0  0  0   5.0 0  2    \n",
       "4 16518       41 0 0.0 0 0  0  0 0 0 ⋯  0  7.0 18.33333 0  0  0  32.4 0  1    \n",
       "5 16526        0 3 4.0 0 0 21  0 0 0 ⋯ 13  4.0 19.00000 0  0  0  11.5 0  1    \n",
       "6 17111       30 0 6.0 0 6  0  0 0 0 ⋯  0  0.0 25.00000 0  0  0   0.0 0  1    \n",
       "  purchase20\n",
       "1 0         \n",
       "2 1         \n",
       "3 0         \n",
       "4 0         \n",
       "5 1         \n",
       "6 0         "
      ]
     },
     "metadata": {},
     "output_type": "display_data"
    }
   ],
   "source": [
    "head(df.3)"
   ]
  },
  {
   "cell_type": "code",
   "execution_count": 63,
   "metadata": {
    "ExecuteTime": {
     "end_time": "2018-05-04T03:34:56.947120Z",
     "start_time": "2018-05-04T03:34:56.735Z"
    }
   },
   "outputs": [
    {
     "data": {
      "text/html": [
       "<table>\n",
       "<thead><tr><th scope=col>customer_id</th><th scope=col>1</th><th scope=col>2</th><th scope=col>3</th><th scope=col>4</th><th scope=col>5</th><th scope=col>6</th><th scope=col>7</th><th scope=col>8</th><th scope=col>9</th><th scope=col>⋯</th><th scope=col>18</th><th scope=col>19</th><th scope=col>20</th><th scope=col>21</th><th scope=col>22</th><th scope=col>23</th><th scope=col>24</th><th scope=col>25</th><th scope=col>group</th><th scope=col>purchase20</th></tr></thead>\n",
       "<tbody>\n",
       "\t<tr><td>16240      </td><td>-0.4815985 </td><td>-0.3493718 </td><td>-0.4430789 </td><td>-0.3432145 </td><td>-0.4055171 </td><td>-0.6544809 </td><td>-0.3287826 </td><td>-0.3333427 </td><td>-0.1876118 </td><td>⋯          </td><td>-0.2392538 </td><td>-0.4187275 </td><td>-0.90868618</td><td>-0.05767063</td><td>-0.196774  </td><td>-0.08885119</td><td>-0.93184155</td><td>-0.2866298 </td><td>6          </td><td>0          </td></tr>\n",
       "\t<tr><td>16295      </td><td>-0.4815985 </td><td>-0.3493718 </td><td>-0.4430789 </td><td>-0.3432145 </td><td>-0.4055171 </td><td>-0.1810690 </td><td>-0.3287826 </td><td>-0.3333427 </td><td>-0.1876118 </td><td>⋯          </td><td>-0.2392538 </td><td> 1.1947302 </td><td>-0.03944117</td><td>-0.05767063</td><td>-0.196774  </td><td>-0.08885119</td><td>-0.93184155</td><td>-0.2866298 </td><td>1          </td><td>1          </td></tr>\n",
       "\t<tr><td>16315      </td><td>-0.4815985 </td><td>-0.3493718 </td><td> 1.1207751 </td><td>-0.3432145 </td><td> 0.8638368 </td><td>-0.6544809 </td><td> 1.0474233 </td><td>-0.3333427 </td><td> 0.4010589 </td><td>⋯          </td><td> 4.5455033 </td><td> 0.3073285 </td><td> 8.07351223</td><td>-0.05767063</td><td>-0.196774  </td><td>-0.08885119</td><td>-0.55951533</td><td>-0.2866298 </td><td>2          </td><td>0          </td></tr>\n",
       "\t<tr><td>16518      </td><td> 1.8717676 </td><td>-0.3493718 </td><td>-0.4430789 </td><td>-0.3432145 </td><td>-0.4055171 </td><td>-0.6544809 </td><td>-0.3287826 </td><td>-0.3333427 </td><td>-0.1876118 </td><td>⋯          </td><td>-0.2392538 </td><td> 0.7106929 </td><td> 0.86199810</td><td>-0.05767063</td><td>-0.196774  </td><td>-0.08885119</td><td> 1.48083240</td><td>-0.2866298 </td><td>1          </td><td>0          </td></tr>\n",
       "\t<tr><td>16526      </td><td>-0.4815985 </td><td> 0.0276295 </td><td> 0.2223909 </td><td>-0.3432145 </td><td>-0.4055171 </td><td> 1.0024605 </td><td>-0.3287826 </td><td>-0.3333427 </td><td>-0.1876118 </td><td>⋯          </td><td> 2.7227387 </td><td> 0.2266556 </td><td> 0.92638662</td><td>-0.05767063</td><td>-0.196774  </td><td>-0.08885119</td><td>-0.07549123</td><td>-0.2866298 </td><td>1          </td><td>1          </td></tr>\n",
       "\t<tr><td>17111      </td><td> 1.2403767 </td><td>-0.3493718 </td><td> 0.5551258 </td><td>-0.3432145 </td><td> 0.4407188 </td><td>-0.6544809 </td><td>-0.3287826 </td><td>-0.3333427 </td><td>-0.1876118 </td><td>⋯          </td><td>-0.2392538 </td><td>-0.4187275 </td><td> 1.50588329</td><td>-0.05767063</td><td>-0.196774  </td><td>-0.08885119</td><td>-0.93184155</td><td>-0.2866298 </td><td>1          </td><td>0          </td></tr>\n",
       "</tbody>\n",
       "</table>\n"
      ],
      "text/latex": [
       "\\begin{tabular}{r|llllllllllllllllllllllllllll}\n",
       " customer\\_id & 1 & 2 & 3 & 4 & 5 & 6 & 7 & 8 & 9 & ⋯ & 18 & 19 & 20 & 21 & 22 & 23 & 24 & 25 & group & purchase20\\\\\n",
       "\\hline\n",
       "\t 16240       & -0.4815985  & -0.3493718  & -0.4430789  & -0.3432145  & -0.4055171  & -0.6544809  & -0.3287826  & -0.3333427  & -0.1876118  & ⋯           & -0.2392538  & -0.4187275  & -0.90868618 & -0.05767063 & -0.196774   & -0.08885119 & -0.93184155 & -0.2866298  & 6           & 0          \\\\\n",
       "\t 16295       & -0.4815985  & -0.3493718  & -0.4430789  & -0.3432145  & -0.4055171  & -0.1810690  & -0.3287826  & -0.3333427  & -0.1876118  & ⋯           & -0.2392538  &  1.1947302  & -0.03944117 & -0.05767063 & -0.196774   & -0.08885119 & -0.93184155 & -0.2866298  & 1           & 1          \\\\\n",
       "\t 16315       & -0.4815985  & -0.3493718  &  1.1207751  & -0.3432145  &  0.8638368  & -0.6544809  &  1.0474233  & -0.3333427  &  0.4010589  & ⋯           &  4.5455033  &  0.3073285  &  8.07351223 & -0.05767063 & -0.196774   & -0.08885119 & -0.55951533 & -0.2866298  & 2           & 0          \\\\\n",
       "\t 16518       &  1.8717676  & -0.3493718  & -0.4430789  & -0.3432145  & -0.4055171  & -0.6544809  & -0.3287826  & -0.3333427  & -0.1876118  & ⋯           & -0.2392538  &  0.7106929  &  0.86199810 & -0.05767063 & -0.196774   & -0.08885119 &  1.48083240 & -0.2866298  & 1           & 0          \\\\\n",
       "\t 16526       & -0.4815985  &  0.0276295  &  0.2223909  & -0.3432145  & -0.4055171  &  1.0024605  & -0.3287826  & -0.3333427  & -0.1876118  & ⋯           &  2.7227387  &  0.2266556  &  0.92638662 & -0.05767063 & -0.196774   & -0.08885119 & -0.07549123 & -0.2866298  & 1           & 1          \\\\\n",
       "\t 17111       &  1.2403767  & -0.3493718  &  0.5551258  & -0.3432145  &  0.4407188  & -0.6544809  & -0.3287826  & -0.3333427  & -0.1876118  & ⋯           & -0.2392538  & -0.4187275  &  1.50588329 & -0.05767063 & -0.196774   & -0.08885119 & -0.93184155 & -0.2866298  & 1           & 0          \\\\\n",
       "\\end{tabular}\n"
      ],
      "text/markdown": [
       "\n",
       "customer_id | 1 | 2 | 3 | 4 | 5 | 6 | 7 | 8 | 9 | ⋯ | 18 | 19 | 20 | 21 | 22 | 23 | 24 | 25 | group | purchase20 | \n",
       "|---|---|---|---|---|---|\n",
       "| 16240       | -0.4815985  | -0.3493718  | -0.4430789  | -0.3432145  | -0.4055171  | -0.6544809  | -0.3287826  | -0.3333427  | -0.1876118  | ⋯           | -0.2392538  | -0.4187275  | -0.90868618 | -0.05767063 | -0.196774   | -0.08885119 | -0.93184155 | -0.2866298  | 6           | 0           | \n",
       "| 16295       | -0.4815985  | -0.3493718  | -0.4430789  | -0.3432145  | -0.4055171  | -0.1810690  | -0.3287826  | -0.3333427  | -0.1876118  | ⋯           | -0.2392538  |  1.1947302  | -0.03944117 | -0.05767063 | -0.196774   | -0.08885119 | -0.93184155 | -0.2866298  | 1           | 1           | \n",
       "| 16315       | -0.4815985  | -0.3493718  |  1.1207751  | -0.3432145  |  0.8638368  | -0.6544809  |  1.0474233  | -0.3333427  |  0.4010589  | ⋯           |  4.5455033  |  0.3073285  |  8.07351223 | -0.05767063 | -0.196774   | -0.08885119 | -0.55951533 | -0.2866298  | 2           | 0           | \n",
       "| 16518       |  1.8717676  | -0.3493718  | -0.4430789  | -0.3432145  | -0.4055171  | -0.6544809  | -0.3287826  | -0.3333427  | -0.1876118  | ⋯           | -0.2392538  |  0.7106929  |  0.86199810 | -0.05767063 | -0.196774   | -0.08885119 |  1.48083240 | -0.2866298  | 1           | 0           | \n",
       "| 16526       | -0.4815985  |  0.0276295  |  0.2223909  | -0.3432145  | -0.4055171  |  1.0024605  | -0.3287826  | -0.3333427  | -0.1876118  | ⋯           |  2.7227387  |  0.2266556  |  0.92638662 | -0.05767063 | -0.196774   | -0.08885119 | -0.07549123 | -0.2866298  | 1           | 1           | \n",
       "| 17111       |  1.2403767  | -0.3493718  |  0.5551258  | -0.3432145  |  0.4407188  | -0.6544809  | -0.3287826  | -0.3333427  | -0.1876118  | ⋯           | -0.2392538  | -0.4187275  |  1.50588329 | -0.05767063 | -0.196774   | -0.08885119 | -0.93184155 | -0.2866298  | 1           | 0           | \n",
       "\n",
       "\n"
      ],
      "text/plain": [
       "  customer_id 1          2          3          4          5          6         \n",
       "1 16240       -0.4815985 -0.3493718 -0.4430789 -0.3432145 -0.4055171 -0.6544809\n",
       "2 16295       -0.4815985 -0.3493718 -0.4430789 -0.3432145 -0.4055171 -0.1810690\n",
       "3 16315       -0.4815985 -0.3493718  1.1207751 -0.3432145  0.8638368 -0.6544809\n",
       "4 16518        1.8717676 -0.3493718 -0.4430789 -0.3432145 -0.4055171 -0.6544809\n",
       "5 16526       -0.4815985  0.0276295  0.2223909 -0.3432145 -0.4055171  1.0024605\n",
       "6 17111        1.2403767 -0.3493718  0.5551258 -0.3432145  0.4407188 -0.6544809\n",
       "  7          8          9          ⋯ 18         19         20         \n",
       "1 -0.3287826 -0.3333427 -0.1876118 ⋯ -0.2392538 -0.4187275 -0.90868618\n",
       "2 -0.3287826 -0.3333427 -0.1876118 ⋯ -0.2392538  1.1947302 -0.03944117\n",
       "3  1.0474233 -0.3333427  0.4010589 ⋯  4.5455033  0.3073285  8.07351223\n",
       "4 -0.3287826 -0.3333427 -0.1876118 ⋯ -0.2392538  0.7106929  0.86199810\n",
       "5 -0.3287826 -0.3333427 -0.1876118 ⋯  2.7227387  0.2266556  0.92638662\n",
       "6 -0.3287826 -0.3333427 -0.1876118 ⋯ -0.2392538 -0.4187275  1.50588329\n",
       "  21          22        23          24          25         group purchase20\n",
       "1 -0.05767063 -0.196774 -0.08885119 -0.93184155 -0.2866298 6     0         \n",
       "2 -0.05767063 -0.196774 -0.08885119 -0.93184155 -0.2866298 1     1         \n",
       "3 -0.05767063 -0.196774 -0.08885119 -0.55951533 -0.2866298 2     0         \n",
       "4 -0.05767063 -0.196774 -0.08885119  1.48083240 -0.2866298 1     0         \n",
       "5 -0.05767063 -0.196774 -0.08885119 -0.07549123 -0.2866298 1     1         \n",
       "6 -0.05767063 -0.196774 -0.08885119 -0.93184155 -0.2866298 1     0         "
      ]
     },
     "metadata": {},
     "output_type": "display_data"
    }
   ],
   "source": [
    "# normalize the data\n",
    "df.3[,2:26] <- scale(df.3[,2:26])\n",
    "head(df.3)"
   ]
  },
  {
   "cell_type": "code",
   "execution_count": 64,
   "metadata": {
    "ExecuteTime": {
     "end_time": "2018-05-04T03:35:05.294084Z",
     "start_time": "2018-05-04T03:35:05.388Z"
    }
   },
   "outputs": [],
   "source": [
    "# set training data and test data\n",
    "set.seed(123)\n",
    "df_train <- df.3[sample(1:nrow(df.3), nrow(df.3)*0.7),] \n",
    "df_test <- df.3[-sample(1:nrow(df.3), nrow(df.3)*0.3),]"
   ]
  },
  {
   "cell_type": "code",
   "execution_count": 65,
   "metadata": {
    "ExecuteTime": {
     "end_time": "2018-05-04T03:37:36.307489Z",
     "start_time": "2018-05-04T03:35:07.983Z"
    }
   },
   "outputs": [
    {
     "data": {
      "text/html": [
       "<table>\n",
       "<thead><tr><th></th><th scope=col>Package</th><th scope=col>Version</th></tr></thead>\n",
       "<tbody>\n",
       "\t<tr><th scope=row>assertthat</th><td>assertthat </td><td>0.2.0      </td></tr>\n",
       "\t<tr><th scope=row>base64enc</th><td>base64enc  </td><td>0.1-3      </td></tr>\n",
       "\t<tr><th scope=row>BH</th><td>BH         </td><td>1.66.0-1   </td></tr>\n",
       "\t<tr><th scope=row>bindr</th><td>bindr      </td><td>0.1.1      </td></tr>\n",
       "\t<tr><th scope=row>bindrcpp</th><td>bindrcpp   </td><td>0.2.2      </td></tr>\n",
       "\t<tr><th scope=row>cli</th><td>cli        </td><td>1.0.0      </td></tr>\n",
       "\t<tr><th scope=row>colorspace</th><td>colorspace </td><td>1.3-2      </td></tr>\n",
       "\t<tr><th scope=row>crayon</th><td>crayon     </td><td>1.3.4      </td></tr>\n",
       "\t<tr><th scope=row>curl</th><td>curl       </td><td>3.2        </td></tr>\n",
       "\t<tr><th scope=row>devtools</th><td>devtools   </td><td>1.13.5     </td></tr>\n",
       "\t<tr><th scope=row>dichromat</th><td>dichromat  </td><td>2.0-0      </td></tr>\n",
       "\t<tr><th scope=row>digest</th><td>digest     </td><td>0.6.15     </td></tr>\n",
       "\t<tr><th scope=row>dplyr</th><td>dplyr      </td><td>0.7.4      </td></tr>\n",
       "\t<tr><th scope=row>evaluate</th><td>evaluate   </td><td>0.10.1     </td></tr>\n",
       "\t<tr><th scope=row>ggplot2</th><td>ggplot2    </td><td>2.2.1      </td></tr>\n",
       "\t<tr><th scope=row>git2r</th><td>git2r      </td><td>0.21.0     </td></tr>\n",
       "\t<tr><th scope=row>glue</th><td>glue       </td><td>1.2.0      </td></tr>\n",
       "\t<tr><th scope=row>gtable</th><td>gtable     </td><td>0.2.0      </td></tr>\n",
       "\t<tr><th scope=row>htmltools</th><td>htmltools  </td><td>0.3.6      </td></tr>\n",
       "\t<tr><th scope=row>httr</th><td>httr       </td><td>1.3.1      </td></tr>\n",
       "\t<tr><th scope=row>IRdisplay</th><td>IRdisplay  </td><td>0.4.4      </td></tr>\n",
       "\t<tr><th scope=row>IRkernel</th><td>IRkernel   </td><td>0.8.12.9000</td></tr>\n",
       "\t<tr><th scope=row>jsonlite</th><td>jsonlite   </td><td>1.5        </td></tr>\n",
       "\t<tr><th scope=row>labeling</th><td>labeling   </td><td>0.3        </td></tr>\n",
       "\t<tr><th scope=row>lazyeval</th><td>lazyeval   </td><td>0.2.1      </td></tr>\n",
       "\t<tr><th scope=row>lubridate</th><td>lubridate  </td><td>1.7.4      </td></tr>\n",
       "\t<tr><th scope=row>magrittr</th><td>magrittr   </td><td>1.5        </td></tr>\n",
       "\t<tr><th scope=row>memoise</th><td>memoise    </td><td>1.1.0      </td></tr>\n",
       "\t<tr><th scope=row>mime</th><td>mime       </td><td>0.5        </td></tr>\n",
       "\t<tr><th scope=row>munsell</th><td>munsell    </td><td>0.4.3      </td></tr>\n",
       "\t<tr><th scope=row>⋮</th><td>⋮</td><td>⋮</td></tr>\n",
       "\t<tr><th scope=row>mgcv</th><td>mgcv         </td><td>1.8-16       </td></tr>\n",
       "\t<tr><th scope=row>nlme</th><td>nlme         </td><td>3.1-129      </td></tr>\n",
       "\t<tr><th scope=row>nnet</th><td>nnet         </td><td>7.3-12       </td></tr>\n",
       "\t<tr><th scope=row>parallel</th><td>parallel     </td><td>3.3.3        </td></tr>\n",
       "\t<tr><th scope=row>rpart</th><td>rpart        </td><td>4.1-10       </td></tr>\n",
       "\t<tr><th scope=row>spatial</th><td>spatial      </td><td>7.3-11       </td></tr>\n",
       "\t<tr><th scope=row>splines</th><td>splines      </td><td>3.3.3        </td></tr>\n",
       "\t<tr><th scope=row>stats</th><td>stats        </td><td>3.3.3        </td></tr>\n",
       "\t<tr><th scope=row>stats4</th><td>stats4       </td><td>3.3.3        </td></tr>\n",
       "\t<tr><th scope=row>survival</th><td>survival     </td><td>2.40-1       </td></tr>\n",
       "\t<tr><th scope=row>tcltk</th><td>tcltk        </td><td>3.3.3        </td></tr>\n",
       "\t<tr><th scope=row>tools</th><td>tools        </td><td>3.3.3        </td></tr>\n",
       "\t<tr><th scope=row>utils</th><td>utils        </td><td>3.3.3        </td></tr>\n",
       "\t<tr><th scope=row>forcats</th><td>forcats      </td><td>0.3.0        </td></tr>\n",
       "\t<tr><th scope=row>forecast</th><td>forecast     </td><td>8.3          </td></tr>\n",
       "\t<tr><th scope=row>fracdiff</th><td>fracdiff     </td><td>1.4-2        </td></tr>\n",
       "\t<tr><th scope=row>lmtest</th><td>lmtest       </td><td>0.9-36       </td></tr>\n",
       "\t<tr><th scope=row>numDeriv</th><td>numDeriv     </td><td>2016.8-1     </td></tr>\n",
       "\t<tr><th scope=row>pscl</th><td>pscl         </td><td>1.5.2        </td></tr>\n",
       "\t<tr><th scope=row>quadprog</th><td>quadprog     </td><td>1.5-5        </td></tr>\n",
       "\t<tr><th scope=row>quantmod</th><td>quantmod     </td><td>0.4-13       </td></tr>\n",
       "\t<tr><th scope=row>RcppArmadillo</th><td>RcppArmadillo</td><td>0.8.400.0.0  </td></tr>\n",
       "\t<tr><th scope=row>reshape</th><td>reshape      </td><td>0.8.7        </td></tr>\n",
       "\t<tr><th scope=row>timeDate</th><td>timeDate     </td><td>3043.102     </td></tr>\n",
       "\t<tr><th scope=row>tseries</th><td>tseries      </td><td>0.10-44      </td></tr>\n",
       "\t<tr><th scope=row>TTR</th><td>TTR          </td><td>0.23-3       </td></tr>\n",
       "\t<tr><th scope=row>urca</th><td>urca         </td><td>1.3-0        </td></tr>\n",
       "\t<tr><th scope=row>uroot</th><td>uroot        </td><td>2.0-9        </td></tr>\n",
       "\t<tr><th scope=row>xts</th><td>xts          </td><td>0.10-2       </td></tr>\n",
       "\t<tr><th scope=row>zoo</th><td>zoo          </td><td>1.8-1        </td></tr>\n",
       "</tbody>\n",
       "</table>\n"
      ],
      "text/latex": [
       "\\begin{tabular}{r|ll}\n",
       "  & Package & Version\\\\\n",
       "\\hline\n",
       "\tassertthat & assertthat  & 0.2.0      \\\\\n",
       "\tbase64enc & base64enc   & 0.1-3      \\\\\n",
       "\tBH & BH          & 1.66.0-1   \\\\\n",
       "\tbindr & bindr       & 0.1.1      \\\\\n",
       "\tbindrcpp & bindrcpp    & 0.2.2      \\\\\n",
       "\tcli & cli         & 1.0.0      \\\\\n",
       "\tcolorspace & colorspace  & 1.3-2      \\\\\n",
       "\tcrayon & crayon      & 1.3.4      \\\\\n",
       "\tcurl & curl        & 3.2        \\\\\n",
       "\tdevtools & devtools    & 1.13.5     \\\\\n",
       "\tdichromat & dichromat   & 2.0-0      \\\\\n",
       "\tdigest & digest      & 0.6.15     \\\\\n",
       "\tdplyr & dplyr       & 0.7.4      \\\\\n",
       "\tevaluate & evaluate    & 0.10.1     \\\\\n",
       "\tggplot2 & ggplot2     & 2.2.1      \\\\\n",
       "\tgit2r & git2r       & 0.21.0     \\\\\n",
       "\tglue & glue        & 1.2.0      \\\\\n",
       "\tgtable & gtable      & 0.2.0      \\\\\n",
       "\thtmltools & htmltools   & 0.3.6      \\\\\n",
       "\thttr & httr        & 1.3.1      \\\\\n",
       "\tIRdisplay & IRdisplay   & 0.4.4      \\\\\n",
       "\tIRkernel & IRkernel    & 0.8.12.9000\\\\\n",
       "\tjsonlite & jsonlite    & 1.5        \\\\\n",
       "\tlabeling & labeling    & 0.3        \\\\\n",
       "\tlazyeval & lazyeval    & 0.2.1      \\\\\n",
       "\tlubridate & lubridate   & 1.7.4      \\\\\n",
       "\tmagrittr & magrittr    & 1.5        \\\\\n",
       "\tmemoise & memoise     & 1.1.0      \\\\\n",
       "\tmime & mime        & 0.5        \\\\\n",
       "\tmunsell & munsell     & 0.4.3      \\\\\n",
       "\t⋮ & ⋮ & ⋮\\\\\n",
       "\tmgcv & mgcv          & 1.8-16       \\\\\n",
       "\tnlme & nlme          & 3.1-129      \\\\\n",
       "\tnnet & nnet          & 7.3-12       \\\\\n",
       "\tparallel & parallel      & 3.3.3        \\\\\n",
       "\trpart & rpart         & 4.1-10       \\\\\n",
       "\tspatial & spatial       & 7.3-11       \\\\\n",
       "\tsplines & splines       & 3.3.3        \\\\\n",
       "\tstats & stats         & 3.3.3        \\\\\n",
       "\tstats4 & stats4        & 3.3.3        \\\\\n",
       "\tsurvival & survival      & 2.40-1       \\\\\n",
       "\ttcltk & tcltk         & 3.3.3        \\\\\n",
       "\ttools & tools         & 3.3.3        \\\\\n",
       "\tutils & utils         & 3.3.3        \\\\\n",
       "\tforcats & forcats       & 0.3.0        \\\\\n",
       "\tforecast & forecast      & 8.3          \\\\\n",
       "\tfracdiff & fracdiff      & 1.4-2        \\\\\n",
       "\tlmtest & lmtest        & 0.9-36       \\\\\n",
       "\tnumDeriv & numDeriv      & 2016.8-1     \\\\\n",
       "\tpscl & pscl          & 1.5.2        \\\\\n",
       "\tquadprog & quadprog      & 1.5-5        \\\\\n",
       "\tquantmod & quantmod      & 0.4-13       \\\\\n",
       "\tRcppArmadillo & RcppArmadillo & 0.8.400.0.0  \\\\\n",
       "\treshape & reshape       & 0.8.7        \\\\\n",
       "\ttimeDate & timeDate      & 3043.102     \\\\\n",
       "\ttseries & tseries       & 0.10-44      \\\\\n",
       "\tTTR & TTR           & 0.23-3       \\\\\n",
       "\turca & urca          & 1.3-0        \\\\\n",
       "\turoot & uroot         & 2.0-9        \\\\\n",
       "\txts & xts           & 0.10-2       \\\\\n",
       "\tzoo & zoo           & 1.8-1        \\\\\n",
       "\\end{tabular}\n"
      ],
      "text/markdown": [
       "\n",
       "| <!--/--> | Package | Version | \n",
       "|---|---|---|---|---|---|---|---|---|---|---|---|---|---|---|---|---|---|---|---|---|---|---|---|---|---|---|---|---|---|---|---|---|---|---|---|---|---|---|---|---|---|---|---|---|---|---|---|---|---|---|---|---|---|---|---|---|---|---|---|---|\n",
       "| assertthat | assertthat  | 0.2.0       | \n",
       "| base64enc | base64enc   | 0.1-3       | \n",
       "| BH | BH          | 1.66.0-1    | \n",
       "| bindr | bindr       | 0.1.1       | \n",
       "| bindrcpp | bindrcpp    | 0.2.2       | \n",
       "| cli | cli         | 1.0.0       | \n",
       "| colorspace | colorspace  | 1.3-2       | \n",
       "| crayon | crayon      | 1.3.4       | \n",
       "| curl | curl        | 3.2         | \n",
       "| devtools | devtools    | 1.13.5      | \n",
       "| dichromat | dichromat   | 2.0-0       | \n",
       "| digest | digest      | 0.6.15      | \n",
       "| dplyr | dplyr       | 0.7.4       | \n",
       "| evaluate | evaluate    | 0.10.1      | \n",
       "| ggplot2 | ggplot2     | 2.2.1       | \n",
       "| git2r | git2r       | 0.21.0      | \n",
       "| glue | glue        | 1.2.0       | \n",
       "| gtable | gtable      | 0.2.0       | \n",
       "| htmltools | htmltools   | 0.3.6       | \n",
       "| httr | httr        | 1.3.1       | \n",
       "| IRdisplay | IRdisplay   | 0.4.4       | \n",
       "| IRkernel | IRkernel    | 0.8.12.9000 | \n",
       "| jsonlite | jsonlite    | 1.5         | \n",
       "| labeling | labeling    | 0.3         | \n",
       "| lazyeval | lazyeval    | 0.2.1       | \n",
       "| lubridate | lubridate   | 1.7.4       | \n",
       "| magrittr | magrittr    | 1.5         | \n",
       "| memoise | memoise     | 1.1.0       | \n",
       "| mime | mime        | 0.5         | \n",
       "| munsell | munsell     | 0.4.3       | \n",
       "| ⋮ | ⋮ | ⋮ | \n",
       "| mgcv | mgcv          | 1.8-16        | \n",
       "| nlme | nlme          | 3.1-129       | \n",
       "| nnet | nnet          | 7.3-12        | \n",
       "| parallel | parallel      | 3.3.3         | \n",
       "| rpart | rpart         | 4.1-10        | \n",
       "| spatial | spatial       | 7.3-11        | \n",
       "| splines | splines       | 3.3.3         | \n",
       "| stats | stats         | 3.3.3         | \n",
       "| stats4 | stats4        | 3.3.3         | \n",
       "| survival | survival      | 2.40-1        | \n",
       "| tcltk | tcltk         | 3.3.3         | \n",
       "| tools | tools         | 3.3.3         | \n",
       "| utils | utils         | 3.3.3         | \n",
       "| forcats | forcats       | 0.3.0         | \n",
       "| forecast | forecast      | 8.3           | \n",
       "| fracdiff | fracdiff      | 1.4-2         | \n",
       "| lmtest | lmtest        | 0.9-36        | \n",
       "| numDeriv | numDeriv      | 2016.8-1      | \n",
       "| pscl | pscl          | 1.5.2         | \n",
       "| quadprog | quadprog      | 1.5-5         | \n",
       "| quantmod | quantmod      | 0.4-13        | \n",
       "| RcppArmadillo | RcppArmadillo | 0.8.400.0.0   | \n",
       "| reshape | reshape       | 0.8.7         | \n",
       "| timeDate | timeDate      | 3043.102      | \n",
       "| tseries | tseries       | 0.10-44       | \n",
       "| TTR | TTR           | 0.23-3        | \n",
       "| urca | urca          | 1.3-0         | \n",
       "| uroot | uroot         | 2.0-9         | \n",
       "| xts | xts           | 0.10-2        | \n",
       "| zoo | zoo           | 1.8-1         | \n",
       "\n",
       "\n"
      ],
      "text/plain": [
       "              Package       Version    \n",
       "assertthat    assertthat    0.2.0      \n",
       "base64enc     base64enc     0.1-3      \n",
       "BH            BH            1.66.0-1   \n",
       "bindr         bindr         0.1.1      \n",
       "bindrcpp      bindrcpp      0.2.2      \n",
       "cli           cli           1.0.0      \n",
       "colorspace    colorspace    1.3-2      \n",
       "crayon        crayon        1.3.4      \n",
       "curl          curl          3.2        \n",
       "devtools      devtools      1.13.5     \n",
       "dichromat     dichromat     2.0-0      \n",
       "digest        digest        0.6.15     \n",
       "dplyr         dplyr         0.7.4      \n",
       "evaluate      evaluate      0.10.1     \n",
       "ggplot2       ggplot2       2.2.1      \n",
       "git2r         git2r         0.21.0     \n",
       "glue          glue          1.2.0      \n",
       "gtable        gtable        0.2.0      \n",
       "htmltools     htmltools     0.3.6      \n",
       "httr          httr          1.3.1      \n",
       "IRdisplay     IRdisplay     0.4.4      \n",
       "IRkernel      IRkernel      0.8.12.9000\n",
       "jsonlite      jsonlite      1.5        \n",
       "labeling      labeling      0.3        \n",
       "lazyeval      lazyeval      0.2.1      \n",
       "lubridate     lubridate     1.7.4      \n",
       "magrittr      magrittr      1.5        \n",
       "memoise       memoise       1.1.0      \n",
       "mime          mime          0.5        \n",
       "munsell       munsell       0.4.3      \n",
       "⋮             ⋮             ⋮          \n",
       "mgcv          mgcv          1.8-16     \n",
       "nlme          nlme          3.1-129    \n",
       "nnet          nnet          7.3-12     \n",
       "parallel      parallel      3.3.3      \n",
       "rpart         rpart         4.1-10     \n",
       "spatial       spatial       7.3-11     \n",
       "splines       splines       3.3.3      \n",
       "stats         stats         3.3.3      \n",
       "stats4        stats4        3.3.3      \n",
       "survival      survival      2.40-1     \n",
       "tcltk         tcltk         3.3.3      \n",
       "tools         tools         3.3.3      \n",
       "utils         utils         3.3.3      \n",
       "forcats       forcats       0.3.0      \n",
       "forecast      forecast      8.3        \n",
       "fracdiff      fracdiff      1.4-2      \n",
       "lmtest        lmtest        0.9-36     \n",
       "numDeriv      numDeriv      2016.8-1   \n",
       "pscl          pscl          1.5.2      \n",
       "quadprog      quadprog      1.5-5      \n",
       "quantmod      quantmod      0.4-13     \n",
       "RcppArmadillo RcppArmadillo 0.8.400.0.0\n",
       "reshape       reshape       0.8.7      \n",
       "timeDate      timeDate      3043.102   \n",
       "tseries       tseries       0.10-44    \n",
       "TTR           TTR           0.23-3     \n",
       "urca          urca          1.3-0      \n",
       "uroot         uroot         2.0-9      \n",
       "xts           xts           0.10-2     \n",
       "zoo           zoo           1.8-1      "
      ]
     },
     "metadata": {},
     "output_type": "display_data"
    }
   ],
   "source": [
    "installed.packages()[,c(1,3)] \n",
    ".libPaths(c(.libPaths(),'UserLibrary')) \n",
    "install.packages('pscl', lib='UserLibrary')"
   ]
  },
  {
   "cell_type": "code",
   "execution_count": 66,
   "metadata": {
    "ExecuteTime": {
     "end_time": "2018-05-04T03:37:47.951468Z",
     "start_time": "2018-05-04T03:37:45.997Z"
    }
   },
   "outputs": [
    {
     "name": "stderr",
     "output_type": "stream",
     "text": [
      "Classes and Methods for R developed in the\n",
      "Political Science Computational Laboratory\n",
      "Department of Political Science\n",
      "Stanford University\n",
      "Simon Jackman\n",
      "hurdle and zeroinfl functions by Achim Zeileis\n"
     ]
    }
   ],
   "source": [
    "library('pscl')"
   ]
  },
  {
   "cell_type": "code",
   "execution_count": null,
   "metadata": {
    "ExecuteTime": {
     "start_time": "2018-05-04T03:37:51.736Z"
    }
   },
   "outputs": [],
   "source": [
    "logModel <- glm(as.factor(purchase20) ~., df_train, family = binomial)"
   ]
  },
  {
   "cell_type": "code",
   "execution_count": null,
   "metadata": {
    "ExecuteTime": {
     "end_time": "2018-05-04T03:28:48.300019Z",
     "start_time": "2018-05-04T03:16:34.372Z"
    }
   },
   "outputs": [],
   "source": [
    "summary(logModel)"
   ]
  },
  {
   "cell_type": "code",
   "execution_count": null,
   "metadata": {
    "ExecuteTime": {
     "end_time": "2018-05-04T03:28:48.302141Z",
     "start_time": "2018-05-04T03:16:34.373Z"
    }
   },
   "outputs": [],
   "source": [
    "# predict the probability of purchasing Category 20\n",
    "df_test$purchase20.prob <- predict(logModel, df_test, type = \"resp\")"
   ]
  },
  {
   "cell_type": "code",
   "execution_count": null,
   "metadata": {
    "ExecuteTime": {
     "end_time": "2018-05-04T03:28:48.304353Z",
     "start_time": "2018-05-04T03:16:34.374Z"
    }
   },
   "outputs": [],
   "source": [
    "# if the probability > 50% we would assume the customer would buy.\n",
    "df_test$purchase20.pred <- ifelse(df_test$purchase20.prob > 0.5, 1, 0)"
   ]
  },
  {
   "cell_type": "code",
   "execution_count": null,
   "metadata": {
    "ExecuteTime": {
     "end_time": "2018-05-04T03:28:48.306456Z",
     "start_time": "2018-05-04T03:16:34.375Z"
    }
   },
   "outputs": [],
   "source": [
    "head(df_test)"
   ]
  },
  {
   "cell_type": "code",
   "execution_count": null,
   "metadata": {
    "ExecuteTime": {
     "end_time": "2018-05-04T03:28:48.308632Z",
     "start_time": "2018-05-04T03:16:34.376Z"
    }
   },
   "outputs": [],
   "source": [
    "table(df_test$purchase20 == df_test$purchase20.pred)"
   ]
  },
  {
   "cell_type": "code",
   "execution_count": null,
   "metadata": {
    "ExecuteTime": {
     "end_time": "2018-05-04T03:28:48.310778Z",
     "start_time": "2018-05-04T03:16:34.376Z"
    }
   },
   "outputs": [],
   "source": [
    "#accuracy \n",
    "sum(df_test$purchase20 == df_test$purchase20.pred,na.rm = T)/nrow(df_test)"
   ]
  }
 ],
 "metadata": {
  "kernelspec": {
   "display_name": "R",
   "language": "R",
   "name": "ir"
  },
  "language_info": {
   "codemirror_mode": "r",
   "file_extension": ".r",
   "mimetype": "text/x-r-source",
   "name": "R",
   "pygments_lexer": "r",
   "version": "3.3.3"
  }
 },
 "nbformat": 4,
 "nbformat_minor": 2
}
